{
  "nbformat": 4,
  "nbformat_minor": 0,
  "metadata": {
    "colab": {
      "provenance": [],
      "authorship_tag": "ABX9TyNeyjWsl9pjXj/nNA0S292r",
      "include_colab_link": true
    },
    "kernelspec": {
      "name": "python3",
      "display_name": "Python 3"
    },
    "language_info": {
      "name": "python"
    }
  },
  "cells": [
    {
      "cell_type": "markdown",
      "metadata": {
        "id": "view-in-github",
        "colab_type": "text"
      },
      "source": [
        "<a href=\"https://colab.research.google.com/github/luiscarlosm33/SIM_YAC_UPSE2023/blob/main/Untitled12.ipynb\" target=\"_parent\"><img src=\"https://colab.research.google.com/assets/colab-badge.svg\" alt=\"Open In Colab\"/></a>"
      ]
    },
    {
      "cell_type": "code",
      "execution_count": 28,
      "metadata": {
        "id": "rAAn-qguPHyt"
      },
      "outputs": [],
      "source": [
        "import numpy  as np \n",
        "import math"
      ]
    },
    {
      "cell_type": "code",
      "source": [
        "L=10000\n",
        "dx=250\n",
        "Tiempo=100\n",
        "DT=1\n",
        "K=50 #Permeabilidad MD\n",
        "por=0.2\n",
        "vis=1 # centipoise\n",
        "Beta=1\n",
        "CompTotal=1**(-6) #ps1-1\n",
        "A=200000#ft^2"
      ],
      "metadata": {
        "id": "lzMEBdsiRYqC"
      },
      "execution_count": 87,
      "outputs": []
    },
    {
      "cell_type": "code",
      "source": [
        "Alpha=K/(vis*por*CompTotal)\n",
        "Alpha\n",
        "Eta=(Alpha*DT)/(dx**2)\n",
        "Eta"
      ],
      "metadata": {
        "colab": {
          "base_uri": "https://localhost:8080/"
        },
        "id": "QFRjhMD2RaOB",
        "outputId": "b15282be-c04f-45da-f2d4-f7451b8d72fe"
      },
      "execution_count": 88,
      "outputs": [
        {
          "output_type": "execute_result",
          "data": {
            "text/plain": [
              "0.004"
            ]
          },
          "metadata": {},
          "execution_count": 88
        }
      ]
    },
    {
      "cell_type": "code",
      "source": [
        "#Condiciones inicialea \n",
        "Pyac=4000\n",
        "Piz=500\n",
        "Pder=100\n",
        "Pin=np.ones((L//dx)+2)\n",
        "Pres=np.zeros((L//dx)+2)\n",
        "Pres2=np.zeros((L//dx)+2)\n",
        "Pin=Pin*Pyac\n",
        "Pin[0]=2*Piz-Pin[1]\n",
        "Pin[len(Pin)-1]=2*Pder-Pin[len(Pin)-2]\n",
        "\n",
        "Pin.shape"
      ],
      "metadata": {
        "colab": {
          "base_uri": "https://localhost:8080/"
        },
        "id": "ogdMazLTRdGb",
        "outputId": "a8ad0f2b-f630-4ae3-c328-c62bb2a1de13"
      },
      "execution_count": 89,
      "outputs": [
        {
          "output_type": "execute_result",
          "data": {
            "text/plain": [
              "(42,)"
            ]
          },
          "metadata": {},
          "execution_count": 89
        }
      ]
    },
    {
      "cell_type": "code",
      "source": [
        "#Esquema Implicito\n",
        "Qimplicita=np.zeros((Tiempo//DT,(L//dx)))\n",
        "\n",
        "Pin=np.ones((L//dx)+2)\n",
        "Qres=np.zeros((L//dx))\n",
        "Pin=Pin*Pyac\n",
        "Pin[0]=Piz\n",
        "Pin[len(Pin)-1]=Pder\n",
        "N=(L//dx)+2\n",
        "Baccumul=A*dx*por*CompTotal/Beta\n",
        "Transmisibilidad=K*A/(vis*Beta*dx)\n",
        "B=np.zeros([N-2,N-2])\n",
        "T=np.zeros([N-2,N-2])\n"
      ],
      "metadata": {
        "id": "HIRcSVddRgj6"
      },
      "execution_count": 90,
      "outputs": []
    },
    {
      "cell_type": "code",
      "source": [
        "for i in range(0,N-2):\n",
        "  B[i,i]=Baccumul\n",
        "\n",
        "\n",
        "for i in range(0,N-2):\n",
        "  T[i,i]=2*Transmisibilidad\n",
        "  if i>0:\n",
        "    T[i,i-1]=-Transmisibilidad\n",
        "  if i<(N-3):\n",
        "    T[i,i+1]=-Transmisibilidad\n",
        "T[0,0]=3*Transmisibilidad\n",
        "T[N-3,N-3]=Transmisibilidad"
      ],
      "metadata": {
        "id": "SuXutK7zRjgK"
      },
      "execution_count": 91,
      "outputs": []
    },
    {
      "cell_type": "code",
      "source": [
        "Matriz_resolucion=np.zeros_like(T)\n",
        "Vector_sol=np.zeros_like(Pin[1:-1])\n",
        "Matriz_resolucion=T+(B/DT)\n",
        "Vector_sol=np.matmul(B/DT,Pin[1:-1])\n",
        "Vector_sol=Vector_sol\n",
        "Q=np.zeros_like(Vector_sol)\n",
        "Q[0]=2*Transmisibilidad*Piz\n",
        "Vector_sol=Vector_sol+Q\n"
      ],
      "metadata": {
        "id": "4vXaoHN1VUaX"
      },
      "execution_count": 92,
      "outputs": []
    },
    {
      "cell_type": "code",
      "source": [
        "Qcal=np.linalg.solve(Matriz_resolucion,Vector_sol)"
      ],
      "metadata": {
        "id": "yDbMhP_cVj2-"
      },
      "execution_count": 93,
      "outputs": []
    },
    {
      "cell_type": "code",
      "source": [
        "Vector_sol"
      ],
      "metadata": {
        "colab": {
          "base_uri": "https://localhost:8080/"
        },
        "id": "GCpISbyUYlP9",
        "outputId": "e6c8d8b3-3677-429b-c44c-5df85b13414d"
      },
      "execution_count": 94,
      "outputs": [
        {
          "output_type": "execute_result",
          "data": {
            "text/plain": [
              "array([4.004e+10, 4.000e+10, 4.000e+10, 4.000e+10, 4.000e+10, 4.000e+10,\n",
              "       4.000e+10, 4.000e+10, 4.000e+10, 4.000e+10, 4.000e+10, 4.000e+10,\n",
              "       4.000e+10, 4.000e+10, 4.000e+10, 4.000e+10, 4.000e+10, 4.000e+10,\n",
              "       4.000e+10, 4.000e+10, 4.000e+10, 4.000e+10, 4.000e+10, 4.000e+10,\n",
              "       4.000e+10, 4.000e+10, 4.000e+10, 4.000e+10, 4.000e+10, 4.000e+10,\n",
              "       4.000e+10, 4.000e+10, 4.000e+10, 4.000e+10, 4.000e+10, 4.000e+10,\n",
              "       4.000e+10, 4.000e+10, 4.000e+10, 4.000e+10])"
            ]
          },
          "metadata": {},
          "execution_count": 94
        }
      ]
    },
    {
      "cell_type": "code",
      "source": [
        "Qimplicita[0]=Vector_sol\n",
        "t=DT\n",
        "while t<Tiempo:\n",
        "  Qcal=np.linalg.solve(Matriz_resolucion,Vector_sol)\n",
        "  Qimplicita[t//DT]=Qcal\n",
        "  Vector_sol=Qcal\n",
        "  t=t+DT"
      ],
      "metadata": {
        "id": "aYKR1trZYmnY"
      },
      "execution_count": 95,
      "outputs": []
    },
    {
      "cell_type": "code",
      "source": [
        "Qimplicita[0]=Vector_sol\n",
        "Qimplicita[2]"
      ],
      "metadata": {
        "colab": {
          "base_uri": "https://localhost:8080/"
        },
        "id": "kODCV8mJcCGR",
        "outputId": "82bc849b-6fef-4f18-bce4-39757b2cba6e"
      },
      "execution_count": 96,
      "outputs": [
        {
          "output_type": "execute_result",
          "data": {
            "text/plain": [
              "array([0.0003941 , 0.00039997, 0.0004    , 0.0004    , 0.0004    ,\n",
              "       0.0004    , 0.0004    , 0.0004    , 0.0004    , 0.0004    ,\n",
              "       0.0004    , 0.0004    , 0.0004    , 0.0004    , 0.0004    ,\n",
              "       0.0004    , 0.0004    , 0.0004    , 0.0004    , 0.0004    ,\n",
              "       0.0004    , 0.0004    , 0.0004    , 0.0004    , 0.0004    ,\n",
              "       0.0004    , 0.0004    , 0.0004    , 0.0004    , 0.0004    ,\n",
              "       0.0004    , 0.0004    , 0.0004    , 0.0004    , 0.0004    ,\n",
              "       0.0004    , 0.0004    , 0.0004    , 0.0004    , 0.0004    ])"
            ]
          },
          "metadata": {},
          "execution_count": 96
        }
      ]
    },
    {
      "cell_type": "code",
      "source": [
        "import matplotlib.pyplot as plt\n",
        "\n",
        "imgplot = plt.imshow(Qimplicita,aspect='auto')\n",
        "plt.colorbar()\n",
        "     "
      ],
      "metadata": {
        "colab": {
          "base_uri": "https://localhost:8080/",
          "height": 452
        },
        "id": "FMJHvMeVb3SD",
        "outputId": "76c67095-d0ec-4212-c443-777344788a3b"
      },
      "execution_count": 97,
      "outputs": [
        {
          "output_type": "execute_result",
          "data": {
            "text/plain": [
              "<matplotlib.colorbar.Colorbar at 0x7f3c1d707550>"
            ]
          },
          "metadata": {},
          "execution_count": 97
        },
        {
          "output_type": "display_data",
          "data": {
            "text/plain": [
              "<Figure size 640x480 with 2 Axes>"
            ],
            "image/png": "[encoded data removed]"
          },
          "metadata": {}
        }
      ]
    },
    {
      "cell_type": "code",
      "source": [],
      "metadata": {
        "id": "7w25zkWHb9OF"
      },
      "execution_count": null,
      "outputs": []
    }
  ]
}