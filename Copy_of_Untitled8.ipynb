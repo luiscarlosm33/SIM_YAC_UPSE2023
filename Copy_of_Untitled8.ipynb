{
  "nbformat": 4,
  "nbformat_minor": 0,
  "metadata": {
    "colab": {
      "provenance": [],
      "authorship_tag": "ABX9TyPuSGryYBINxPwjuLx7HwDL",
      "include_colab_link": true
    },
    "kernelspec": {
      "name": "python3",
      "display_name": "Python 3"
    },
    "language_info": {
      "name": "python"
    }
  },
  "cells": [
    {
      "cell_type": "markdown",
      "metadata": {
        "id": "view-in-github",
        "colab_type": "text"
      },
      "source": [
        "<a href=\"https://colab.research.google.com/github/luiscarlosm33/SIM_YAC_UPSE2023/blob/main/Copy_of_Untitled8.ipynb\" target=\"_parent\"><img src=\"https://colab.research.google.com/assets/colab-badge.svg\" alt=\"Open In Colab\"/></a>"
      ]
    },
    {
      "cell_type": "code",
      "execution_count": 181,
      "metadata": {
        "colab": {
          "base_uri": "https://localhost:8080/"
        },
        "id": "j7B6KltRIAGF",
        "outputId": "bbeaa3f3-722d-4f64-ab86-11d99a70109d"
      },
      "outputs": [
        {
          "output_type": "stream",
          "name": "stdout",
          "text": [
            "[1 1 1 1 1 1 1 1 1 1 1]\n"
          ]
        }
      ],
      "source": [
        "# Simulador ecuacion de la difusividad \n",
        "import numpy as np\n",
        "import math\n",
        "L=1000 #distancia total \n",
        "dx=100 #delta x\n",
        "Distance=np.arange(0,L+1,dx) #Crear un vector de las distancias\n",
        "P01=np.ones_like(Distance) #Vector inical de Presiones \n",
        "print(P01)\n"
      ]
    },
    {
      "cell_type": "code",
      "source": [
        "PYac=4000\n",
        "PFrontd=0 #Frontera derecha\n",
        "PFronti=0 #Frontera izquierda\n",
        "Tiempo=100000\n",
        "DT=10\n",
        "VectorTiempo=np.arange(0,math.floor(Tiempo/DT)*DT,DT)\n",
        "PXX=np.zeros((math.floor(Tiempo/DT),len(Distance)))\n",
        "Pdt=np.zeros_like(Distance)"
      ],
      "metadata": {
        "id": "gRHSrE7yIWtQ"
      },
      "execution_count": 182,
      "outputs": []
    },
    {
      "cell_type": "code",
      "source": [
        "PXX.shape"
      ],
      "metadata": {
        "colab": {
          "base_uri": "https://localhost:8080/"
        },
        "id": "vtxejXk5W9e3",
        "outputId": "d703e487-fdb1-4ce4-8deb-f7905c2b963e"
      },
      "execution_count": 183,
      "outputs": [
        {
          "output_type": "execute_result",
          "data": {
            "text/plain": [
              "(10000, 11)"
            ]
          },
          "metadata": {},
          "execution_count": 183
        }
      ]
    },
    {
      "cell_type": "code",
      "source": [
        "P01=np.ones_like(Distance)\n",
        "P01=P01*PYac\n",
        "P01[0]=PFronti\n",
        "P01[len(P01)-1]=PFrontd\n",
        "P0in=P01 #Condicion inicial \n",
        "Pdt=P01 #Vector de resultados dt\n",
        "t=DT #primera interaccion"
      ],
      "metadata": {
        "id": "X3e55AnkIo8J"
      },
      "execution_count": 235,
      "outputs": []
    },
    {
      "cell_type": "code",
      "source": [
        "print(P01)"
      ],
      "metadata": {
        "colab": {
          "base_uri": "https://localhost:8080/"
        },
        "id": "0apZTPQSI0ip",
        "outputId": "31a666cc-06fe-4fbb-8609-6175c59cc965"
      },
      "execution_count": 236,
      "outputs": [
        {
          "output_type": "stream",
          "name": "stdout",
          "text": [
            "[   0 4000 4000 4000 4000 4000 4000 4000 4000 4000    0]\n"
          ]
        }
      ]
    },
    {
      "cell_type": "code",
      "source": [
        "def Presdt(P1,P2,P3,deltat,deltax):\n",
        "  return(((P1-2*P2+P3)/(deltax*deltax))*deltat)+P2 \n"
      ],
      "metadata": {
        "id": "h1CFqMipI2aN"
      },
      "execution_count": 186,
      "outputs": []
    },
    {
      "cell_type": "code",
      "source": [
        "Preal=np.ones_like(PXX)\n",
        "Preal.shape\n",
        "P0in.shape"
      ],
      "metadata": {
        "colab": {
          "base_uri": "https://localhost:8080/"
        },
        "id": "g6KyXLy8JZ2l",
        "outputId": "516e35bb-2ee7-4790-ea57-c18df0690714"
      },
      "execution_count": 239,
      "outputs": [
        {
          "output_type": "execute_result",
          "data": {
            "text/plain": [
              "(11,)"
            ]
          },
          "metadata": {},
          "execution_count": 239
        }
      ]
    },
    {
      "cell_type": "code",
      "source": [
        "# Ecuacion de la difusividad solucion Real \n",
        "Preal=np.ones_like(PXX)\n",
        "PXX[0]=P0in\n",
        "for j in range(0,math.floor(Tiempo/DT)*DT,DT):\n",
        "  for i in range(0,len(P0in)-1):\n",
        "    k=1\n",
        "    Preal[j][i]=math.sin(math.pi* (i+1)*dx/L) * math.exp( -(k**-1) * ( math.pi **2) * (j+1) * DT / (L**2))\n"
      ],
      "metadata": {
        "colab": {
          "base_uri": "https://localhost:8080/",
          "height": 200
        },
        "id": "-v6Mx4d7fN9u",
        "outputId": "1a2ac3f7-cac2-444a-c350-bef0ec22d20a"
      },
      "execution_count": 243,
      "outputs": [
        {
          "output_type": "error",
          "ename": "IndexError",
          "evalue": "ignored",
          "traceback": [
            "\u001b[0;31m---------------------------------------------------------------------------\u001b[0m",
            "\u001b[0;31mIndexError\u001b[0m                                Traceback (most recent call last)",
            "\u001b[0;32m<ipython-input-243-9ab44121b2f2>\u001b[0m in \u001b[0;36m<cell line: 4>\u001b[0;34m()\u001b[0m\n\u001b[1;32m      5\u001b[0m   \u001b[0;32mfor\u001b[0m \u001b[0mi\u001b[0m \u001b[0;32min\u001b[0m \u001b[0mrange\u001b[0m\u001b[0;34m(\u001b[0m\u001b[0;36m0\u001b[0m\u001b[0;34m,\u001b[0m\u001b[0mlen\u001b[0m\u001b[0;34m(\u001b[0m\u001b[0mP0in\u001b[0m\u001b[0;34m)\u001b[0m\u001b[0;34m-\u001b[0m\u001b[0;36m1\u001b[0m\u001b[0;34m)\u001b[0m\u001b[0;34m:\u001b[0m\u001b[0;34m\u001b[0m\u001b[0;34m\u001b[0m\u001b[0m\n\u001b[1;32m      6\u001b[0m     \u001b[0mk\u001b[0m\u001b[0;34m=\u001b[0m\u001b[0;36m1\u001b[0m\u001b[0;34m\u001b[0m\u001b[0;34m\u001b[0m\u001b[0m\n\u001b[0;32m----> 7\u001b[0;31m     \u001b[0mPreal\u001b[0m\u001b[0;34m[\u001b[0m\u001b[0mj\u001b[0m\u001b[0;34m]\u001b[0m\u001b[0;34m[\u001b[0m\u001b[0mi\u001b[0m\u001b[0;34m]\u001b[0m\u001b[0;34m=\u001b[0m\u001b[0mmath\u001b[0m\u001b[0;34m.\u001b[0m\u001b[0msin\u001b[0m\u001b[0;34m(\u001b[0m\u001b[0mmath\u001b[0m\u001b[0;34m.\u001b[0m\u001b[0mpi\u001b[0m\u001b[0;34m*\u001b[0m \u001b[0;34m(\u001b[0m\u001b[0mi\u001b[0m\u001b[0;34m+\u001b[0m\u001b[0;36m1\u001b[0m\u001b[0;34m)\u001b[0m\u001b[0;34m*\u001b[0m\u001b[0mdx\u001b[0m\u001b[0;34m/\u001b[0m\u001b[0mL\u001b[0m\u001b[0;34m)\u001b[0m \u001b[0;34m*\u001b[0m \u001b[0mmath\u001b[0m\u001b[0;34m.\u001b[0m\u001b[0mexp\u001b[0m\u001b[0;34m(\u001b[0m \u001b[0;34m-\u001b[0m\u001b[0;34m(\u001b[0m\u001b[0mk\u001b[0m\u001b[0;34m**\u001b[0m\u001b[0;34m-\u001b[0m\u001b[0;36m1\u001b[0m\u001b[0;34m)\u001b[0m \u001b[0;34m*\u001b[0m \u001b[0;34m(\u001b[0m \u001b[0mmath\u001b[0m\u001b[0;34m.\u001b[0m\u001b[0mpi\u001b[0m \u001b[0;34m**\u001b[0m\u001b[0;36m2\u001b[0m\u001b[0;34m)\u001b[0m \u001b[0;34m*\u001b[0m \u001b[0;34m(\u001b[0m\u001b[0mj\u001b[0m\u001b[0;34m+\u001b[0m\u001b[0;36m1\u001b[0m\u001b[0;34m)\u001b[0m \u001b[0;34m*\u001b[0m \u001b[0mDT\u001b[0m \u001b[0;34m/\u001b[0m \u001b[0;34m(\u001b[0m\u001b[0mL\u001b[0m\u001b[0;34m**\u001b[0m\u001b[0;36m2\u001b[0m\u001b[0;34m)\u001b[0m\u001b[0;34m)\u001b[0m\u001b[0;34m\u001b[0m\u001b[0;34m\u001b[0m\u001b[0m\n\u001b[0m",
            "\u001b[0;31mIndexError\u001b[0m: index 10000 is out of bounds for axis 0 with size 10000"
          ]
        }
      ]
    },
    {
      "cell_type": "code",
      "source": [
        "PXX[0]=P01\n",
        "while t<Tiempo:\n",
        "    for i in range(0,len(P0in)-1):\n",
        "      if i==0:\n",
        "        Pdt[i]=P0in[0]\n",
        "      elif i==len(P0in)-1:\n",
        "        Pdt[i]=P0in[len(P0in)-1]\n",
        "      else:\n",
        "        Pdt[i]=Presdt(P0in[i-1],P0in[i],P0in[i+1],DT,dx)\n",
        "    PXX[math.floor(t/DT)]=Pdt\n",
        "    t=t+DT\n",
        "    P0in=Pdt\n",
        "    P01=np.append(P01,Pdt)\n"
      ],
      "metadata": {
        "id": "gjh5A9G-K_zi"
      },
      "execution_count": 187,
      "outputs": []
    },
    {
      "cell_type": "code",
      "source": [
        "PXX\n"
      ],
      "metadata": {
        "colab": {
          "base_uri": "https://localhost:8080/"
        },
        "id": "VvpjLU0wLxRi",
        "outputId": "4b158729-b5a5-41f7-a475-34789d322c82"
      },
      "execution_count": 188,
      "outputs": [
        {
          "output_type": "execute_result",
          "data": {
            "text/plain": [
              "array([[   0., 4000., 4000., ..., 4000., 4000.,    0.],\n",
              "       [   0., 3996., 3999., ..., 3999., 3995.,    0.],\n",
              "       [   0., 3992., 3998., ..., 3998., 3991.,    0.],\n",
              "       ...,\n",
              "       [   0.,    0.,    0., ...,    0.,    0.,    0.],\n",
              "       [   0.,    0.,    0., ...,    0.,    0.,    0.],\n",
              "       [   0.,    0.,    0., ...,    0.,    0.,    0.]])"
            ]
          },
          "metadata": {},
          "execution_count": 188
        }
      ]
    },
    {
      "cell_type": "code",
      "source": [
        "PXX.shape\n"
      ],
      "metadata": {
        "id": "8h2isKLCNGaU",
        "colab": {
          "base_uri": "https://localhost:8080/"
        },
        "outputId": "ff74a13c-309f-4a79-82ee-e06e25927f21"
      },
      "execution_count": 189,
      "outputs": [
        {
          "output_type": "execute_result",
          "data": {
            "text/plain": [
              "(10000, 11)"
            ]
          },
          "metadata": {},
          "execution_count": 189
        }
      ]
    },
    {
      "cell_type": "code",
      "source": [
        "Distance.shape"
      ],
      "metadata": {
        "colab": {
          "base_uri": "https://localhost:8080/"
        },
        "id": "jZTIS5p4bvFp",
        "outputId": "a249bf82-aa74-489a-b196-b7a169684476"
      },
      "execution_count": 190,
      "outputs": [
        {
          "output_type": "execute_result",
          "data": {
            "text/plain": [
              "(11,)"
            ]
          },
          "metadata": {},
          "execution_count": 190
        }
      ]
    },
    {
      "cell_type": "code",
      "source": [
        "import matplotlib.pyplot as plt\n",
        "\n",
        "imgplot = plt.imshow(PXX,aspect='auto')\n",
        "plt.colorbar()"
      ],
      "metadata": {
        "colab": {
          "base_uri": "https://localhost:8080/",
          "height": 452
        },
        "id": "ITZn9PDOTjd3",
        "outputId": "e1a0f313-d609-4cde-d741-e16f80fa6b7e"
      },
      "execution_count": 191,
      "outputs": [
        {
          "output_type": "execute_result",
          "data": {
            "text/plain": [
              "<matplotlib.colorbar.Colorbar at 0x7f4e16c229e0>"
            ]
          },
          "metadata": {},
          "execution_count": 191
        },
        {
          "output_type": "display_data",
          "data": {
            "text/plain": [
              "<Figure size 640x480 with 2 Axes>"
            ],
            "image/png": "[encoded data removed]"
          },
          "metadata": {}
        }
      ]
    },
    {
      "cell_type": "code",
      "source": [
        "\n",
        "c = plt.pcolormesh(Distance,VectorTiempo,PXX)\n",
        "plt.colorbar(c)\n",
        " \n",
        "plt.title('Distribucion de Presiones', fontweight =\"bold\")\n",
        "plt.show()"
      ],
      "metadata": {
        "colab": {
          "base_uri": "https://localhost:8080/",
          "height": 452
        },
        "id": "oJrtLNCGav9H",
        "outputId": "59623a3a-1dc8-4a4a-8db3-db35d74d4b40"
      },
      "execution_count": 192,
      "outputs": [
        {
          "output_type": "display_data",
          "data": {
            "text/plain": [
              "<Figure size 640x480 with 2 Axes>"
            ],
            "image/png": "[encoded data removed]"
          },
          "metadata": {}
        }
      ]
    },
    {
      "cell_type": "code",
      "source": [
        "\n"
      ],
      "metadata": {
        "id": "OIgztDUiBYK2"
      },
      "execution_count": null,
      "outputs": []
    },
    {
      "cell_type": "code",
      "source": [
        "math.pi"
      ],
      "metadata": {
        "colab": {
          "base_uri": "https://localhost:8080/"
        },
        "id": "1gcolFMsHZ7J",
        "outputId": "4d390433-ed2b-413b-b408-e12a5ce36941"
      },
      "execution_count": 228,
      "outputs": [
        {
          "output_type": "execute_result",
          "data": {
            "text/plain": [
              "3.141592653589793"
            ]
          },
          "metadata": {},
          "execution_count": 228
        }
      ]
    },
    {
      "cell_type": "code",
      "source": [
        "%matplotlib inline\n",
        "import matplotlib.pyplot as plt\n",
        "\n",
        "from matplotlib import animation, rc\n",
        "from IPython.display import HTML\n",
        "import matplotlib.animation as animation\n",
        "\n",
        "\n",
        "# First set up the figure, the axis, and the plot element we want to animate\n",
        "fig, ax = plt.subplots()\n",
        "\n",
        "ax.set_xlim(( 0, 1000))\n",
        "ax.set_ylim((-1000, 4000))\n",
        "\n",
        "line, = ax.plot([], [], lw=2)\n",
        "#line2, = ax.plot([], [], lw=2)\n",
        "# initialization function: plot the background of each frame\n",
        "def init():\n",
        "    line.set_data([], [])\n",
        "    return (line,)\n",
        "\n",
        "def init():\n",
        "    line2.set_data([], [])\n",
        "    return (line2,)\n",
        "\n",
        "# animation function. This is called sequentially\n",
        "def animate(i):\n",
        "    x = Distance\n",
        "    y = PXX[i]\n",
        "    line.set_data(x, y)\n",
        "    #line2.set_data(y, x)\n",
        "    ax.set(title='Presion  days ' + str(i*DT))\n",
        "    return (line,)\n",
        "\n",
        "# call the animator. blit=True means only re-draw the parts that have changed.\n",
        "anim = animation.FuncAnimation(fig, animate, init_func=init,\n",
        "                               frames=range(0,10000,200), interval=200, blit=True)\n",
        "\n",
        "HTML(anim.to_html5_video())"
      ],
      "metadata": {
        "colab": {
          "base_uri": "https://localhost:8080/",
          "height": 937
        },
        "id": "haX6cvvfcnD-",
        "outputId": "b242ec40-8bb3-4ac4-a907-5229d4c8622f"
      },
      "execution_count": 244,
      "outputs": [
        {
          "output_type": "execute_result",
          "data": {
            "text/plain": [
              "<IPython.core.display.HTML object>"
            ],
            "text/html": [
              "<video width=\"640\" height=\"480\" controls autoplay loop>\n",
              "  <source type=\"video/mp4\" src=\"data:video/mp4;base64,AAAAHGZ0eXBNNFYgAAACAGlzb21pc28yYXZjMQAAAAhmcmVlAACEMW1kYXQAAAKtBgX//6ncRem9\n",
              "5tlIt5Ys2CDZI+7veDI2NCAtIGNvcmUgMTU1IHIyOTE3IDBhODRkOTggLSBILjI2NC9NUEVHLTQg\n",
              "QVZDIGNvZGVjIC0gQ29weWxlZnQgMjAwMy0yMDE4IC0gaHR0cDovL3d3dy52aWRlb2xhbi5vcmcv\n",
              "eDI2NC5odG1sIC0gb3B0aW9uczogY2FiYWM9MSByZWY9MyBkZWJsb2NrPTE6MDowIGFuYWx5c2U9\n",
              "MHgzOjB4MTEzIG1lPWhleCBzdWJtZT03IHBzeT0xIHBzeV9yZD0xLjAwOjAuMDAgbWl4ZWRfcmVm\n",
              "PTEgbWVfcmFuZ2U9MTYgY2hyb21hX21lPTEgdHJlbGxpcz0xIDh4OGRjdD0xIGNxbT0wIGRlYWR6\n",
              "b25lPTIxLDExIGZhc3RfcHNraXA9MSBjaHJvbWFfcXBfb2Zmc2V0PS0yIHRocmVhZHM9MyBsb29r\n",
              "YWhlYWRfdGhyZWFkcz0xIHNsaWNlZF90aHJlYWRzPTAgbnI9MCBkZWNpbWF0ZT0xIGludGVybGFj\n",
              "ZWQ9MCBibHVyYXlfY29tcGF0PTAgY29uc3RyYWluZWRfaW50cmE9MCBiZnJhbWVzPTMgYl9weXJh\n",
              "bWlkPTIgYl9hZGFwdD0xIGJfYmlhcz0wIGRpcmVjdD0xIHdlaWdodGI9MSBvcGVuX2dvcD0wIHdl\n",
              "aWdodHA9MiBrZXlpbnQ9MjUwIGtleWludF9taW49NSBzY2VuZWN1dD00MCBpbnRyYV9yZWZyZXNo\n",
              "PTAgcmNfbG9va2FoZWFkPTQwIHJjPWNyZiBtYnRyZWU9MSBjcmY9MjMuMCBxY29tcD0wLjYwIHFw\n",
              "bWluPTAgcXBtYXg9NjkgcXBzdGVwPTQgaXBfcmF0aW89MS40MCBhcT0xOjEuMDAAgAAAHNBliIQA\n",
              "Ev/+963fgU3AQO1rulc4tMurlDQ9UfaUpni2SAAAAwAAAwAAD/DNvp9RFdeXpgAAAwB+C3qfyNQ4\n",
              "OIBMt94/7Gj6QBzW83JdaU02XoHzBsP9rmiBjhOXMDXcBZmmI3MIGWAxyUOmtVDsoonVcLv9EJNZ\n",
              "ENavm5M2JBt6NQtvveH+BZpWV9sSZ2lGmux/pMEs+3OkwO9nRijR12iGtDD+a7Btrt0PSRkiw+fM\n",
              "0trDxPsX3woaRFYaX8fpBZSWmMt0E1dp9/cwaU8T8fCJf/KVenAvwBO+7xnPeRbDxJlxWrJo8zm6\n",
              "z2NvXxW9/7bhbOfjJgSLzYS7R+gR7Cvh2Ql+9DUc9BajA5s1L3i4dVZBAtXeB0kmdVn3o/M5QJYB\n",
              "4t6ciQk8d4M5VzPBaQhtvXeyt9+7B/yc2V3b7FoCxR5OEA5T5JSV141Iz9bvVhdFTq2EpDLDg+NH\n",
              "5Cgg+TUtvU+eOa9bd3CNlGtHKls6nhDSkimyymR4CZqlskH2L/nJksk5JVDF1SHNkuSVFzw4M2nE\n",
              "vHAfqBqmGvs7sIvdMpGHd2TynIAv1mg0S1CYlsZPVl5LS4gkXwki+TGzAQgHT0K6eh7FFbtiLSKi\n",
              "vsecRnGtswIzDKwRm6VRRlACB/XayrWSYw1j2hytzsjhtj/0RxYibfIF56SII8sneTGPZQrddSRV\n",
              "L0jaUrbZ+R5hq2Sr/d3dN3RgL/jTCsxI76iehk/fcW734Bvxhc4nY0WCFIxPLS+x3f307b9PM1yH\n",
              "IqHhM6xU2zRdHpXuNr9hgotFUPpLKkO/goiL2szAjhWHZeV/ZnQ7uy3fJp1teYkj1gHxf+gNh1gc\n",
              "A8Ex4WN6tbYZbfMsrC0B7koNaB9zSY1SNE7oxTfl0gA2W6HwsaYQ61cOjmkjqd6t39X7080YNoxR\n",
              "OOS/145vNpfql6k1N6CRior00xYecvNefAm/EzhR1oub4e82GvLVuOcweex8IfVZHLMcWATln03c\n",
              "I/bquycGqTlwlI6SFVuWQX8U0me5XefkeVF4///CfBA7nje+36ulvWuHPdMUVfcGcw8JD5tMFaB4\n",
              "FF9s71kTOvqXblarByxtcOlzzKT8AfiUFVMJ6e++e0iKk+osST1D+RSYTg+yxrjYml+BRD2U+cXw\n",
              "1r1zfYaRMHw1vE3et41B/sXfzIbeSVzBwxsrW2W0pRL/WYzZ1CmSUuMiZyxiXKpM5ARNdL+g6PVs\n",
              "jH+VZNkZo+3nNYMQh7wWutNx4dl/J2w3I9f+R5Ox46C9jln/o1W8lWVWqG+rhrhnduUl6mpXmdJX\n",
              "LjuvTizfe0RNR6JDfWBRv24AhHOk6Sa0ivAdwr1LJrvNGkKTEb2F5W4vEcv/Pf+FJyCiYN5dymm5\n",
              "ryeWRvjUOval4Oa2/BlUBGwVDtq2IljLkK+ooZ/AEdUpbSZPJFyPifa6jCIn9Ge6MZANHsWUPvws\n",
              "6Hvf0S77Ittz7SXfHj6DPSaePHrw7PElt37bZv6lXDNNuD3Ijr/NQj7BQcjCP12dKkZPkHjrSLZw\n",
              "rKrghiyG7lV91Z7l/louqQQmIt4v0yMpUP8JJz/M8b0Wz/xqyHa8mjAJ5eiAerV//8IDyNyt7Iqt\n",
              "b19eY/ym/1J/AlwvuvauryctJwmjPk+hNXy2tnJGQJpt5qmJIoZzDP+hO1ge1Al5pAuaWyi6dZyw\n",
              "2usLqou43bFrclWZK6TiL1QJ/dwkX5K2A+1prypn5iS0IwJxKXyQovaV1nwVL+cCLklh+DtfT/ni\n",
              "ug17EbM91O1csVEUQxXBZ1y+vkoEss98bkXUtbuoZl/8S2TA2EPxVvz/pAd4CGgncKYBq4AvpAar\n",
              "CEro2ztmhPxu51iRIePHmSwLMIDB6t2ZcuzR/gI0k/B/Tseb15r9vivvGub5fRSAN9MQhISacdzt\n",
              "5bcki46rXTwoBw+04bvgpdqZDSGwujuY437IYi0mxoQ2tT3qDw0SeCeMlPM8ekHyQhrWCSc8xssK\n",
              "MyCE6TaMhNR/tlgzWFxlA6h/S4Lk3w+JK7wN22P4+HjfO2w1dr4dpNSPDdYn5dC2jKyAlKftpjAA\n",
              "5gMGhssMj7ba06U76LX3sdFbVKLMZhJ9lA2dSu87iuZ91aMX1gxoJotOaUxF70TnNPyuyO+EdAbV\n",
              "4zxlSZS0kqNf8A+yQf3iURiYxdx2qUa7DD2oyHvt+7g1KNv6liyk3oK5A8/8NcY2PuPy9Bx43vTs\n",
              "0w/4wlWYHBPlCTy+w+7Bc3fBBXDVAlYiaQ0d3WJOgseE0Z/PM1UEG4Dsrjw0W9OXo+drwha8use7\n",
              "uFSPlx9lD7oWJc7QmMSPKRT+yoWw7AmGC555doBmmk/WbBOI5SFDqtRryPoDNCrGY2s4+teziavb\n",
              "qXn6D1xxGpsFD1T+vLAAAAMAFmEDrblR5DaQGKPYJalhNKBgnhiCEI03eRXs73aE2tsUr2enlqKB\n",
              "iIsaWMzg7ZgxWHi0rfhWQ4aOx3JrOvxhe2Ywe1YNu1v2+qk75ZG39Mv72mK9Z7diMaV4Q2iS/uqz\n",
              "9EYTj7Gi3+LB8qiVumKPmy7JtjcCqNagf3v9UVOXeFI5jxL5CEYICCrrxgJLY6KfZgK2BwEC2Rwx\n",
              "f+CDFVXWv9PCPLorxTskmADbK1y+hcaP/rZTbQWtZSBixmbfbDcT6FgWs9rGdVmHbkiHW7VV/KFC\n",
              "bnAzc+5D8weBnxzRZWhXIrWFRX0pSkNX4cFcDCpDPS4FVJwr8PzfwjEKsD8kr/ZRju7s82z1umNA\n",
              "dewaX5n3ECQYWCzz5g2EJjWUGZB/Wd3P1iH32XsGOkkIcxuEY7rWo7JGfF94qSlE2JdR/8yWdvsW\n",
              "s+eLZqhKbuGmc7Gsba2a9QeXGqQScPA+ghJateHhRDCzu72/XuDElqOyOME1ggm+nsKmCMGGFqDK\n",
              "08xF3YQXz2jp5ystB9qMZH1A20nZGpU7Q04FsqirdOx9PuqzNRQCemHPHdmnIJSV4DZKY2yJ0UOi\n",
              "zw5FKEGMyza8fZiunepH4cgCvgEKw1gWtdGvARcYfIRMWvqG+DylviPErf8/QlIIfobxA3KLfx4A\n",
              "gypAPwA0l5a6qjSE2ummQtGBkxqzlEZdkw2w+xidajRtk5qhT14WgPYK9WOHZML1LuTfemTrRzh/\n",
              "VgxoRmOFN7N24Y8qEPD6OkgQ7STCrMMhG8i0DCdGsXz9UXic6z8PaatjUa6Q2iLWx6+6ee3XcxNE\n",
              "LPospIcqWt7GCGIXe+OgDMCxprdevlL1HOu8SLerwVsdaNc7eLIMiNHua9jMk/MH5OwwVhixE2Ms\n",
              "9rEarLA1uugTQ2Bqb+uojoa0ZvsA+nyHb4ynHkUX0jEhcAJlmnD/TVrEZUNhM5xr/Y8pYTGnb7Eb\n",
              "JlX22CJR9WGTipSLTRle6+M5BNfBX5VSUfnY52o1yIrVPmoNdMnaN4+bH58hkUytGt/ymujPEHFO\n",
              "W8qEmibPPOxkv6MEEH7jBlN41ez4AJ34j3Smg53DFoif/4nIJbBkI3YWtsxmKPkcJdtteJLfruCp\n",
              "E1P4iUYN8+9S5cJjR3suFq39L44ja1lOS2vXWj7DHrXt63bwbYzCptT9s69ZYHdM9uu4sD8Wij/T\n",
              "Rf9EB2KCtST2q9V8RoCiX7hmzEKfqVitbuuWpyFVboy2iIATgrlDPvLQ9Dh0YHNynhqixmUvqU35\n",
              "UzQzDaF3Kor8+V49yHo13PRJXkzy7kybUEjtdsa6mZNyS+weH9OO8IdnwMb9YnYcxXuEUJziyRSP\n",
              "GZUB++IuDNgV6S/Bf8fvQqAAEyUNr5NndQLjqCZ9qHwwAwXORQ3BkQT4OTxsAM5ooje/CPSEKAgl\n",
              "rx9JwvdN65G2WzkSMVkpTl8lFcrCejFzV7YXevh0yDc0syL5FedfB3/EC7VbZE5lwvzb5uQGeg4/\n",
              "g/SlXGbHaU0tDGwdfvcEfehSMtBC3V4qFnetITVgtcvxk59spvtxTBgOyABIpkEhurxSofCTl8XA\n",
              "O0f8QV+AJFR+5pGXA3XDtlkYWscg2ypJ8q3Uo6zBX2qS7Og2Y8g8Z0X/+SsPXAGz2kiDvtHYCCKt\n",
              "m7OHLf3EBc286aGOfLjfXnVPCNfem1VcBGxRrtYH3I5y/Nsl8n4ZQkchCVB0xsAGlPWgI+pveetu\n",
              "+g7+kWgHgCjkbkqC0BJywn61CSl+IeHegKdVVlLIf/VmTeAnnhQgOqiDibbBCR/ZRX6knYEZroVk\n",
              "LucdJqxDOPCB94kfmenYFYrK690Q7Pt04Avo2LYJ908x6ojikwaoZ6kgVYx01OpaQD5mW9sROfQq\n",
              "T09ra3/Mb5I7FJZwewmc7H1DARxlOqo7hjULMncYi+tDA40l5HZ9+xlAnXftMwhma9h69Ca2dMPT\n",
              "tEGl9ZgGifhYo6X1b7wsVsM354nHxKbXfD0CkPnAk/f8eVZmoLdqhst9n+YGB202gM9TIVB26ULc\n",
              "SDSKiPJVHwVwiZkCtZDGxzQMUVbg5sZ3SO2/t99aqVFqZeMTKFbES1V1G9cxqzymsLNpk5Cetd2S\n",
              "8Z/7ixAkIpJ9pxA8yqVcyUZeul7+5OCuEqRPWSQP7Rzs4AHqXY+OGiqijjJIkhQrXudIQnOFd1PC\n",
              "rDThTci3R0KEE89leAAw51qOw23xyyo8pgtKs7k0OTX9sAYKCkFsKYLRoC81ewMo7AlY/mOxKNRa\n",
              "JPxVsgiTzcey1/eiGLgjZEDF5Kl7cn6092/SltvtQ8ZvuLZ+vXKsqnX0AnDvCetBIW4sAFMSMqwt\n",
              "4hqYB2k7y7l4KlZ0vsbHhhZImoGwAzE+5MIO4OulnznS9thy0h24cVMly77K8UnWAjN8hflyMK38\n",
              "85Ap3RNSDLN3TrCFvuSXH2OHRswKDCuwwp3lx9Ddc2ndfGb/j/rVfhoYkAmLvgztULIhSiiXBCPB\n",
              "XuQ9FI4HhJtzxlkJaAYDFzlprPcr+7tL5Cq6Y27xY8KCeXPRYKBZZ5AAaX/ZeUufwOcSldN1aGZD\n",
              "5+2pccan1CYRrOYyygfEICbjp3QTnJ4+dwEfAmjL5rdqkawl8HRp2DEsGePF6uZT+uAuuNneW9GG\n",
              "aj+X876Kw2DR59PHhW2REqAix2wo5RS3NlRDy7BX2G+RHDSc52gCDUqh6USQyOvOXXfvEJ7jCxxH\n",
              "nvCj6FmS/1LHZVggL39T+/d5IuVS/FUzilfD6rBhoVNY+5+CxVjTywIrOuM+XQS3XP6Beo8frAJM\n",
              "8scdCKL4RfaRUBJGm8JzdBTkvvZB7UxYrWYP5d/SQcIir3x5fwSF+QjKVbB03AfpyGrTAgCgQQuG\n",
              "s/BaSDK3VNi51tf+XYFwB8Gg4HHqT9oQdHKNhthYzx9htuU7QmGDIymj5wxCVm73l9pv5x5Z+bzm\n",
              "IDqt9Gnwfph96jCJ01sMWadsTqB0zHIoyKlIJAwNJdshWc2sj/uhJQ0vpFS85OGSCgFJjUlnCD9N\n",
              "K0NL/LgpAh8qgoBBVHVhTvWiRqda/NiyFrWYyX/A2lj2zpDvxeOGlnfeloR3wJ1TSyWy2JhyD8Nj\n",
              "yYIJEf6//AwmCDbwp2vFR3KVx7c+kvKOq9+X1x0QDMXwVsvsYcMkPKCfxZ0bwu0QT/GdqafnHK7C\n",
              "sZ0YfuaCualccm7NX3fXllWL3cyyXEb9KUP/VrCx7oZR+wXYTIK6A2owH7QKO1nzKuuSEgHS6Xo6\n",
              "OwYyKCwJVIM7nGaM741hY1T4PBAUCl6DOQ0l/YE2iIh0fgm787poKQJpHtwMNuUc7VnrLCPixUYy\n",
              "lkljPIDToj6oi5NRcI6RFyTwkiVyx9NRfzQNgMPpN91BntTE0ejoGT1Uymu3Mn+BFt9XK8LSqPeM\n",
              "Vo5j7Sf6FytNfMX3cLWluEQV2Z1nEbGXb5jWI80kvBfE5K2WAwfzMroQmEAgVKZueoT8ieI/QFW7\n",
              "+/q3DRe+n4CLU6Hu0yXFpy1X4PSDSbhjG6CyTyXh3+Mtl++NyZ7Ek+o6XFwmIH7pUqeo1s7c5EUl\n",
              "3nJ3mmcXCoUXmaqU2GUJO2txyhSXtqqF570cA8Cvy1iifGHgOeqaZSnReMWZIXA12VszMWayO6yS\n",
              "1LJSocAAL0TRzOH34BFG8rqlI74UTTyO41ItCchEZ85wne1ABmXMgPJ090pb9nxsPqnWXvGMeDAP\n",
              "yswdJdshFa0VKkk78MKgsEZ4Q2KxaMOxtkBipPClSpqi3gAAerwogbgZkvmvKTNkpJqaDu+aYGsk\n",
              "RzvgNUMWHmXAGVd/FxMCOhlrcV1+38ThmAIEdbGPlx6Ilnc/VXUOBeOdKlES7eEskwlW720rLuVs\n",
              "GXcLVygY630uQ6BZ4WOxzERh2PFvzU46sp20VA6rLlzsaRrfTgy1QAI3dprn48XCsxX8vKM3/7FI\n",
              "qTDC7L2jRx8FPDQ2MVbUlu3HydicL3K8lNJJhUqNL7vx5OOmlrsIojjAEM+pYwfs09jx+kXVlIx7\n",
              "2U+mYj9mSNVDp8W+6F24klFukcccjPyFlwyUeEc645oBNR2hJgpIT1ziQAAOWxlIFeW8qio/ioVo\n",
              "gWqjqa05WClfEEQmYDj5BvV2ETobAUfcOX3gDUHC/F5qexDqTk/DA7ByiEZYgQ/c3kDjGcvAIFgb\n",
              "uqsb4VRWbJ53IftaJInVop4mgMQ/RHlAWdeqw9gT7CQuLX2Yl2eaIVo5WDfiLH8VLQRxSF6T33v6\n",
              "eo8Y0YoWboqMkJ+jAFmJoXjnGlZjyKUjmU9XkfPC0g6zOVsz7UNLC8l0p2Oo9XmSL0DYOvV+0sfN\n",
              "RCrKoH5E/UWkKndbvgpKlFfedrrSQB/2+DZVeXqeazxzEhPyjJPM/fTWV5U8UDH6xV8cZ6wcsUAt\n",
              "WFVpnyyLzHsPaxbWyB/74F8ZHm434XZoh6q8G0YJtI7z6Frcm7DR6WSApG3zyhLTNMlTonb/gc27\n",
              "P/kmpy1mWKFPdB9f4y6eBpnMnrmpgMiK00dFMrrweugJYmDRFDNyFmCFmwAI+mh9ct9cC4wo0kR0\n",
              "fQofNIPFOL0lTh8r/+7nWn13saCCQZOaN8EqXKuDC1d6M84Txrp1sJdLVUL5eP/hOv2V6jxbOyFU\n",
              "1XQDEmAtnd+wbzVDnd1ecnXqwiVKEbiBYEJKbilbGAUzoNN2vmBzsl5B1eLT9I+FgAVSKCoBNXwy\n",
              "yy/tu/3Nh8n3GMlpfZs0DdfyETpDDuDrnPpTRvlIXYGn98aNJNPrNnfitbOMP8pjRnEXTG5cdlAx\n",
              "5bwnSsP283UrhHlxpRl2LsVLxqFMPSE3j4P8nJKwcq6M2nhDbYAy0OoI19nezGj7kdnBHfS5MVXY\n",
              "3IG2Ly2k0bj9fJb7RiJk2njz2Am/bdmdrebHW/abuUmrvyv7XLkHs3xlU5W4HEnbbSBoIscj5ghU\n",
              "E+isIzySbPB+dwNgL3ltgbra05MPKzJ2Z5z6OjNL0XHAVD/eQV3x3c1zeEGgl27p+ENBeeJGJdRz\n",
              "ak4Qmp/Ef30IImWLy3U9GWQZej1F5NFMvRjNhL+aaAibq9PVYPtjQAgseIYEmsmq6QtBfCmlw1Ju\n",
              "kETYQEzoNPdwWpuKtewYgpy+rR1LpVUlpowNBpiLopQW9eUmcy4xjEdw4eq5X+9MSpsgccr+5oTl\n",
              "vKWrt+jr+igSS3g+F42+agF5UGGgE61iBrIeJJD1yf2WZfC8p/zArwsU+SUvpxsQJzFJ/yRpFmzF\n",
              "6ADHRF31aZW3pau7w9kR1/88QPhhR0mtH/mp1B+o3AGshdNPeInhht7KGUIpklSHUeD5YEvPmZMU\n",
              "Zmbgl84kRqS2fuFL+8bIU1u2s9esp8YspY8ydxASdNO/ooBKwkWqqu42FW8nt4ebn/00uVoeiQdT\n",
              "9XtxtFL2enkGNDNNQWt0S6ETdL8Rr84YTDR37Vwu+oUau73LREQGCZ6mHy5+4IKVdqTow3U3yIcv\n",
              "kHLxt90z6fpVQGfU6LYPuhvx47E15oaTXpRlhf6MwAhqvk7nJgRdt134ixqDeiC+XVix/aIbNwn+\n",
              "HsY+JFlUKvjGwIu0tSRPNAYrFszLTwLs4uAYV3tvB3mkDykHjipjBxgIsgzDJ0rPuJlNYx8+x74H\n",
              "QqWA4mqVyz66YtxjIP/hsxNDsm/SnpEO9p6R0dHOEmDMUBMZNmX6L4tPtvN4oLTrJtTe2PNPOpzn\n",
              "R5YuygwzcEhFmY3R6FP0Vr2OIzpizekZKpup5pkKNmuo4IGH8aXtZ7jYt52ZqzJ7s9z1SCReYC1b\n",
              "ewBERLu+4eSFRAwqNflL4MD7XHbIW21Qhn5kF5/KHVVbqzJrw+7uIp27qA30ZnUiB0jwQykAqFZK\n",
              "vh85VpjAu9gfOr/6zlmRzyFCvTXlveQ/EhDpU4EWev9bxDGqrS92os9sPkedIjWYNZ/MtSj6Qf3p\n",
              "jiMiLnB/aljZrxB2q+9SzL/FJA4Zt3LqbKgWJUt2T7XVEb/YCDA8Xp1KfZZ0pkELexsnJh4Ubl1z\n",
              "dp4fBHm5Xdc6yX/wsP8TUffkbOJvXAjhrfG2zJGrMZZ0DxnsSZbR+8BSiCuvXp5CuHb/5Q+/YYbH\n",
              "u4ahOohnD8bHlfF9mYDyzM7foMOU/gFqT/CZqCUuNyuOJwAXd3o/57bQRWzUUJosKOOptUIduHFL\n",
              "S6iQRqavrEniBOcGLelrdIhN1m0Ef2KexCCPZqx/PZutSxL5fdRGrbro5Tcvjj7XQFVxiG1JIoJ3\n",
              "1E2o2kyjmebFjSy/uP+jBRFsqOIyX1r6YOAI3BGNpmTz95ETER4NLekAPSnkig99XtLYixHo7UcO\n",
              "mJNsuo940H6cUoIBoJXhQ048CqtRnzeQ8A6lYJT+AskEXxbfJruXGHKZsHsyEuf4Zi4x0bmc9026\n",
              "GBIzht3wh3oL+uiMsShcaPdexXFQXRa653BPIWNiOYIhu3QpsqIBAOa/+a7nhHeYPaMiYBG351A4\n",
              "6fwDU5QM0N/pU2HhIqK/v5Nmc+3rLnzeLvjH0Z7PFV4CAiz6cYEbJbezplQfZ+mGd05PrfVBYvFK\n",
              "xDCU7/FMJjiIdBtEL5vj5bHajWCcWsTAer5uNT+ZseSq/uZZHzBL5MZRyDUajhSznQWVemWb7Jhh\n",
              "cW8jNO1l+gfsxwk4Uy1tXqEBYinOf+sYYDUE/54bRA34u/u9WcDhXgrWhNZXT147LMpD77CEhEqE\n",
              "N6CzWohkKDKi8uyxwJEHR9f4EZVubzko1gsxWMRXCl55GTafEsYJmr2wLWvlYMBRs0AmYq22ZZyM\n",
              "x+gpM5CAYP5L9GfPlJ3PdhliUXkcBVGYfYMkxE+KNdgzI47tKdwtXBmvMiKW0X+9340vQC+I4O+4\n",
              "Zp8wdF0VbpyHr+NV1D+MmJ/ljt5FbI1ZEU8rUxACNdvpcqYCJ7oRsby/0FcbCOI+sPOGKJAfx42y\n",
              "Km49cmjFBmGpV3JtvKPcgt8iM+CwCNHG0X59hTkHg9fF2dZROd9uWgmWmHkO+bNaZ8WdgRHb6Syx\n",
              "6UEaW9Oxe3RFTG8+bmOlBE+mOcAXhUDEVmjXpXQg5kZHsd/kA8aTcr8XIOqIi2TYn6G72A56TYEB\n",
              "0dOv7ZwP05zhjFn7TAFJQfzUlWkSJUosXBeHevMJKWeoyzmXP+Et/bzFLO6Pva0u43LJmnZGPbiw\n",
              "zh3/U/I2oeAoDWjkxB6Ew0awyPPPOsmQKl5qVUoaBBTDwmNKv9b4T5gWS3KxRDTXJxbrzu4C3/Jd\n",
              "kE6wSFnrryNrqkOJQgYNn8g313XeIBlWdv7pL74tlyfjwnV1VgULQvEEhZ4xm1qIJSdWoGjCQzU6\n",
              "myTG/2cI3eyi86Os1tzC7/1DGAMlpexet7hVB1XAvhIdx+J4IskvM8QoRQObhskTqpQT3g842zU3\n",
              "BZAs7Ungbe8PmOwXwPi7vW4S0aHfbSvXyJBAuodx+pZvKLl2VbWL/zSYa18sfDGX6Hfr1FzWEDIG\n",
              "3lQAa3JKVv0yMS0/FPAAAAMDTwAACPhBmiJsQS/+tSqACuBGGfVAFBx/mV4+4kew6E2nBZW0RckX\n",
              "MyYlyYTk4p7ayHMKl8aajNNGq6B0Jxzuq4cY5dtT/s3Z7xPpFwWscr8dI+ePamPQ91kn16wkIl2b\n",
              "xRYfac+Z0Qbdri7Q1bXpEwzTrjj9e9GNH2/vkUUpA8lue6vBTz3pnx/opvcA+wBc+F7Fa2S248hV\n",
              "FWpoTrJRhuyg2p+yijZrf8pcklSFTKsfvZe/jEzO6t8QZr3Js40dijD+siVXubf8tmFuBKfSM2Mr\n",
              "XrXXwqUOq7lrFC5HqIV9aXJk52oX1fb8uZ7GmLX6NVi3n8bICrMK1CKxR9O8JClyPEuH/rahijdl\n",
              "xSRyxEeRxPF7/EWzkrA9ytBIO9TcijanugXHRJnVqZYwB+LO+m0p3ZCi13TxwHVP9Zr3EERzElix\n",
              "tBmqCW0nffhUV4dhtGysNbDFNuDF1K6F8SZgEgLrpS8GhMNUNBwFGmsTERP8Mzuftrjuw3xjH47K\n",
              "eACjOXsr3Oc2xo/uAVdOY6upHWOAyORgkLP27pLkjR1rxPl2Dhd+ryl9iwaOn9FBcz3ByPhremSi\n",
              "C3BQNNp43ImQuOP2b8pcnVIKvNXHf91wqIfCcueQVHwsqILefdsYFCa8YAE8TrnjjA6ymErU3J2K\n",
              "EQAgfzZg1LJS2sgXO7hcj7tYQKcw1ziKvoTeYvJRXDNktS2EakIg3p/X3o2axNi9PhlaVl+UVCaj\n",
              "9p5z6jeaufzL+fLw5SpLfkjwEkBfzTiip7agp0kJZlecAibYIFYjK42RbHsRbFsZUQdDUwDl48Ot\n",
              "eJW0zuWJrfV/U/4Hd6tlWasZUhpJraA5H78E3u0dwwb8aZro40kyah7hY/g7xtQQ0QpJsxOilWyh\n",
              "b0Ypcjw1GXkmpUe2wiQ7oe1zhN0OhWqX3xS/2VTWVPdi79oIbcU8tef5cFZOIU212nf89EMwpxAu\n",
              "PBcLtysDk8yT6MhBb+6uhZOTF3BmH4DxvvV5pa+i878nkz65WbfiSd0WrdtkJDysRLwI0QiCUFUS\n",
              "PjwGUrqJGklpghduce7637oArMIClIbr4qxegKe4OlGdi9YmPXENN2CVIxXMecwPGlXhobuGBSiA\n",
              "Kay1cF6+cKM8oD1cM/rYOdasL+HQ8yvLIUgKJXzGBMjvpWqpSYHtbaP0UFhSq9gRjwgG+XIMN7Kx\n",
              "rAmhK5GI9Vvam8IXVkIwiUL4cfQ0ocFX3IzStqb7u9e1tOww9SIrOZEjoOdGJ5A4/aGEQGLyrADH\n",
              "TZGb+8SFYG7XPfg52vVzPnYCjeq7F6X6/TUL6jrTIFWwY+j5W1XlAaCby7KXhkQg0ioV178WKDUp\n",
              "2IVgORpVZHIro7yR/eLMtaYwkhgMe0gtnxBMbzlWkpJ6IS+D8tNZfYc1257S3Hkqt4p+UL8QF5Ix\n",
              "Q1zqkoIqF6XQiLw0TrcIjoHqXz6gM1U812Mwxch8cmwHy/H1P1YujrSsgZm4/NLWB4wI+Wxqo5EB\n",
              "03HRNkrsEymEgZ3xfwIJhbbROLbHUix+zaiUgjB/tVf33f94n9ymw5mcqEJqs45AAGLLiOjFTUdq\n",
              "y0EIqP+Y28CkTIe6eGDQAVm5+3UnEHZa+gDt3/E39D0586gpKyE1SBe4sEZ4O0gkO44pFpHsXR33\n",
              "p00ip/UM6v967eY6u1kMgvuXYyxTuIc10l1ZNRkMw5/298l3btVKtfOjjO8unF5K44SXRvq66yCj\n",
              "9Qqrk38CfnUZgG9skSBOFIB841RrVZzlPvgwlaEpU/wzBZAh6BICG8bimQxOHe2KhNqqZZtYge2b\n",
              "QMwyhWPNwROyStUp8t/go5xtcWk+U6xFngpeAOhNd+ZV8BN1qkQTW47VwM9l1nIMs5qTQzw0tVB2\n",
              "NRTm/6E76Z1Iz6b3rD2Wn7f8/H7eCDmZAx3QQweeH8+yttSc0AFIsaxSzkuARwJIunslLoLxk6tm\n",
              "aL488YzmHMz8p0VvjzPV9KUikjCBzpgVW5h6JVjVpFy5Bc9R65ijp7IdPiy0J7XQchctcKDek+Nt\n",
              "In0L3mTd6GCRQnqta676mVW2Wk1Av0WxWAX089RPcPiehWfkJxTxPQ54djrpxxlu6weF8Kcegsfy\n",
              "BMKCaPP7bLbzfs+bVzQ9M3lw/JzxICQW3MzQtvrnZ9D4wtcLE2tPTH01bjaO657OBlzBM2Jkch7J\n",
              "LjUYuok5yafhi2r84nT624MOgtOy3eP3ibMVEhRMdZm3PdJioQ91CImNQv/ElWJ8RXRxLXG3BoPY\n",
              "W28KWiYzbpxn7hZV3F9CW6JMu+nXKwc4BoIAWZ5ROJkpDftFG4ARCO4I/q80iy+1rs09NH+oFzMk\n",
              "cMg2WCGQyGjl+2c8mv//WuT3hGxIReX1GW/AUVjD+aCuWcoDaUuZd4G2/9ULX7eZjjQBP1zC5Ich\n",
              "EBOel0jT7QIi59l0DM/mCXC8N1JzW8RKzeiogwQXqOCnjtyjiFINRD0DP5ndJ4QRgcP1oRkVfkPx\n",
              "jTyoOobzKeGwI7vWiMzk3edQxep8VJXDWxUF8N9G3A4V2xKhqirBDdQu1IVBodmB1KQZLJLle7a9\n",
              "RbHMQHG3MJ5gPzQXFQhkfZP2jOOLHn3EeismlhbAI660UJ1SiHVwMH8+4uEfcwdvvhqviHHqs/su\n",
              "/0IWqp9QRasLxt4hgSyIIJFbgs1G1PoJKuKe7MljGdB/41G1/Ds0LV8dEPf8F1xxCOdDGFONOqj4\n",
              "/wdpS41EhcDphUiC903yhIj9KY5tm0NOtDcp++N8S2cCRr6JZN8IXZvok1aSYzIH8jvXjDpwwa0+\n",
              "iixChmfZizySUPOhrlspqRBJgJ1tZY4IAp0TdgQ0Zm6UXT06Zn1XQV8x6nmcznvIIhlPQ5Hw8XEc\n",
              "HohUrcjKBCNz1yPFr538gxJ0P86t+fX9DLO+/9Ji9xc5pXgA7PQS8vHxUQMpG+UKEGY3TJFYXHE+\n",
              "DS0lgE1uLzwY/umo8tbwtF9yWaa4Z7zz2nyGBJLAtLSm2xSXDE49PzQ++RfvyUl10E3CULB6beWR\n",
              "zAGELnzk6h5MgtiSyjZ/EivWShSC7W4HhLthNpg5Frp4qRMEZgeAAAAElAGeQXkP/wAdrCE/QbLe\n",
              "Z9cQFvc6gA2q6sB3+8f+w5Yqv0otQNC9+JWEntJmnVGnFGAx+9dHy8CYlOs2AKicQTs3ULpAYk/q\n",
              "A+ZwP6kB+NKpWT6gdNQl5CdG1KtJXAvWze0x9tmldC3JCnGp92AP6/WxUQSTSfSxJWsj79Qbbz3M\n",
              "ZOP+dMswcH1Aa1Yf+oZ8LF+WDtQ1hA7COl86vPykVxPrTENscMwaTnS4LROI91tbcAUyE2LZyXom\n",
              "N5Den0LUGAYW+3CpK2XiU/hchrnkpI3ngJdUlLQ62nYIj9HFMRf6WLYGomjGF4a28qDa1qIEZSBr\n",
              "F2NJkkecYJMG240s2qYAvyG7lruYkr5Xtm2lwWGz4pn3Ek6+IDGWJQBXu1LgSHw9XTKwg39GFMFB\n",
              "kO6eNwi1Lj12PpxpnSL45v6RVlWusunanQ7TkSZ3grFdDYv5UnisA2xmNN/GFeSLzPbb9akMlldF\n",
              "4GD1nx0elrm8wG55BhCkQmmf58GUwUVYfzQZ1+91HORBx1EfE9Xdi4ZgDUZycmnCopp7NF1nGouO\n",
              "p3qUEUDNx8xSWlrHEdacU6lxbMTQNpUvb83s5LGS3ELt3RFMSRkD8BjzmwkjinjfHByqrtEVI2uK\n",
              "+42dUxnEzFuv89VDa2fSE4ZGJ82YrhHasgAKTkWCR2CXwKvIu5JSwIahxI5ktBU9hcJsuJp1NPtP\n",
              "D80oBLGMtFPIk6S7roA92CYQKKSihSeaqya2/6hnHV6QFqo3uqiDbhVm+uekebsmGBmdAW/hwGzC\n",
              "oAFNFvbxtZg10yYYv0rfexJ3b13ihoDFC4SXDhsZjM/dmruJITxIwK0xB5pyChtRFJ7i/oJJeruS\n",
              "biwfxUQ9H7vs2w7UHMxev4C46nnjTnFjoPQti0hvLJAERRBoYb9R3YEP2nW9UjEmDix0xJtF5En/\n",
              "z9YyB+nMo1uvqqqdilto8qjUuZAdhhvrT5KiGUJbHF22E4c+JZYVoblkcdKi7mTwsrS6kRhGcWuB\n",
              "oyZJ5oJtpotyiEIsYSldUNJDN+Y8ssN8ARN+a3878Rk3MRLR0FX9//ZYyLLlqx8lJhYCtXBSmclE\n",
              "wgq9lsNnuaeht443VCBY6nRTpiof4o+SrFapculKDFjuSCaPjtSiTTFLEZ67SNFslYQi0wDZRlL4\n",
              "uuWHMnC+NtiUnO1H13nQXUHdcU3JLz+8xux4dLbnnuPKHRhY3DvE6siOrXooNtkfsgaw/Idf4wrK\n",
              "6jooOWH4nEkHQDM6jpayaXJhAxmvkm4zgAoX7Pn6mq4s+4iopnbzk4ZkNY9oT2OafaNLAch6KyvQ\n",
              "fv78Tr7/jNq0EwC9dCtcCmEhOhZkORm9Nc3xEsPBreaBy0lR7fOi41tNqA6lVnuOXX5DYe0U5KGM\n",
              "hwpF7xWzGLaIuhSDV9HhIbcykF8Aw3cbF4dMemCNRkqfY69SmR/eg28MT7omgrqxNpEYxao3wgRU\n",
              "5FZhB+yiEvaKwc7CxsCVG3QjMQqy99IBAbTS4/j2KaqfD0JAXPPE88r1f2iVM9rUVU/biM4C94on\n",
              "98UwU9elSK312DXguiszkSwXAAAF8EGaQzwhkymEEv/+tSqACQG5BdYpcewAjLeET2FKwY76U/m9\n",
              "qx1x8kg5TtUrZmzOXZasN+QfEMtyTQbOYePS8kegL55ZBzodUFXPBxVNJmbEiKx9L87fI/uWOdpm\n",
              "MHeRthp1rcLSI3KG+exscpPLw+/0bOd23d/25wjLXjikTTl7X1HQDvi3odyF2eifblEe2N7hvYqS\n",
              "NwFXqgLHlNUAyO6vDbft/zv2ltR+6pbelItQqyWyAADax9X7emAeTJUlrmd+Efro/RjNK/ydxC7P\n",
              "0XbvyXAz/XtclzD0aRV46WHMbLHWEgCYqv2KtT8ev9aMmb4AJYQgA9dO9WHj48sM6UhRGPrsJ/JA\n",
              "Kb7Cn/aO75o4eSKqdM0ITtJgyC9L68fq/Gen8u/Q2hhmolEsVZAb9CXIWC/F6J8tDT8o74bWGuJJ\n",
              "kBMD1NDDaFl0KhcdeBptdxqBghz0TGkQT6vjSM6AvUl552Bs5gquHqJ1pTeWsu6VH93NWDWUgYqy\n",
              "PrKvkNJYrs4m22AAiFC4RduD6GCV3iToSwxQ9Ut8FJYSKYI4S+UNHo0pV/ThyjkWTkSo9qWNpHr2\n",
              "d1Zu3SZZsZj9TefzWaUDmr+OX0S66zaMlVw0kn3BaR3muPGf0NIQIdg65C1K/w4xKs/eTs12lO4o\n",
              "NZEVA7hAh4ydX3Hb0qb4ncEzzX5FqyHR5lIUKSoLMTAMH+DMZ1oYtSmmt/ge1TPHCOPQ7sf/IYVK\n",
              "2APrDRw/La3FTxoTMcJyZXuQ30b2bDvxa35jkBh+dYZtr2OAenHHWa/j5udrRqj7S+eO7SIyrkni\n",
              "eA8eh3LSMLZtk/K/rddNY0CUQorVY5R8kSese/N1Jwh/GuXAr2ob87Z3fqRopA+qItwNU4ZtjN8z\n",
              "eQMAaevYzenI7YAfG49fFx69YiuFC/YPh4abfyPNTL4mv/uGiM7lCsBft6A6znunQn/akpjpjaBm\n",
              "a6806CqwBD4MK6UYeLzq2TGGFVW4sR/KM3negZSBWYGfTXP6R3q0GMJCNSzu86z5paNwnRAe2J4k\n",
              "66gyWujtSCysb1jXB0oWg8yza6qGZlJN/Xv74WzLpXRuaB5prWpXkivXyPSu2DYZbtRfl7rEQgJS\n",
              "TlIBisvDntZY4t4k5/Vwr7jzu4LMW176QuE9deaZtEhf8Mm9oc2zo71MJ6QSIZ0/9tANPAbuQMbV\n",
              "NFREzzXv2OpDTUgS1rej5dIP0CVlVrydC0mO72JxHEuWT2nt8LWjQmqFKeCbE/A7EUA9B+rf5qj+\n",
              "mMggb5JMb2GrTOG1fCdPWPKjsqv52xPPuYaRxMO9MwMtpzVA2DxZ62KBbRF8QSBwHAw1ctGnmD4O\n",
              "2yFUvKses7RfvglCUPCmCEAs3cF2UaqB89jSipYdRcFav86qZST6r0tB2Ist4T+ssP2m90VqwB+U\n",
              "nEQx47XAt8+TcQsLPF9Qnwja02Dv5YOlhFZv76c0qIkgBbX604Uwk1XsJ2w4446tFNKwd8tcq5Q8\n",
              "0Qrg5KU+WfNqNUCaQBjaXLvSS6OvTn63FyA8SPBaE6L9Sf1UpVSUgpb+JNnD4HTKoHvQ880UVLDZ\n",
              "OzEDwsvNGAZ+I3E5aFkUwA47cE83Ws/Qg4+1lRnAtveH2gRDMHvz4YqQNHSMI+E+dmRboVFTZVOv\n",
              "xRvdI/Rtjdq9sdvk4Qs+FMDve3MzJ8Lqm+crZXlw0aWX5E9KDeZusnEhKNuCbbzGtA4o1oDW1WsY\n",
              "R/iVTvUPSGsjMWgot7ZoCGv8nA5Fo80w2/kUFay6BQ5UO4fvRxv2kQRfcWDxIw8Ho6g7Pn2KoLHZ\n",
              "omCDFdNg93AqxcmJ+ujtGheYvKWVGyXoES5JMhoIO2/Us/ORmluh7WF6ykYHI7lhJ4m2Gay36DaC\n",
              "FwOGQ/HHdSN39qV2SEQr7C4j3LvZdX2kChKAm8k6FRNrmSe1/ULLr5FWiF1nRipYpXRrrWZQ12S6\n",
              "oTas+lUPaAxbQzZyKJlaMGa68f7TuLYYHgT225LbdX6iPX4xSt4c7W0ghTGCY/rDH5z0XlVdwmMU\n",
              "z0FJAAAIA0GaZUnhDyZTBTwS//61KoAK4PQ7gqf3jKWHnOZ9Fy5kFXD3M1kADdQj/2dOmpadqLmj\n",
              "onS4dFwHwBj826dZL1Sib0TM7YfdKYtXeTBxJWdAUzJEdsPluPGr56N1zKKjh8oK64WOB0dt0pCS\n",
              "iONcNZYvniqPMYeCPmInSoVQJ2WL7BcvtpYROc7I7YqJkFNKkux2usJyN5MrAB1cFp4ReeeRCg8X\n",
              "8Od/goCJ1/LP70wFq//lYbm4JinhD7RasLPLzY4GVimGcLKCGeFjscYkMtN6C+P4DZIl6s+I6miP\n",
              "foNjuX0xHvEOe0txGqgjXrT8p/EKdrJ5iGgEltP8mRxrIiJnpFiTAK+XwzxqjYubr7s2xmfW+ftp\n",
              "fgnkvw4MYy4URQ4rFhVryqGYNvgMt7a1eHy+OlzxCo9E48UMcH1u1RxQm1B0Hg4HN58EPJCOlYX6\n",
              "5ZGtqVwrgoXDXa16mfKDNEqWOX5QlsPch45csnd4Lze4WQ/uSQISEpGjr5njzC5Qn4SUY+M+snsf\n",
              "2f91ldfnO5IPgjH3xbPhlsdRn8JK4qcURwAAAwAhriv9TxoDc24n7GDHLitXOPk5iNOX6ic6Os5F\n",
              "6wyFn1nY79dtMYLEQd7FgiDl4feiLXMuJ+UJv72QESIxUyvM8Nr+MiEgvtsTcK/WdY8vFITsLTiX\n",
              "nq9Q0TqHXO2qst6XP+HDpjz5DzgR8dDP+7JjnVYKghgaE39oI9upp1oWGzS+2vJIGM5HiHGes2HE\n",
              "1Bl7S20xPvJXSuAD6dLURfBWWUhdzb0rhrcjbX1NbvlkTKOx9PFFgSE5ZuwN4caTjHkv5119DW8d\n",
              "ylQwdE/pBwopOtJV+2FtZtRJbxmkA4mLKjx/1fKtjwRXYK03RO3TDrZD76/W7DCgMiUq5WIQ1nk9\n",
              "QhuhfAlwSSN7L2C2g9xX1t4uLIWRN1bG7AmcZpqEHvg3KlBGxGil6JnLJzwfc4IGHzPO4bN6xlui\n",
              "T8BnvCCC2+I9L3NBDRA2cMIxRziS1jRVUA1TeciI+frQbDdhwHVE+w8D0nPgH+6ifQpdhgSnWCws\n",
              "xrHeh85MUoNsijU3pxUGCIltgnGeRpe0Kl7DrviUK7IG6w/uDhN85Y/VE9JN76Z0HqPHmtrVj58V\n",
              "0YvAqJQ8kNEfqrqjvDs+RIrAER9GyDQC7iADD0Go9ZkZkdh2I/Al7Peg9D3jryIvk/BOKCSpilqa\n",
              "xO4mRmCo0GvpCDi46R4RabVxPbnh5dEZgux3wiDqGWgqPSacC71tKtihzdXl39J5Qll1bQ/5fGSJ\n",
              "Xl1CSSusYA6rsEtt2bSIvnYS5Csh1t4E2CFnBxvJkRp+5ovtbA/xJZv0Jma2brgSmHZFGpnOzbwE\n",
              "QB7eaWi2JaT5+/sU9hGXJYrXIe2uABM3Qe8LGPWARk/+uYbB6gZTt8TA1vjeS4HL0rQ+SEXLPODQ\n",
              "3Au+4bzFOFGaAM355MozAn885wo3471IF5Vd5T+z4pE/TL5GV8mf6EkcsNN0PnObuI64De2UsSzn\n",
              "1SJl3ybd5dbN/Bw0j4Be11A5p4y/v5MRAbGBwJ10TI0YyREtvC/O3EitUmry5PAU2R7Y8RYpauTN\n",
              "iTEzcqN7yyxHnRke7BC6qTTHS2DUl8PNx9/jVCMQcmp96+UtmvfWPzHwjHAVbvOMTnGH7gvw5/fO\n",
              "s8ajX+hJTV8xF3UkoIh37t1QPajGYLXYJuV9ime/h2JwWkoz0dGI7N/6RS/bRX94IX1kocGHJRUP\n",
              "o7txyYEohIm47mAiTAtaVGGmgTnm2bkYMwz6bNngS2RRGXa7RHSK5/vfBgi8B5Eu1ME0Og8XNAjx\n",
              "7bEcyD+eqodT5PswF0d5sfHXPt9FfZ3keBUs4FidGADuJFjL2W5THPsCIo+rJyWJIXpzB3ZtBzWw\n",
              "PAnmEzkikF9IgIUoKSKXcFlD4QVfm7ddKrnFXl1tPKA3sCycvosXdi+seUqrEPUOT9aZcyeL6vR6\n",
              "ycpi98UezK5qbS8PCzUK8BOgODpg+BxsvDCe677mImNZYssWbsVumFY6RMihpR3v1rVC4n26xaVb\n",
              "3BRoYGHufNrme18peGBIBFgYebBayB85MyyRfs1smhbedR+WckcQHaZ2QoMdShXnPZLEgBdzOo3w\n",
              "DW8cuo1Jpq2e4K+iitjgLs+qMmaQyMBuyuvaLzWE4DaFkxKA823lMCZ9SC5DR6RetQwpCEjzApBb\n",
              "ouK0dFvRDxQbA1MQ4knJUo31v2PQSSFNenzDEVzDObjftxtI+m8ytaA9SwyK2HguwefhcQcahJvU\n",
              "U5mvvRZ0sQR7hY0sLI7Y/dkoWZIPzek7WFWXxdayLbf+FJc/EcNUsM/QNzjVoZ6Be3hiLnwsnCZc\n",
              "B6yqCRIDAzfDUlzX6iawfJt2GPZaAs3sMwXcRX6dj7yjy8n03q67OFvxFU9jNWznGidUev0vCTzK\n",
              "efRuKWm1I8m3J412OOvyKLANSMlanw5EfsTNS6KnP/nB0CX2D58QIqdPBRecH0bK3ELnr46vgRXS\n",
              "I7/TCu1FBudUeNCCRVNby4zaJEZMOyBSAi/ba8BH+Z8ATOvBPrq+tHhfoTjWrwYM9bSncLzOE7q6\n",
              "kz02/l6c+E7Oi6DdspqaxU0cYnD404PH59CF//HOYDwrp9IE4lEdnvgN9vzK1mmYnJbKFuCL5KpT\n",
              "bTe8igsyfLJ3g/V+Cs41RW/kEDTw46HqWGISt7AXnisv2lJykJvIBd6foAfJwLorBYPNrIPX91e9\n",
              "mrASI3HTAAABxwGehGpD/wAdrsZFKLXK6WRF9gVp1MKOgAIgULynChCWGfd2F0iV98vC1YvExeZe\n",
              "79tCZMQjVvVyxZya8RvAYY6r8gbqM7BjJ6NQrN+/+WFxkurlVizzL5q6N566Ks7frrR9KgmPIgxz\n",
              "xN6hbTPOhdAAAAMAABANPWAWbpGeVxn5opHFwzVA2G4flLJQ2OlKHNdjS5ni7innkNu2fGkdywfr\n",
              "Dhw6R7jLuiLKW5uorQqYrSpssOhBedRoPeK0sq3fWvoWyZw5GpbeZq6dCC2inIQMEyaaToNb/nTH\n",
              "nMqWh2NPX+w6hACIoNTMxNW5wzHOvdgvbsWNemDwbG6CrHNacc8eNCOUYjH3kVlRQVD1LKauogTp\n",
              "hqfNs/Fb6r/f+pQXRyPhivtJZJahVuaGkf1QyWD7IeOWrb9We2y5J3rMppcoAF6fonmf++vawrjc\n",
              "r/i9WlJp78XD7gEhN5hiKjfHl6UKxVJ8r6KuFyeN5grw42gsposNYAhVqM40l0CpzEuYzr36pFUo\n",
              "ghxCEBtfuma81ZAQH/7EvhYyBCbYjOas7FhgsfBHUMr2/IWy2o0AqnIYAGyOsq3Ve13BIKNgxZuQ\n",
              "3fN63+xYq2VBAAAGTEGahknhDyZTAgl//rUqgAjPNJQkJPVgfWQAS9cciFqgf9yktkZi4Dm3tNUF\n",
              "fC30B6Dukrw13Kosx7UhaAc+sf4V5Vqs412nv4lW81pfh261J5YulGBtVSGzAFYB3XD/GwJx5jXY\n",
              "X3U1ORMWOoAtvY+8fvc51GzetcFLAs/oPrUV/R/ffxcAauOCWXdVCJrB1gvH1wYMZvlZGyRT/gIE\n",
              "j39fBpFexHgTrGU3NTKJh9EE8WDSp4iexKxQ02JYYJH20BnJLcfEDEvhMXihTaSm8rdie9cUV5W8\n",
              "jRamywmkOw2/U6Q+ZGHDlVAVJC25PsAPOfpWgWfRIfUf3KE8cq3M5k9B5stbKtoH41Kl44/rZlKc\n",
              "MLPoUp/WKsjygQkts3YEVyHPxzKuAwyFgWyJXglIhvznbhLl5SojPu4fS4Ih8Qaok8hbXewtML3T\n",
              "MTteudydIdmlVTTx1rTGvEwkxkNRj27c98NjHS6/Vyv0tuFGYUvV7ffHXT0CFcH3bfIcJsx8eKCJ\n",
              "HEXGRKLjF7IeeZgaIr7H9EblzsQ5PNmd3yRzmTfiTouQp2pkC8dkNV6qd1IN1piI9z+D8Obj7j0q\n",
              "rog2Hs0jbYZv3kKkb+4PNOZKCqAEtexI+3aOeb2bRIJMGG6pK2l/4UTn6Xezb/yfCd2lasZ2G8OQ\n",
              "oG2NOolPOyio/fmkGqPpgjp+FYEO4Gogs0Y+yJPfKoZXH8j3ZKBJqrSE9kXcqoio20Llk2X4G6DE\n",
              "uSmiF7dBKEZLofBmwo/5OgWAR+WZkEOnI+TfOEOpWc9SCWKFNf2vKqRlRQOz9dSC39q/FGUaveOY\n",
              "c1CTvpZuE7xB/6HbWxsyadn3GqGiX6nQZHdedKytmh616IIAyywRH28WZWbpfQVc7alIDhGI/Opd\n",
              "4FN6hBBZn5Glhr7l+vA9rdTvMb72ef9gkyxnl1RlCguJI+eWZYtJ5dS9Wxa0gqfX6RLjzxoDOsOm\n",
              "3uWLTddvEF6t9a5TCyfKtXp79DhEXcHywBlwvxMmAkj9dmLbvdT7VK2xClukeEY90oaTpSuY88Lk\n",
              "cyh/Iw0e00WDmA+COObCoFgn4gCReIVsesnK2P4qRsb07unBzyw03KsjBRm5pJXRECsKfLfIIlSn\n",
              "d2iyIdCgsK8URrDY2huck03w0UrCSaZ6kaR1zebd0N9KKGU6OqeTnVlknMA4pYGKs+dtVByLeVtb\n",
              "6ggYc0LAe/aEazAK8ovyLN2CJZ7bdL9BIET4LxPn922HeS+ZNkWDSQztFjoChoJoNFDLkUJqtgGc\n",
              "Z1Bqw9U+qbOQiB4Yi/t6ftx7xmjmrUF4Icovtkg59bP0F4O4iHsbIAJYvTOZBbr4guId6Dw7Miu+\n",
              "0gTYGgmi+Z0wv6LbK6eTryqTuXO9W3TjTTAufFV89wXL4QlI78+xSrvOokHiQkTUkqt3HhZx0VVy\n",
              "kUlvtIYkLf80GFPxvBQNkXIR5YSX9eF1nYOAMQxO+N3jwf8Fqa66WNLTev1Oybt5ktsXBhfMyLih\n",
              "QZPWQMAttOeCHlqrXfxQ7/fd6cFs0b0bJWF5gMTPkbswMeH1+NujcWnaQuojaUU49+PqrtYOYG/w\n",
              "Xww9uHTj3dm2jI9usxo1ec13HUd6KGoq6oGjRAOKvk2bYiQP88lF7REaAbotChde5FqQyaFkh0bm\n",
              "KVd0TBg9FquT+VNN5DJFZ8zrenUOLTZii34P11CnGtDfa0YlBgPUqCfQ5sugJHirMmoMNyr7UYIM\n",
              "HXRy+/Aa/jVPR44seiSEn/tmUxjkrLaVwBgkiRsQ3qGiq1P9RoQmGN8osc1+c4Gm+iy6oK8GuBnb\n",
              "8s/49siNh10eVxWZKL2Buca4pSUxST2+1f4Kgwi9pfDwf9M3EbDVyF21HzFTVTq2b+/k3ROSZv1Y\n",
              "kj7kW36yhGOqKKeTDIPVotQYD/9XJzKKTxYmdreMdqlyYKbO6hOd6yOa46JSPhcGKhEgACvZWd4s\n",
              "uFNEM+RBdlmM3I9uiiBZesqAOGKiai9A0E2CtUtj7sdN0D1zfIbZdc3eGCd5P4l/U1P/SkVcNTIs\n",
              "qHFEJASpdCOBzhe4qyrOSxuvZ/A0ijRr6aE2jLAMTDw8XbXEHnM2LA1+fIwNUGvBNGhznZFKugHc\n",
              "QuiZgyC1SifRuKl5Yh4YywkAkHtv7dlkvozRAbMAAATLQZqnSeEPJlMCCX/+tSqACMF/9uXBO2jH\n",
              "iAAWp0+LPhxe1ucaBiFeai6U7fclk+ZZhJQDouFiBq4f/vRR6sq2+FN+/iV4QiETZIHedjKSnwSu\n",
              "s+XLprECIqNpOoS+pZmhSigVjwRjmp9GapMnltSAMVXUUtuTg5O3966+c5cSHqBifKOQu8h+JsIb\n",
              "WxVf13MQFS6qqPbJQWhA5LdjDZ+CJeAXCKs/b/oPyxNY7cN5RzvpP2iTHTuMU2BtmgigjGqA1Als\n",
              "u14Lcikcpq/2785roT+Mj5sG1veda+NpESLFH4u60s+PDaafcsPnAB8ydhEBMxt4YgZ4oo7lh/ve\n",
              "WBllQ4PRKflqcyRT+/Huc+BpXT7I6kCtxuw7y+DwhGFrCdlvXlzvYwoRoCSIWyPwNWY3gFcRlE+0\n",
              "4TtmHgEiM/dYqLN/lJCQ8cgKLQDWhnEzjsDvB2AjsCW02tO/3lkk+kGUXPY+CyDxw1oVKSn2x6+a\n",
              "QSeYhZ7pLydbmRahhTRaCrfzQ58ZBD2o8Q4Sc1gTgeFqcbIuqVj1zDQ5l7Mwk0ru+BvyYHBekUYe\n",
              "pExzfCB+hwRYh/i2SnWAdXqrQ8q3hugpwwomibYwVV3gxzJvsr2a5bb4yObvdibt9mA25u+JZ3AX\n",
              "V1aAAsxGuTC0h6dIh2Ss0y9Phf85UvNmyfuKjdsYJWOeeul73C5uUWmnKBbOKZ0AhvF5owkGAfkO\n",
              "EaTVQf0pg5/FEZ40XmB25KjLGPIu2wq+PxeADPuJgnVxL3PDgze1KwIK7BSF64urFnDrUPCoYnKh\n",
              "mTnrH2bnRgxpMHVu+GemIrPSPX7+i+FLHm6Hs3K3EU1BWya2Y0gZS5ojBxXWpnupJXkxZ+dlLPFj\n",
              "qplTwGJQscZBNUclGcQc5UyNdGLtrugpd34Aq4KQdmH9Pifo976zyAIYEWkSXGMQDpG1SmPKYdAC\n",
              "NQIs8bMt2xEX6ShIp0ZiG2RQJxBOX13KajPEqfP5tuaJmkJMjG1uOPH/YnqoMyjw3XLyMZ2H1Cs7\n",
              "c+F/HHwlw+olBeYKUq9A1E3xYGV9yhXRcFefNFYJRjH8Q9CvLwRn7R3vdlLo1CsWXXGlsXKlzm+D\n",
              "ONn8cmb5kd9XuVcpBCxoooPS/iPLYc7Bd2VxHqrletJ9MbX4rutKEnoKmvGqbQJEKlewAFUlCWc4\n",
              "SydsgD0Ev7eYvcqfGUzenKeFxE7wT2nlmC+bbR0oMglDil17yD43z+q1QQrfeV7uDqa9ULU+dROS\n",
              "1+422cStMXSqO3qDWsswuVMREq9G9NLCi35p09eo6kg9zw9dmigVJikQGmrLkTvKTEA30F5wMnu1\n",
              "s/PLWYsNkz/DqBEP4sioq9c/+MuhTNr5D2HD26T+8Okamv0FL14NFpNKO9BfpG2OzPhqP39ztWeD\n",
              "6tkJrYmw06okOb0+aIUaRKcmrsxwP8HJAX1WmQdOwjp7rWbbZc3D2IBEF6qXiCTJbY3bsVg81jor\n",
              "y2KeAp1jFpO8ZZb2Ue1gclzJJxC9JY4/jPGXqX106CIZklXF/R50f1C6RFSme4Ojgsjs3U3rVhu/\n",
              "TqqqSf1PygvLzrG7cV9jSKwZNpu1rYtgBngJnV294FoO6XrGvUT116xa1eYx9hlPEtBIaoA/Dbtb\n",
              "7mAfkDehAAADk0GayEnhDyZTAgl//rUqgAjBjYV6rZIAGh1fgd/lqfITatHH8g4VK7Iq3TGZ4hwk\n",
              "unKwDqYxUzlJKdmOrbzPYhu9CtTltvxM0Mp1a2TaTvR9W1VpDxAKacsTyoXYnlu3wlvHbyjTH5fW\n",
              "5knpQ0uxGmZ/XDYEiB2NF9aknS7Xl4xgxetNZNL3zqvShvHth89WtctDQhFHBbgzCf9HNk3qsf5G\n",
              "kwgz4JsteNm8y8BVHa4u5Dgfkw4GC/pqdBk12crOaT8Zfwdv7pNbEc1beRQeKMO/jiQ47WTSLo2X\n",
              "hJ0Lh7FnHv0l+/4TRwqqZ1qpeGcKtTaFAvFhXH8kDaJFb1RavqKRHn2fu+IKCAqujklipQsfc56S\n",
              "Lm0Z7S+6qkdwkdRNN4hOOMxjpgkCMdyTC3DpBPRJ6tWBalh0BQl2BxCYzhkuNC3oevsAehq4bUgd\n",
              "a48L+Hk13U0vxulsqE+B0caem3criPhMxk88dUiQmS3a2ms0zs3pPGNgY3+vKASRUGQmodZElLjE\n",
              "kxiWWWdXWfv3WipSB1sGqn6ScesWh5WZ56hR+O+y/kTyz+eagKinAnGqNj2hdtQ/zdyD5SencdVe\n",
              "b3IzwxoAdy7zsAUu4+CdDpy/IeVIk314J3PqZs1uYlTXPVEj58kT7GihQOapLsdrFx3G7uOwv60C\n",
              "jGqj4iPc00erpTUG+wRutuymCVJs5zGNdj+pxl4iAVwbynemvqZK2AWrkE16OkMRojF3ghFfcGS8\n",
              "zlC5vYNhpa37/tYgSjWumwBjV2ukdv5QhaFxmqTto7y6ctpQzs/yYoUCtvpdo73psdIbt8S7zGk4\n",
              "dSTL8aO0a3Eym23QZ76+fObUYAg4VsvUZQgQnW5dlICL0QAv7dGrclm1l7NlqZRTp4VXp8F4WgKZ\n",
              "nsIyEiY/0uMqYSoPCJ53xAJqKuR1+ueGeRYM/33izurptwnazh253+CMYyJAR9gGa9Zd4TeuVn2D\n",
              "MoEkST9bCxrL1f/BDZKdbJf7inGqrJaD+lhkaMhGVizry7xgBCOA+TOX6CD39yxO+oWtMJG03Wa8\n",
              "enUSdN7gwzSd6pXCzIVoH8OXKJBhzvKu8SuyjQ0FHG7WzPee7z/aSYvabMaWz/4wW96WlpBU1oLF\n",
              "RFQ3jYjnL9YweEJDKcc6BKADau/Opg/VAtHWkITczkt89giDnz15M2ezB5gDUrIUhg+gxU9PG4ry\n",
              "sEErHkEZpf9DFL59wAAAA0JBmulJ4Q8mUwIJf/61KoAIwcRQmGQADLLz4WJT8CvxDnOuOhCdSYNf\n",
              "qag9Q/FL+i8CravhSWcZrjl/GUkiurgPB4XKyJ9++07nTnFo3ANK0xklSv4pQHZHbp6M2v8iyFCp\n",
              "tJ6aDe33W0XI93j5Qd4lZCm9ge3rX/pqwsVGtPUFU/fLfFCiZWywnAWfPV+yH++1XCSenuYou+2B\n",
              "tgB787CQPJKOmqIE3FHMmHv6BbwIoFRqGjq2AK6aGlbI64mIe+NSzWA3N4q0S3J84hNqIFqffjuH\n",
              "i/ReqtVUBSWgH5FCer5OWQmaJ+1VU2FvFkNMr9ynTaymynCVKJVuHebD/X/XK7H5RdTBnMoRmyvI\n",
              "90HsM7uhd0lZJG3VMJ5FlEhsz2dHEyGTVOQHdL7FW4KlClo/6yrcTfZGiiYQwlrBDvtR1CwG1bZ+\n",
              "lkda7L587VWuarraDxtlQkeeM+iBpz19UzS1Ji3sIfHu/9nzClgv+Zf5OFtXFVoJfHk9Vs8l/35C\n",
              "32hrGCcuy724gsNMXrmkKsraaCXUaKE8/YRVP5hrWQUv2e6+XsINSWS2q3hp2zf4EQ/wiJnP5u72\n",
              "MEriG61Qu6VtZPwU1nxRfqfrK7cwF+NKYYJ88+eHzgW7yrWDjhG0TxZqs38jfRPHxlNscqL3ojB6\n",
              "E13oY4JvHp1NiYQ1MGWlPzHcE227Ljc6XZZZyhFoZYmZ5TACAmMkij9lIh8aexuel/Lid2mJgR/V\n",
              "h2rsSivPiikY5yjX8H6WpuVJzmufGO7JMx/YR6fXk4/04GabVkEUG9Oa7LXSvtVQfbjf3nwH8Zc1\n",
              "ae9r1AXXwQrXMscCRFcseLPVKT2P/QOdT4EyMxQ12+EzC6d+12JVsVVy2Iyspd1gAK+fvbp6SYRc\n",
              "Vi57RdQOlkCax7bUj+qYeBrXp5OkO/lI1lDd451zLOrP6zg0U2zeRvWe6A7Lou24YoyJbzlZ7MB1\n",
              "o7B1wC0ocU4LJMlvwS2dUArDfjm7YqtJiUwJC0NpsaazUkoTMB20KFkCa3UFotYwActRzuyRKzMw\n",
              "5dzzUtg+aSRIx7hX4HIwz+QxjV/CggaX5IEGPjs3wd6pHolORXOZOGwb387HopUVapVARcAAAAOy\n",
              "QZsKSeEPJlMCCX/+tSqACQOLtgBbITkg8SKnxY8Ue6cTtZ8rufLK6b+KyeZ4y2mb/rklVwvLtV5Q\n",
              "43rUPWa5tovXDNwp6fEGPC5Jqz7D66SfjslTCdFxVN+ULTQdmPj97iDJLRsG59aIkMjvaqJNTW4c\n",
              "wWzDPNtJjixYunkAGQZpUohMRJ2nMYswn/AFs5GRRU4HXl8Y/odoxqmwjA/Yt1SFGakyBrIGu5oH\n",
              "eRvrcw7/WfiHDLaj91S29KRahVktpS1o1SLvRBfJh3ZlWEWGGfewv5b1XpzYttLC9v228l+JTXLY\n",
              "z4IGvInvDWKAcFsplMGlrzzjgrfZliQFSdPoT0GA79QfP2J6H0NQuEwhbLjgzqYyVqjqx1gBVicT\n",
              "UCyYsAZBRGBmk/xUp5ddt2LOI/fBDWj7IM9rgSF8BbhgWpNNQ+1t1SfhRnVTOfmIN8An2OYVqzQN\n",
              "W+Mf+4pJf82xpMBeFRXGrOh4+p10Q8RDJYcbhJI/wKeYuyQQUmHTGWCNBraY/4My9Vp6QaDgy5Me\n",
              "pYs44oVsjgKkZGKTQyc7WPPUFkmPWn2ZZ+0aWal9Ituao06sLIanNSDEu1/0vv7sc3yKPpJbURrh\n",
              "sPPbAQVEYfYRqccwlYQApJJr9jJMS71ZpjTbWwGScqGB33Q5GNa/4htPxH2p9NVmo44IknUE27kK\n",
              "EnF+GM8UAEftMabAgt6iwTAnn6myIIJJmBQSdRUwJKp78A0NYT24w68v4xg5ncqAiUEqwJBzWKfb\n",
              "0Atj4m3/xQmRWGAFmq2mf0GuGmm+K0g9t3GKjB+cP2ShP0nFx4wZJVvb8+YfqaVBh1Yehm61/0az\n",
              "T309K4+Vd9t/Lj9JjHMNPpbYN5MRfizqqXf3bEHuDZOjOfcQ/7GijLivgrtFqDCg53yVyik7vQFS\n",
              "0BGzUjNU5lGrR2Yj6tLoGQLFfYrZXgsf9fRywtB0pKFwfu2kq4BXmwpwGrQvOAaNRp9dm4sibrQK\n",
              "HpU9NvrfRy6I2TuAukwnpF94dEfYEgHAF+3hFQzusP+FoEPhnA9TqSFUCG1mLSa9oxXDU2iaCHuj\n",
              "o+DHdz4tG+YrFIENvMLc7Sjss/pFy54on7znBmI/gHgLPNwCK82oN82lhLCJ0gLsgVxW+lg4ba1i\n",
              "nfJ8B7/fRn1wtZs+o38aWsn878tNqZFSGpkYU10EQ6Se0/nFaFJpwXXvwWaeZgpWFIvXa5S3rMZ4\n",
              "x6Xt42ih4E+RUS+BTriSQO96OJ7gag+7ZxmIBLeACVQD0wAABLxBmyxJ4Q8mUwURPBL//rUqgAjB\n",
              "iV/P7rek9IAF2P1NwAc9msHFiw65oZRbx5/SZG7E0rLg1JlfmlTGR/nNV/lrP+UDw6BswPcOjlZS\n",
              "+a6V7dAKHF65wCyKpiQCGCuxqRimx+myixEw58AqRaRC4f1XGKYzcTkyEysIEUBsKG4XGkEu7x8j\n",
              "V8Rsg3ePbv2KhVGuEsAKeeT6AAADAALeZSqbpRcYrn1I0sOoW076HMPZ5zSvIOtTF/B403I7TAvw\n",
              "zMF/UyU4oP3zQPy/A09rOjtdQgzAuFzId74uig0ssApU+f9JvdKj5vh3VaCrpFq3DEBQ0bOqs4Ia\n",
              "dcagQlwDqJkuqaIkwr40TxSK8veiuTK6WkTZIkOAg1CZaDXf6XtrLYZvOfPAdHimq088hLf1rI5z\n",
              "psJZt/wQ1JqYB6l047cqkb2juM9P725AHQ/tO0spWbQztotO/vgyH7fUKx7oY/VKzygve4XV2qcL\n",
              "qE42m7DojRFYvAvB0pkFxM1xxP28NGtZ/OZMotv9aFXySLOfgBJwt1nehw/+ZdApMbLTXfPTsFEF\n",
              "nDL+y/iEBCq1Gsv9uBdqAmZQcyoED8X3yfdfE2//Ip3zTVnz1hV9etCa3eVwyhrUSh1SQ0W1KSwf\n",
              "ovceHXA4rK1GPR4I71dgFREo33qQbf6EOx1Xaby7pSqTrQ9ExnYDYv9sVV49V+LKakFWi/YF3WZ5\n",
              "6THe2IJ4Rn/2hglp+PqlD0ujciX+GKfvbYM6yGOAEF9MPDf4Nwsif32fQCI/2EQ9Gukwmcn5aIlx\n",
              "nKtW7OPJsvCFJUCPkqSsEaxTumnLfSj6KL4rpk7ZfOMuyWay7JiAqyMXjIka7cTuXBphVu5VRNg1\n",
              "8K75wEPQljy7/Dh6lVh8oHvL5Ztg1XwbEedlN+LS71l3pzRz7HOX6PnGTh4S0JogsKp5xFQA3Rvj\n",
              "CgJaVhIOPiKTjrUh3A+yI3DRMUFNWtayrwBuw6C/WOQpkQM6hV6zVZkE6/bTUA/nOiDPXFs1bQ9q\n",
              "+nXvuUy2qucwhX5/IKNZ2DIT7jKGdx2Q8bEgLV1Ee4WccbMxwl538Qee0HCdrPVVHdiA3QU/k6/i\n",
              "aCOXU+h+nNWDxJm5PueuFolcUw7kUqQUwBaKYfsUx1DLrR+7H9mbUCEMaLKx5Ms47kquNrpUnn0d\n",
              "nIRzqgAAjAUd+vtnMr2+/SHMoTIhimlje1sI5uFhF5cSOT0WZvKwcCMNqlfR5B10gHoIH89fuZxQ\n",
              "WhgjXZEGh8Krdr4M1Lvppsx9FCvSy/lFZraFz6mXQAL9+dDy8cHXTGeIJ9wrxKA25em1YKCFdlmJ\n",
              "C0OZDFDvV9VMojGXXhhGAdZHHZ36nCU7j/1ID4Ioy9+ADlhKWsuYQ1UtVvkVpxvhrwZOQ9vz5clR\n",
              "bV3TtsRC8CqD1RzCdGLbigDEPF6Vo1CPek6tdIw476JhknuXJkHrtQPVAQhDwssY7kHyCKxxLCqb\n",
              "ImGeYslYzuXktNszAqQ3BUnZ0QRWD/XNx7hdApopjJV+BGMsCSDc73NWruh+/5QWOePxWOI8Orwo\n",
              "vGOoVZcj1x24e708WOMhkjDP80m6pDs5BR468e1MjBBzdxPyFzCVi0tAMDhOHnd6PfwyRcAAAAI1\n",
              "AZ9LakP/ABgi9x1uvlHf/xVRoYAIeeHaDD2UwshGfvz4n9p890pg/hrsGCR/4fo4Bqt2kse7LwFz\n",
              "aZkzu1pRjwgOSlXRuq88q99np7r4KSTBGpok89v1mEY+xZfhatdHNMe7WGGllesPcGgVTq7tHZD8\n",
              "0D53Po6oamYwtslIMhdGFCkApgXs5gygIGw5EH45yaYtgphuY/wS7X4GIG80w9bsaRx9KYxEX4H0\n",
              "bOIOsBH+8VsgexuRC+diDUL9eAMChtHeldchu5Y6QVwsA8qACaq7nGBELPJ99kw7uVGwDi9bWblO\n",
              "9yd0Gu00Zjn4V9b5wabeO7UkgQsNknTElp2ThLa7X1RaUwRZXnpGLuw5DdkHEZKZWaumrhhuraZW\n",
              "e9oSmszWxIzYhntm8ibxiSVbTQVwoffeuIEM5Xf7mUjs4ERzzZJFCKKf2l5NoZrqma1KneCVcYjk\n",
              "QICsG44mhrJkgtTS3cDCSps9dQcjUyEu922b8YIpJ0XH7hhXxPhgnsnZU0OS9023rcpxqGyHA4PP\n",
              "+3Qx8e5kd+U7UqzZRJ0nk03diLinNaKr2UnmNBj/5UD8+FJMlHIxrF3g2aIcVwBoxZUeWRu9aA1s\n",
              "lmIXPV3I/9DtbTtve7Bim/pOa4V2C+F6O6dbeqcVLRpNGSb+ewcu2Mf0LM/e4T8783rw3txyUk3l\n",
              "/7YYnyq/wL5PI9Mc/Zq3D7qnXZ7Saq/22VO+WU21J9+oAAADAAADASpEcBE4MdKp5MAS8AAAA+lB\n",
              "m01J4Q8mUwIJf/61KoAIxEy52AC+0Y93LyjzE1uYfV76r5Y6LzOCkeKOv2AJsF8c/vla0xoh72AY\n",
              "qt0hq7NC9qAojYRwZmfUXzve6U5eVJm88DUgE/7f7La4tZh2idoPvOn6CWvHAA2jUDzK6Rwjtd+c\n",
              "eZ7ga/0FLDkMfJ9eIpPerz0z6OBtfs47U7aKzmdL8c6zS2xt+ZH1uUnB/kSXk+xEaOR/MAA4Xxl5\n",
              "AFD6eZztUuGbGv78LUNzNA4t3D9CgPOKi8zSFcE1gNs7+836VCRtrqg125aKHyYi1/mpWpPxiY27\n",
              "4B+wlygBnongIOciW+FlS83ncwjtCEq0dqm6jQt30LHuuAcBw3ha0rahfCLPQ/k0uk1Any7pzh3U\n",
              "wOGq6b8Tst7VNQNzgD+0nWX6VsiW2QIkcBySuyZpXeYrrIB1SMxaz9BtsU7pCwlsKlc97UqFWa5n\n",
              "G6zYLjiqOqVlkBZG/B+kUl7ohZCdgBQ1x9NxnA7HVXfQoWd+Dh8i0upvpMbrionezjWeZaJZQiGU\n",
              "uSUkQKXB43Pev5+A9XMT82uagnJV1qV/NBMQ8tMLzDDeVXrLmcqDO5vSNUp74b0wP1hz7W/8pTwr\n",
              "OD3ixPI7i9jB0Uk3JAyjWLI8NXGgt2KLgAV7cPWbq+POTKctNVpjRpEz06i2Xd8qEXhLvcpbGHkP\n",
              "PqgAZRgAYAY5NXVxnojgoPFv45x65Pfjg32YX8XbZZrsa9UAAAYTz+KivmgEm0QE8/1kGpoPQq9X\n",
              "HT991rXF/M+5JnOKf1yE/4EcxrngV2HnAkIGl+ZSIFox5g22YOB+tIuRt343y7RBN61Osg8+SQr1\n",
              "7f25xaSe0QTzpTaFWfA2X8Ga1j0NwTbyNycFP4mOuGI7b9ey4mjCZUSvmrrY0+qwFk3LdlC21Uh/\n",
              "PoDOgdQhmkycAFObG5+MHFil0hee+tMYaB4CvahdDmO8slfUSCmaqlBLVAYv1Be6u7cmRoUCeqz3\n",
              "lAb8iMnh9PwYVAdoLCCQxkfjnI6s5MBqVYXYlBLYChEZ4rqvRx2nrbvRj1RWXx/DoTC9dQzM7FYh\n",
              "U8jDR7BWx8yYzRuKvxG3WK1xgheZB/BI4KnUoA5hy2B8WLZOXiJJdXB5CN2yZhXtQxTXHycUYAdF\n",
              "1TOldVyPHcYDU7s/ipDqBTAaH/rE2/uHKPoFxQlMXTMSOP1t9h3H1yhhWAjiLsMUCLtY5CAvq/Gi\n",
              "SVprX0EgYN3fowoxlwYF4XbG+40hY/gdk2hGSb7fcbLEv2mx04k82okX4MyOfdazYaiqENuLi43e\n",
              "irMAP0OD4DWFyPn5gEwikjbVSA7lcIdfJNZXbwgQcQAAA6NBm25J4Q8mUwIJf/61KoAIwYnmeT80\n",
              "gAaJ9UD7AvYpMFRejiXNxZArf1Nl5A5gyEAl5Qt1E75M8XoMkXy3iNm81ia5oekWsFUIAMj3d8i7\n",
              "Ce+LFLpr9WDRDIzlQuAHG5b7LZYtSh0CboHt+X8kR29ABZWAbrIWOb4re/bBMTeUcz7+eWYfaLQq\n",
              "kuOjnzv/SmSPCg4xr92DbKOb1aoE+ab9X4tyu6hFLQaj59KyBLYW/WVfMhv/szOURqXBup/viuvv\n",
              "nD6huZVSuxa/QmRxCodLMShwC8qtHqjb6R5QGpanBARNnJIe9ERtvxGRiyAfjIQxWFpI8vwjTbxb\n",
              "wUIQ0BBFHB++/qJeNrZ5chwdFOEPyNf1bf6McMlBIHA2QAFWf2w3AMRDs9td4G2fd5YZeiMBYlIU\n",
              "bDvbKbYFpcmwHh/CvbUz+ljKWIUl+dMcQ3rAN+6hmEY56n3bssHYZ9zFYSaqGmnQU7MWpg0xw1Jo\n",
              "RvN4Cx7wMnmpD+//G5qn7HALMwIePC7uCn1Tq/IPpPD9KbhSoZnTz6ARxkTzBY9LoCnQnmw0CbHK\n",
              "XdicuMzctfHd4PxU3cw9avZ+epnEMoCzEfS2Ljv/m7kFWUPPl6501nAPvJANctQcybZv8p4bh3rk\n",
              "V49JQ9gTmQk06aN/WbZkJw0GqDXw3p6idLB5OZvoKnlXcWovxaBozelBfrFGtZtU1fj7P1Xs01uX\n",
              "yXAA1yiBpc1Rj4RfYifO55vBb1NhNfZ04hJCCE9AkWNCKGx2HV/mGV2CDWHEf3HfWhsKTy756lkx\n",
              "jXDNf8cCJhkh1ep0ahTnhed+MPwOZVc676wCRtm7+xsFtVFfnDnTiG2BpXOa7AS5/sjrNLhewT24\n",
              "ptvGZ6vJ6ZA3+n0bZMkeIJs7eTs1kIeVM+BVHM0/EsQNhdJLqL8u3nWDfqai2rfu/V+BDhbCVcf2\n",
              "4bSVk+iL0ABD7KN3U9wkSmuBYmo59Vs8ROIOjQc8WUWhHNw8ZCbjil6sgI/BDS3Vwtccq7rCY2Ym\n",
              "W7wgMxs+Odxc8RBDCtjkcixGYHln5tK18MqGlRFaM12khAyiL/ETRM3SUdc2BimXfVeEt7aHKHkn\n",
              "I53SQk5bkUdWZ41umEhP9Pdi+n9qCzLnpmH+z13PikimyTtun8V4cc9T+RLVZ6b2S58ohkCtF0Nz\n",
              "4BkA6p0PQ+waQOjXWfUXmU+WbDw0UgD4f9HVAAs8Cyatzbmbs6nZU6TWwYC6r7OUWLDlBB3RAAAD\n",
              "zUGbj0nhDyZTAgn//rUqgAkCEjvxEBLACWRsg9t1sJz/d7U2ZUYRP9YfqTijHx2U8LMc9i+pgtkc\n",
              "CQiu8lTHoZymc1TVGz/GHNUW+G2WgwvaemnNs45JTItX+duJApnm/aeGyT2TcCmc7PZTewQZhJPv\n",
              "k3Yjcpe5IEhR2Oo4rRyrSiowd7gJ+B+Agi/peM6NlaYFbeZfhs/DWLEqcRIMLWMk362uSoyrosSi\n",
              "eeIZ7A9rODW7DKlbbUbd/jcMAPV2H4PPaVWi4pWti+5AqUCNuOTgABvvhDbfjWnw3EZ/3DLqCPrf\n",
              "gIj60Q0aO7L1lSkeNiDvusAs0qVjiM/ktut1kLFC/wzgEfZCN0CEqgas81xV4eDTwgY++g/J5+dQ\n",
              "p5lfXpZmkUO9OJt7DI9r4QFcA7b+Z2QPDUsU4gJE/RfDA9RTLGC7DUk7A4sZYvOAuZ7HhMvrXdVV\n",
              "Ag9dwrwl+h+yYO5WeV9bcWsyUCddyMOdCzNANQsmhFhZWVpcOx/vKDE4d0SU9OBIZrzHBTjMqIKd\n",
              "vT/rGGMaSuc/P8wShix6v8/wlYCDoaK8jbNbBIYlz2tDlz6mwntPNHtMD71h6t2nlAi4F8tWgLqV\n",
              "kZJTnakFqEw3BVCQku/8B6hMTy9ZLwiXfG2aFOlqG4bY/89YZZE/KyDzOwcgwAHLNb4EEXOxAjgi\n",
              "az0lCN96xn4dcUXOD+qZYbd0nEQf/N3VS8LUZu4KSzCVjqCq8632hwNiQQAgZpsGlJDOgrvA7HG+\n",
              "ogGtGCV3Z/CnMFFpTXRdhXbVqL6vLNnaFJ0sDTKGmqROU4+f0JjHxciENakDlVGTU0Z7AL8piU4j\n",
              "d2BmYySU30dYhLOtsuX5iSdn1J2k93uqx8jwy+YOZ1s9oOJ1gXOyjLm9GeVo43tjrptkTBHrfMp5\n",
              "p5SC8L8mcLlfYTQ1p3G9ngghspWeHJldrzaPuRjcfmXkNJ9lCgv3ktAYinzcFdDTf0uZrxTutkvt\n",
              "cftb0i+dUNnu4NPQRZ91nUYOmfSMoxole8JM1xO3BrSuLmKRls/AWKkohxogczfDkusHkWjPoaIw\n",
              "NtROngm9HSosfYNh9CwMARHMYXOz9z6U7OQmoJyBqplIb1QHvZfz6Qi3uqMluU8EjgQ9xELuNguQ\n",
              "ghdL/FoQDKqx61hDbNeMuaO9ha+tLjB1OTmAj07co4X0nq/mHQkPRBronL1ed8Ixa/9zisOiPEWE\n",
              "AXYnh8UdbHThh3URdgtO1Lb67LgnlLMgMB1rNhj7PAgEWPAoazyxMo+N4vtlfsSpave/gqksX/ai\n",
              "KPCAxYEAAAQrQZuxSeEPJlMFETwT//61KoAIwgmJBxH0uACXa/Eb+TTdFlQSNGIKoAXvTeur+hCL\n",
              "oB71hu9FK1sX9lo8JFzbRE7h3SlMxY935cVQtqvbh331+ZuLinE9T2lSoS/WCCF9NXgYu81LclSc\n",
              "ezyDuLcz9x+eftNYoPHeKGj5izEWf2UAAm3ePrs6HEJJ/yUdbMbJ9tX0eA/39MgG+FLEgePtSsQ2\n",
              "xHvZWJOuMZr+q5jm4rmQWgzN+HKpr3ZOMcVlpuG8nsWMc9cDxI+Fgk0T7D+WtDdjCXNS/z3Thpma\n",
              "rQ58dW1hBh++VYYmbCbkGne/tGIVQnCFfb6gKWW+Huwk7XAoW/W5xxfiJhrc3jJ5InahEvUFR4lu\n",
              "8/ZYVrisjdaRmHMQYFz/Nl7MKuQ/3cTbelrdme0n3Iwd8SYq+FBDnAstb7k1gNPtQoW8S05+WKpG\n",
              "zhudtbIumi/qANfm3g+jRr42uRL0fC2CKHG1iijqmRvSBBhUMk+jp4JMj9wwAZKkmZmHZGfPJW6W\n",
              "2RDJE3jkUwzNxmRxCGihV/Vn+QfptkNmHc1GBIHco1EKwcAx2WSGPOQKXCTQsebTWo4PN+h+G7HH\n",
              "VcF9kIlDcwqIwCvU9iw2uQwriewy9zNgjMC71Gnt+SmnlMCWXBjz6ptFoDlbIinGoo+MdSsGSi9g\n",
              "+hfX1DJlwYWNNaLmEHpCgWw8wPE26DVZ4nfSS2V/VNXDyeaYFpkyXi+TqJvU08ZO6+hkQmMr8U8M\n",
              "3pfD6gq+2QxehDGVMPPTvJkIr4LUeJtqqSPagjQdsWlgqrXobsS+1gcD4PIDTS9i8oEwUyLHLddr\n",
              "RyHQgHkgX44fqJbE64R8aEl4sHtMbsLJGK01Hg71sHcm02xx2HZRV8PVLHFve0cGgJqs0ZXRgKdt\n",
              "efRys/ixo8D8VPn9zNKt53+9AwQBkJQe2srjBMiQ2oYuYV8iDf095IVhXgNSHS/1vkPwvITfpsfw\n",
              "CbRCBkQpeP2jBjIwwuCHvymGGfrfyheHTbnQkijlPLwA4vLE2PRoqgZgDBnC7FIPPXufmWKKRq06\n",
              "uJnFJLfRwmUUk6qKs6Z/JbTNOLkfh0ANizu6E8I00xbL4fVxUpUcpFt3Z28syw26iiiPUej8JhbI\n",
              "h48lK7Q4jYzd4RVmVHltSdtbY0ArcSGQedrHgS6WbP2TyavswGZSzhyiN3BMWrOelAWsodC0K4xm\n",
              "CilYe2PRvIMSM2CpuEVAB4vfihL2nzdfx4WncJ7UznlC4pdVxxVwPXy6vPMLALCpRW4VEejME4hk\n",
              "E2fvLMEfvaEt3rTdOsCYD3FRRomvLyO66WNNNVowbZcx4nQBBzRh8HS9CWUaueSxeuypSLh3vr26\n",
              "cqIwxsHWv96PRjBo6/e6xEHTQLQOZx06g0aa+NOjGXMXru8fuA27R4rQGsSITgVQImAAAAJuAZ/Q\n",
              "akP/ABgiqFEhWlU6WTKJZGACHo6XON+U4Q916mh12ddEEPZ00C32UvnjAg/N6fMiSuC9dXuUbRJz\n",
              "4q6wXjkHePDZsWeDJRngPNgccSW2AyWnia0jDJgjv+0SHncNK/ypT4scT4rLTvvL/3HY0h/CRmYv\n",
              "AJW3ZxcTFgzNXMDD91mWiCJu7sf64yEHnTihJMP3kePUCn+yFfuVeDC86Il6mMNb+B8eukG+mX5V\n",
              "/eupPNJlnGdPnDM6MVsCmb2WDeNQAABOOIh9eYSbaYmgol00kiJ37p6eLQhp2CEMp/x8bPde28z+\n",
              "RWIAbmusIK1PcpZHM8qcczovIKyRCpUTpNL9WOJDsnc4ufIwkp6rNTh/dAj9I/R1/elmcBlQgGey\n",
              "xleUqTJ6sbIBd3cVpGNJ4zt+YPn6cxbYD8m+8UKjiGDYvW6GWZHM7yoZbRWMu8NLn2CTwMpujdLV\n",
              "Vq+npPBPLF6BTPIExvfRlI8zF6MnMpXkA8CxApkv0u1rId/3rz14UzBFyg6SOw5rcFmeOLI/TcWV\n",
              "IkKN4amqAEA80+QJbUwcplTVa4gxzKv+Klr0CAt779gxcUPIzqgWvWVDf3QzKkhwJhE/VQVvQXj/\n",
              "ajwpgUINdt4UPxciF18BDsUGhk+YNnQPaCFAWQoQAK0AZp8GNFR0mqbdzFTmAzBcBoX64ei9EE7T\n",
              "i4bsaSrFV39cD5beH3ArP4QH0Y7I0voF/kpVZIqRa4hv939bqGv6IPbMABiq+KufTdKIg250mLqT\n",
              "4van31dHjJ4vVMMt7VQuXIffe30tqIeO8D/W4aWJPsf8AAADAADNpbmfB+pl6fKNaAAAAu9Bm9NJ\n",
              "4Q8mUwU8FP/+1oywAkCxDU0ACpDruvlns7nz8qmLPlSdjO1YKJTe6JhjZn9A/S2gJ2iKf3PZlsTS\n",
              "6pEDTtNL9vjK1CY3VdEBuJJL3ahrUr1QJLSAgAAAAwAAAwAACnDUYkg1ByCuP9InfzkpXFJwIoyQ\n",
              "ShS2M/k+mPXafS+K06bMWrejTSCzszG5nXWEYqrmZtwBrk8Xkxrqg3/TG6s2RhjcbZo3cVj5PB0X\n",
              "JkbnF5uFM8umoGF0Tpt5eKE9yjQbz+ikNFIolXCk0R167s5dE8Na6eD2ZbML0hzHKMOUPL+dPLAj\n",
              "o52wnVaj+wxI+xY1heZ91hISvyptW3YRFm4SLh8vfJ2brhIyIA+9zdSDU+hAH3FpDjlPGlVaRCsf\n",
              "8iUZZTU0qNgG/g3pGThHd/opxOIEPCswpxlrqt+nllri2eel31s3BGcP4Y1eMKBvq6HS6Bm8+6oH\n",
              "euKGGRnk5WW/U4V+JqYyqTQxZeB2cRW+vG96Elr8xnVssNJmrLT2XzQ6Ett3RSIu5+rzYxCBaCRt\n",
              "O3OATOb3p1MFnwXIGW4cwZwEUd3Aacm9JEAqNAhW4wP22it5RDp2FJHpqvj42/3ztmPoO5QskcqJ\n",
              "gEA3WGzydhQ08AXSjWJRvzZrCMDBzQStAzvwdh8kNvf1qAgW9jtFyPGhUIgSI6HKU8WrYFlVXUbu\n",
              "zP0xCKe0ecwrSAiZlaU47RZpHpeiJgjW5u8pGDVXQuLIzX9DC/DldSyocyl6bMui1YFwMoX5/EAP\n",
              "5bhM4pjmoP9Tr+3ZPKNUwCJ1XWKI1Trh01Ef2+By2JzJzghg+hPMLgHjsHluWs4+aQnRN+6Q2Xch\n",
              "i+JFm2W8/tE/XRdMsfnyc1xVBEJb1/yJ3H3g7xCpZvcdtNSg3iqVas05RI51lHj5qefs+vuFNA4e\n",
              "RMK2WQgirUj2TZp9cuvfpk/fD8S7zLnMR4PPMQr/Bxmoh7of7QaIsD4RIQlPQjGzpprllukuJn/T\n",
              "LlqnWFVBAAACEgGf8mpD/wAYLAy/d6qI8AEKdGv/oX9dZuVbewysr73vIJ3PhfrQnnDBZ2KFwAeO\n",
              "dNDXTzZSHhBq28pb8PkYRy+5+xEPnhnyzS14/uU8urEPYIjDMJpnq14XxXJtioPoVL0HWqQUHUV9\n",
              "1Lz+gAAABhDKf/6nEFpc9midxpBSO6HCAEX+/hgR4wn45PBbTf8laWOmMbz4RaTfOjkSweCgT5Gu\n",
              "uWZpm1PKTUsuJ8y3ap2gUwb4/YAAs3LXCT+cLtA+pAUMiW3mn39/TyxvwVYvBpEVmmOdqULASYht\n",
              "64Zz3GDagAXywEG3VGG85pTEhc33WaUf48hzKF8tTouaoCyZP4n/MZ5xnT15p3VveFPLJ6pyjonX\n",
              "o/fLWfYnzVN05MX2Eco41UkKkCd+CmapOWRyzQDl1CwTXno6qdWpIf5vn+Nxx1oPsdGgSn1a9TAB\n",
              "G2r/X6REzWDPxfZW7R9hQLt+F42cSeS4bVgj5yq8Dq3Hm7EMo/f/h+Nv7ixb54iqH73bY6mPXqdt\n",
              "2w0em9Ht1kDfMAX7CKWk/LlbTQnHVqqWAesvs4reXyTydUcuy4qFom+PKe6uWSJO1NoFURf447oE\n",
              "Re0DYLK3fmoVmq5MI9mxKTyLHDoItWhCu3xlXw9WyJKSTjIhlyoUQIUzlfjlIDoMs7xocgnYmPDv\n",
              "NoFpE4vgXUCrnBqo1+DhkStvgocnKAB2EwLKAAAB5kGb90nhDyZTAgp//taMsAJQkmlbrMvGSIAF\n",
              "8Z99UhBV6SbvJchYdq9X9BBZIZ8EJjTH4qu0zOWWFJyw4AYpbn0AX9GPHZt+Pr2GCLvBW9rOlBK5\n",
              "wqpllgVxoTfs9XzPdT3wpxLfQKCVVwQZOlu7TM9po/PePuSCcRqXlCv0iFA1gJ+mm560843Y/1k/\n",
              "6gwTrYovRm7iuC6UwUi2rCDZU/Pi9rxqawHWS1+AByRmUfHuJUqdVWfWNEmoMyO3+cL6n56uiANQ\n",
              "APyiB2KX8ePPMlTOXPk4xHeuXvlpn9OdJQ5yZAQjxpREtu958RaGzDJT5SxqZgs3XMUrBC8P0VoI\n",
              "1qonhDv7bo04aHNd94p0mNvQc0a/Mt++GuUi7M7546VFNRSyp+CzjGKf5MjTyc0k4+61G9oEfKeI\n",
              "3aa66aXa9k9X6idfDN625ENV2NxjYcZJRlMCoJt0Nnb/9zW1vGlU94jZAttldd2R+IDjHRh/Cu31\n",
              "pAAAAwKRBIsOpN4qMPY7ED6GcS2eSj57MP4ANOAAAAzQBHaxSFsX4GuOUVA/zv81dOSx1EG/k7+W\n",
              "Mkb/OQQjnf9YqM09M5GPZ40790PMtreaPLlxK1lQp9UaxsFwtTUE8piLsmHDPeB590aOg7dcUuqg\n",
              "8IABDwAAANFBnhVFETwQ/wALV8royzqxgBCdtkqSK7u7//bkDsx4wfW7M3IhCZSB+mUhSq/Puasq\n",
              "BuYEURma54DsjeWK1fNw7uzG2jK7+Bot5nqn0ayU85z0wrJj72/u9YDz7uiJtFVUteXWXt6d9Ghy\n",
              "8jAleum6PBxqL5MSmKOEuPqOcx5d2JopgD8/M8H4GB+3+p4J3ka88aAVydMEmtUfCfYSSQQmG/EJ\n",
              "stKoZZfbD6VAvLikHwhdSE2AzxoAAAMAaVu08IY9RBQj7DxvfN38A8oVqoA9IQAAAKYBnjR0Q/8A\n",
              "GR3nrC/oiddgA2q3rT0eZmW7HCF7keRJkFk7w/mT01ABuEcfMk5o3/2/I5nkU2yrNE4CBWR/EVFR\n",
              "nr86Pj3ou3fLQ5nucbgAms154PGf5SJe8TeMAzEJkpULJbTuMJwEJgylQ1GYjUSSwyIaRyUGjjrI\n",
              "u2JXG3VaziSGkcsKscGLOF9Pq4lt/Xg62WkwAAADAATGqOSAnW9UqgyPUBFwAAAAhQGeNmpD/wAY\n",
              "LC09zzxCYjpUwARBIjXWvhkvj+iKmSyu/rVw4BXP1lDtjY8rTMZwguSumVdGcpNimvmdvbykkdCQ\n",
              "aUnuf0omLY2u5QguI9JBw0/hrFji3+uMA/T01Bye/DZI+zouMynnqP0QQu5FMkOX++cCgpb6TSzK\n",
              "pF1/uhzrBQg0FbEAAADTQZo7SahBaJlMCCn//taMsAJQr/IgAQodgr7hwDG6Fvc++OOtUTzNKqBE\n",
              "n+AKb3QVrNp14LDxMb9vR2loZ7WssNx++uw+BON93Xga35JgqWH1hzysnvNmvG7mXV4YngTSDSRd\n",
              "hLGaaW+Bo8d0s5Rp8EkN9/aMQBnGtCxdDihDc7AMEMlWpBr30apJJCM5na2VKr9eIgjZvKlVsPmE\n",
              "7zNZklR2SfCh5iGVTlcWQWzaW3BolCtQF91/Ew35eKdANx0LUB8pzxwzV4aw3//eEAAAAwAB0wAA\n",
              "AIFBnllFESwQ/wALV87QTAANn53NuEUgDrBV9+TLDXszjYzml3wi6QOzsBfVBLpJFTmYUMlNVfez\n",
              "ZCVjd7sLTPFsv+yo1JKo+/j3WOAml4ndFN3p6bGhiW/R01RA8YP1wPBsDX8wTt6wzFv/ebMLHChm\n",
              "EgYZBOD1gwwkInW3JipAEXAAAABmAZ54dEP/ABkf7rwr5unywAhJ4/rhsCpYXGd9j4mlYGS21X6m\n",
              "WCVxWfwVe6Oo56LNyO70hn40+T0dkiRhV0MiUujnXqAlXTFTaKOEgfkYxcyky6sBICdxaLHoMkkf\n",
              "l5CAmVM+7C8hAAAAugGeempD/wAYIvo94Jn4xeJ+ACE7M6JI+Ckx3f6r9rNLE96cTBLfIicL8pfb\n",
              "Aiat3xtO6bmOWq78PwfB20DamZjq3mTJsA93s2SHaBBxRdJd0jLcdATRODKx4HqqbVPMS/lwzXb2\n",
              "wgy6yK6js072LyxXk4j2vpan0nGZILfPja1UJoKIrL7JROmzTr0R/cZbsTuGYFHwoNQmMk91z9yv\n",
              "SrCG0sfYePAIanCGuVBmOyQHjnrpoCzyz7sH+AAAAWdBmn9JqEFsmUwIJ//+tSqACQh/5mAAhQ47\n",
              "BND7lfn3zB4+HGKT2Ip7ZIBmJKnTEexRLbfztaPIhIxI8lacydZjZcw46eiwcE663bqYuS20Jyd/\n",
              "VLTTPdh0VeMmC/k3o5djjSdAq9L8bU/h/8h+8/Jj11NvtE64Bg1uLpcFebYDu/tyKaq44OTT7dZu\n",
              "/CRXxRlRyghke9OIa5KPi7tfg30oepn/j9N5cZhikVt/H5IYp4ODhNfYBKNfNVsMFCdTziHPprb4\n",
              "chxQpXOx1jzzc16CwRIDeFlp5wieSVeJHGEMZ+VH742HOg5574vWHTjxtcvLYLG+jVoQI9CXQKlY\n",
              "fzPNnKC9hmpa7kl3wauMIpxKEpUGEpZZjh2ZzOah4Tcbc7buXUd+6/semn52PWvnbun3vEu3HX0X\n",
              "1kkUrBUevTRNfQnraffbbaEyQtIs38MmEkK3kBiMIa58yUi2cAk+5buzoAAAAwALaQAAAIRBnp1F\n",
              "FSwQ/wALWLssIq3o5nAAnSJ3Xtq7aYgN3vgZssr+W/aglK994bV3h/EKkN2DtUrUg9jmh1XCbo37\n",
              "oKwz/bqTwXsxWhR+znnPlRbhwPxnnzzyRUMuyVQRpYAT08ffp0EwS152vyqemO/zdjik3nXbBFDG\n",
              "Gvu10cEQqPjSm/mQEHEAAABhAZ68dEP/ABgsqhfPosGACHtZThqE5JkSub2o5DPu6atzSTojmyfN\n",
              "ekXz0Ky/T1GwOiM+nxax0ADY61k+MuYi7oFqPOBbLWCo3um8QjgKJTCAA1/EwdtayAgVuS3HVaAC\n",
              "qgAAAGwBnr5qQ/8AGRzO+BoAIedUrix5yi5lPAnnkuWLcb/6O7fvX2Z0lyWCgACoTEizp37SkKzg\n",
              "PQ/HZ6VbhfhIVJGh6y5b6omg5gqcTIzujiLD53oyWQTFO12tY84SDi2sEtVY9hn+LceFctpAAaEA\n",
              "AADfQZqjSahBbJlMCCf//rUqgAkCBZN9KYdQMAC3XHeCXH2VIsxC+jI0w0RzgP9bT54rosevUulz\n",
              "ODYyj8Oc6jYgNWb4Za9Pao1vIqFw85Oe1gaXkCKgmFG76QcJup4sRktqOrTaR2b+gJrMiguf7CRg\n",
              "Je29m/oHayyVFCjVGF+FgTeshSHrc3KmSY2bJ/oSUJuJfURlUJn6Ox8srzP5wJ/Fog9t1Ue2cSCa\n",
              "UMFuWVg5DyXC/iLKrVfl2utdZL+5bnFeaInQlLbMXtWkKEI/NZpZHXd3k9b0LldZgAAAAwBswQAA\n",
              "AINBnsFFFSwQ/wALWLsrcQyc5SW7RgBCUg5sZkq2wtAqv8doz2t7dpT6umwbQSn3/bmzMKYtRskS\n",
              "DRLoMDhdstnAjWFR50dC95QXAjXX6HBGPIdhYhQ6QXGD4qJ5/TscUCBsbIFiKdcQ3gisP83ZIs4K\n",
              "a7YIoYlYv2ujfx3pfacMImAg4AAAAIIBnuB0Q/8AGCBEnAkJTnlYGFQAbSIZahNSme/xJX8JN579\n",
              "ItwhVga8UdCeSGAP2D+a9GemNShHvVckPZNj5aAt/MAPvbtkdwLXPtWC1wVwqqP9fLfAleFktzsI\n",
              "pFVM138PfbvLsV6sMSMtviZioebxx/DwCGmCEln6Wu3x1GTXgAEHAAAAYgGe4mpD/wAZIMiIOK7Z\n",
              "cruwAbRqhNDRxUB0HDd5rDj9y9qKrb1JyKZ8a8phdw3B3mykRYD/oOuGt8Lh4EnLy5ZHcQ0z4dn6\n",
              "rfZ3u5yBIxkeA6sBIHU5azXb5jEqO8+AAFBAAAAAbkGa50moQWyZTAgn//61KoAIxt8FwAVIbK5A\n",
              "zBlIUYIxBTzxPMYu1Zt6v0LVk8s1ODhkmRZJBjI78mw/9iOIR3vkuAS1xviQzM1rO9GrEsVIVa5t\n",
              "gXocyg/nBbfXVz+xTVmEzlpwA3v2AAADAAEzAAAAkkGfBUUVLBD/AAsQEYAAdmeXI46UgO8s+Sfo\n",
              "h3Guvw5Rz3AwFUaLZnxHMRZbqWTzxDJ8/f74XKEaAMvFJ7OqKP1NFGq5absty3qRkUw78lPRq7iJ\n",
              "GYnsSyn2TGXuU1cmt5RE+iMqPsgb/LYlKUhtUBYkM75Mh5RHffjXY/9PPLc1BPfCxV/apm9Bra9x\n",
              "Iz76NgRdAAAAsAGfJHRD/wAYIvq6v/VFzbn4AITqKBHR0H88lUwMZE32qQWpqT+qE/9AAiEbZKcx\n",
              "vQM7vnotBja7kKyzyCZ3hJIdITRZZsfb60sLYKe+7FYiqUePhcxMZymxo1gBQngYrduwqEmn0TqS\n",
              "JD7NJ8n4WEx068N8zwMeH9dae0oOPucch9bR5757VG/LbV/BahQb9btpzMHDtr03Xs59SXJFDwCG\n",
              "nuAkr2gtLzB0MfYAAA3pAAAAVQGfJmpD/wAYLAy/hLMEmACHR97hhedcPj8al+k0T1YaoxDDJehJ\n",
              "2pkoeiH9CuoLljFs5UQUX0xAh3LFF3zsFDaj3ZyIADYDGA7e61APjTmjIkQADKkAAADPQZsrSahB\n",
              "bJlMCCf//rUqgAkCElizejsgAhgGggIkN0U/mGEJVQpN6kMbfeZ+A/d7UOEFAQAPLOhbq6KZJ/C5\n",
              "BhsYcNcXweO02a2LklAQbqd/KCPB9m03493e3QefwyXwvZCV24I7kyowGbWA0vNInX1DjbC4kNWg\n",
              "jv4u+S0ivhGHOv/Ji2bGyIjEHzxWLJqTZdmqQFONapovxq4VdnksxI52TaNpJH62xSL3oLJ0m8Rp\n",
              "iUAsQEk5XoSgDCg8D5RI1Eu17X89amOAAAADAGfAAAAA4kGfSUUVLBD/AB47+77Mygbs5APABtKP\n",
              "kowFIEtbGOH5tXCkPs+xjY4GCLKWIIFHvKx0PBf0Q1rlXPbc4aDWfpx57sk8aX6jSHPN4nKmdIfs\n",
              "ZVwhsDzs0lMU9zpW5jGh+Z2R4gTiQCK2F7dulvIUrzO7tnqp/32aeAJRQaSJg8H7hWcN7Pmx6PUw\n",
              "eQM4LQEseTsS+So4T0HR5iB6nTeNjz2FWVsrtyoUvylBsLcuojmeBNTPoQr9X+umUfxnfMQHnYAx\n",
              "BDHEIDzZUn8vDm4pyuQQCy+IrQ9sgfeHF3BkKvMbgakAAABdAZ9odEP/AELjM9x05jrUmACHiVVA\n",
              "IOWuz2d4ze//M95dx3+owEq/5vYFC8pfj5mKiS9wN9pUrx5RC4HEjnw2ACWJnzURI9ikZcG50AAD\n",
              "sAYam2RJCgKzj1GzwAGpAAAAgwGfampD/wBC5WfUVYAQm5LaTNMinxRK8bHNRlVWr/WKaCRHp8Xf\n",
              "0wrHBUc+Hw8fVo1I40mvfPNt72WGj6WbqT52VC5wyXpuTUoWto0ksJ9O2+lZiYD9YfRzuqbzkmhh\n",
              "FedgwVm+gyQuez8e8ckeYnMnH/xjAfw9KiFO38oeXaXjoAFTAAAAukGbb0moQWyZTAgj//61KoAJ\n",
              "AWRTl0/wATmI0UBSpYpA11nlBFQZcCHkf63xlJ6Mkx7gB2e5LprK1io41aoL4QHb1MbUZSPQTlYC\n",
              "UM1zZhWRKtRoUBsPSU5ZEnzPz2onKWtHprwFt1jvZITAHJFTsCGSxb5qf6YPKj0nuOjf7QAUQkU6\n",
              "Z6Ce1f0cjGEVLsdbwTNcCA9KdL0vNs/v+Lsq4a21c3kC8/8Fpj++7eKvRE+q6xdqWAAAAwAJmAAA\n",
              "AIlBn41FFSwQ/wAePLNvszpWgAIenMt2jBgcoBLQ26rKI3wtliD17yJu6kczplDISzrJQW5Ww9n2\n",
              "9bPevun8yl7TuisyROk3Qhcwhb7xiQisK7Z/vWguwUC5UQLCmTxEzTrNfosFpojoIDaAjFx/+6Hv\n",
              "+VOthxaqR7DcKLo+NsQdk4Qx9c2fdgB/gQAAAGYBn6x0Q/8AGR/uvBmh7+A2wAbKNRxvC4K06Wjk\n",
              "w0IT0+sdEWcD4M4iN5PzwtveKElPzDLA6WMpiLKnBLD591KCrJROhTxD+a688wkt389gwXGXFn//\n",
              "pE4B3xeGSJVOGEUqNg8AAl8AAADLAZ+uakP/ABhC1A7qrFf1MAAAh+1Ux4vuKwQDBy8b7CfecMwi\n",
              "WH5xqvyj05Y4ccB6+CU4N4pGzhY4xa0RXdiAgDlz87UaA9HDW4wJFIb/IRAlOBiHapJpsfdzNPWx\n",
              "NQrwrRC1WUCmgLjylktABTMmUfBWCngoZf1gGsNYX9vudo8wN9IzJVtHYlsRACgitoeI0RAywzwE\n",
              "fC/GdiI6ZHns3Zsx8nTmiOjbCf9zCMCGv2aUHNnvg389UfY6Bya+qkwEMtGwjwOzbgAA8YEAAABf\n",
              "QZuxSahBbJlMFEw///6plgBEBMbrffVABs9ObFzqY0aL9jTZqwwvYaKrcNivE3pkXyQDdJCB3LS7\n",
              "Z412a5xrbaelrZw6MrBIXpSHuKxAPqOY3iBmKmwZSaAAAAMACkgAAABbAZ/QakP/ABgsDL93qojw\n",
              "AQp2cjgcTBvc/7ZKUZMB80Tpsr+D4dPcsbvJuR6uSOK/zDFRgmuQ71IKnXbxUWaiFnIgANgEMB29\n",
              "ruI2/6jufvEUEHQArDRxF/Xh/gAABVZtb292AAAAbG12aGQAAAAAAAAAAAAAAAAAAAPoAAAnEAAB\n",
              "AAABAAAAAAAAAAAAAAAAAQAAAAAAAAAAAAAAAAAAAAEAAAAAAAAAAAAAAAAAAEAAAAAAAAAAAAAA\n",
              "AAAAAAAAAAAAAAAAAAAAAAAAAAACAAAEgHRyYWsAAABcdGtoZAAAAAMAAAAAAAAAAAAAAAEAAAAA\n",
              "AAAnEAAAAAAAAAAAAAAAAAAAAAAAAQAAAAAAAAAAAAAAAAAAAAEAAAAAAAAAAAAAAAAAAEAAAAAC\n",
              "gAAAAeAAAAAAACRlZHRzAAAAHGVsc3QAAAAAAAAAAQAAJxAAABAAAAEAAAAAA/htZGlhAAAAIG1k\n",
              "aGQAAAAAAAAAAAAAAAAAACgAAAGQAFXEAAAAAAAtaGRscgAAAAAAAAAAdmlkZQAAAAAAAAAAAAAA\n",
              "AFZpZGVvSGFuZGxlcgAAAAOjbWluZgAAABR2bWhkAAAAAQAAAAAAAAAAAAAAJGRpbmYAAAAcZHJl\n",
              "ZgAAAAAAAAABAAAADHVybCAAAAABAAADY3N0YmwAAACzc3RzZAAAAAAAAAABAAAAo2F2YzEAAAAA\n",
              "AAAAAQAAAAAAAAAAAAAAAAAAAAACgAHgAEgAAABIAAAAAAAAAAEAAAAAAAAAAAAAAAAAAAAAAAAA\n",
              "AAAAAAAAAAAAAAAAAAAY//8AAAAxYXZjQwFkABb/4QAYZ2QAFqzZQKA9oQAAAwABAAADAAoPFi2W\n",
              "AQAGaOvjyyLAAAAAHHV1aWRraEDyXyRPxbo5pRvPAyPzAAAAAAAAABhzdHRzAAAAAAAAAAEAAAAy\n",
              "AAAIAAAAABRzdHNzAAAAAAAAAAEAAAABAAABcGN0dHMAAAAAAAAALAAAAAEAABAAAAAAAQAAGAAA\n",
              "AAABAAAIAAAAAAEAABAAAAAAAQAAGAAAAAABAAAIAAAAAAUAABAAAAAAAQAAGAAAAAABAAAIAAAA\n",
              "AAMAABAAAAAAAQAAGAAAAAABAAAIAAAAAAEAABgAAAAAAQAACAAAAAABAAAoAAAAAAEAABAAAAAA\n",
              "AQAAAAAAAAABAAAIAAAAAAEAACgAAAAAAQAAEAAAAAABAAAAAAAAAAEAAAgAAAAAAQAAKAAAAAAB\n",
              "AAAQAAAAAAEAAAAAAAAAAQAACAAAAAABAAAoAAAAAAEAABAAAAAAAQAAAAAAAAABAAAIAAAAAAEA\n",
              "ACgAAAAAAQAAEAAAAAABAAAAAAAAAAEAAAgAAAAAAQAAKAAAAAABAAAQAAAAAAEAAAAAAAAAAQAA\n",
              "CAAAAAABAAAoAAAAAAEAABAAAAAAAQAAAAAAAAABAAAIAAAAAAEAABgAAAAAAQAACAAAAAAcc3Rz\n",
              "YwAAAAAAAAABAAAAAQAAADIAAAABAAAA3HN0c3oAAAAAAAAAAAAAADIAAB+FAAAI/AAABJgAAAX0\n",
              "AAAIBwAAAcsAAAZQAAAEzwAAA5cAAANGAAADtgAABMAAAAI5AAAD7QAAA6cAAAPRAAAELwAAAnIA\n",
              "AALzAAACFgAAAeoAAADVAAAAqgAAAIkAAADXAAAAhQAAAGoAAAC+AAABawAAAIgAAABlAAAAcAAA\n",
              "AOMAAACHAAAAhgAAAGYAAAByAAAAlgAAALQAAABZAAAA0wAAAOYAAABhAAAAhwAAAL4AAACNAAAA\n",
              "agAAAM8AAABjAAAAXwAAABRzdGNvAAAAAAAAAAEAAAAsAAAAYnVkdGEAAABabWV0YQAAAAAAAAAh\n",
              "aGRscgAAAAAAAAAAbWRpcmFwcGwAAAAAAAAAAAAAAAAtaWxzdAAAACWpdG9vAAAAHWRhdGEAAAAB\n",
              "AAAAAExhdmY1OC4yOS4xMDA=\n",
              "\">\n",
              "  Your browser does not support the video tag.\n",
              "</video>"
            ]
          },
          "metadata": {},
          "execution_count": 244
        },
        {
          "output_type": "display_data",
          "data": {
            "text/plain": [
              "<Figure size 640x480 with 1 Axes>"
            ],
            "image/png": "[encoded data removed]"
          },
          "metadata": {}
        }
      ]
    }
  ]
}