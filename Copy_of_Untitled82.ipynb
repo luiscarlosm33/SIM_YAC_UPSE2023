{
  "nbformat": 4,
  "nbformat_minor": 0,
  "metadata": {
    "colab": {
      "provenance": [],
      "authorship_tag": "ABX9TyO2LaWXxV48IL4ZlhMTkr4T",
      "include_colab_link": true
    },
    "kernelspec": {
      "name": "python3",
      "display_name": "Python 3"
    },
    "language_info": {
      "name": "python"
    }
  },
  "cells": [
    {
      "cell_type": "markdown",
      "metadata": {
        "id": "view-in-github",
        "colab_type": "text"
      },
      "source": [
        "<a href=\"https://colab.research.google.com/github/luiscarlosm33/SIM_YAC_UPSE2023/blob/main/Copy_of_Untitled82.ipynb\" target=\"_parent\"><img src=\"https://colab.research.google.com/assets/colab-badge.svg\" alt=\"Open In Colab\"/></a>"
      ]
    },
    {
      "cell_type": "code",
      "execution_count": 71,
      "metadata": {
        "colab": {
          "base_uri": "https://localhost:8080/"
        },
        "id": "j7B6KltRIAGF",
        "outputId": "2009fb2e-2ff9-4acd-8612-29515456bc57"
      },
      "outputs": [
        {
          "output_type": "stream",
          "name": "stdout",
          "text": [
            "[1 1 1 1 1 1 1 1 1 1 1]\n"
          ]
        }
      ],
      "source": [
        "# Simulador ecuacion de la difusividad \n",
        "import numpy as np\n",
        "import math\n",
        "L=1000 #distancia total \n",
        "dx=100 #delta x\n",
        "Distance=np.arange(0,L+1,dx) #Crear un vector de las distancias\n",
        "P01=np.ones_like(Distance) #Vector inical de Presiones \n",
        "print(P01)\n"
      ]
    },
    {
      "cell_type": "code",
      "source": [
        "PYac=0\n",
        "PFrontd=0 #Frontera derecha\n",
        "PFronti=1000 #Frontera izquierda\n",
        "Tiempo=20000\n",
        "DT=100\n",
        "VectorTiempo=np.arange(0,math.floor(Tiempo/DT)*DT,DT)\n",
        "PXX=np.zeros((math.floor(Tiempo/DT),len(Distance)))\n",
        "Pdt=np.zeros_like(Distance)"
      ],
      "metadata": {
        "id": "gRHSrE7yIWtQ"
      },
      "execution_count": 72,
      "outputs": []
    },
    {
      "cell_type": "code",
      "source": [
        "PXX=np.zeros((math.floor(Tiempo/DT),len(Distance)))\n",
        "print(PXX)"
      ],
      "metadata": {
        "colab": {
          "base_uri": "https://localhost:8080/"
        },
        "id": "vtxejXk5W9e3",
        "outputId": "345a7df1-2de8-408a-cec0-59a4ab9d6239"
      },
      "execution_count": 73,
      "outputs": [
        {
          "output_type": "stream",
          "name": "stdout",
          "text": [
            "[[0. 0. 0. ... 0. 0. 0.]\n",
            " [0. 0. 0. ... 0. 0. 0.]\n",
            " [0. 0. 0. ... 0. 0. 0.]\n",
            " ...\n",
            " [0. 0. 0. ... 0. 0. 0.]\n",
            " [0. 0. 0. ... 0. 0. 0.]\n",
            " [0. 0. 0. ... 0. 0. 0.]]\n"
          ]
        }
      ]
    },
    {
      "cell_type": "code",
      "source": [
        "P01=np.ones_like(Distance)\n",
        "P01=P01*PYac\n",
        "P01[0]=PFronti\n",
        "P01[len(P01)-1]=PFrontd\n",
        "P0in=P01 #Condicion inicial \n",
        "Pdt=P01 #Vector de resultados dt\n",
        "t=DT #primera interaccion"
      ],
      "metadata": {
        "id": "X3e55AnkIo8J"
      },
      "execution_count": 74,
      "outputs": []
    },
    {
      "cell_type": "code",
      "source": [
        "print(P01)"
      ],
      "metadata": {
        "colab": {
          "base_uri": "https://localhost:8080/"
        },
        "id": "0apZTPQSI0ip",
        "outputId": "35ca6418-d4c2-4b42-8475-21d504aea5a9"
      },
      "execution_count": 75,
      "outputs": [
        {
          "output_type": "stream",
          "name": "stdout",
          "text": [
            "[1000    0    0    0    0    0    0    0    0    0    0]\n"
          ]
        }
      ]
    },
    {
      "cell_type": "code",
      "source": [
        "def Presdt(P1,P2,P3,deltat,deltax):\n",
        "  return(((P1-2*P2+P3)/(deltax*deltax))*deltat)+P2 \n"
      ],
      "metadata": {
        "id": "h1CFqMipI2aN"
      },
      "execution_count": 76,
      "outputs": []
    },
    {
      "cell_type": "code",
      "source": [
        "Preal=np.ones_like(PXX)\n",
        "Preal.shape\n",
        "P0in.shape"
      ],
      "metadata": {
        "colab": {
          "base_uri": "https://localhost:8080/"
        },
        "id": "g6KyXLy8JZ2l",
        "outputId": "9c5143f1-f099-41a7-b561-ed698152bc0f"
      },
      "execution_count": 77,
      "outputs": [
        {
          "output_type": "execute_result",
          "data": {
            "text/plain": [
              "(11,)"
            ]
          },
          "metadata": {},
          "execution_count": 77
        }
      ]
    },
    {
      "cell_type": "code",
      "source": [
        "Preal.shape[1]"
      ],
      "metadata": {
        "colab": {
          "base_uri": "https://localhost:8080/"
        },
        "id": "jEC2tNuJwD28",
        "outputId": "e1b16b2e-458d-4b82-c235-12326df4bb3c"
      },
      "execution_count": 78,
      "outputs": [
        {
          "output_type": "execute_result",
          "data": {
            "text/plain": [
              "11"
            ]
          },
          "metadata": {},
          "execution_count": 78
        }
      ]
    },
    {
      "cell_type": "code",
      "source": [
        "from mpmath import mp\n",
        "def Prealsum(n,alpha,t,x,L,Pb1,Pini):\n",
        "  sumpexc=0\n",
        "  for i in range(n+1):\n",
        "      sumpexc += (((-1)**n)/(2*n+1))*mp.exp((alpha*(2*n+1)**n *(math.pi**2)*t)/(4*L**2))*math.cos((2*n+1)*math.pi*x/2*L)\n",
        "  Pexct=Pb1-(4*Pini/math.pi)*sumpexc\n",
        "  return Pexct\n",
        "\n"
      ],
      "metadata": {
        "id": "JNDtdh5H6jDQ"
      },
      "execution_count": 79,
      "outputs": []
    },
    {
      "cell_type": "code",
      "source": [
        "Pexct=Prealsum(100,1,10,10,100,50,0)\n",
        "print(Pexct)"
      ],
      "metadata": {
        "colab": {
          "base_uri": "https://localhost:8080/"
        },
        "id": "awM2rhtD9WPN",
        "outputId": "2fa5c068-df3c-44c4-cd30-aa0f25da78ab"
      },
      "execution_count": 80,
      "outputs": [
        {
          "output_type": "stream",
          "name": "stdout",
          "text": [
            "50.0\n"
          ]
        }
      ]
    },
    {
      "cell_type": "code",
      "source": [
        "# Ecuacion de la difusividad solucion Real \n",
        "Preal=np.ones_like(PXX)\n",
        "PXX[0]=P0in\n",
        "for j in range(0,Preal.shape[1]-1):\n",
        "  for i in range(0,len(P0in)-1):\n",
        "    k=1\n",
        "    Preal[j][i]=Prealsum(100,1,j*DT,i*dx,L,1000,0)\n"
      ],
      "metadata": {
        "id": "-v6Mx4d7fN9u"
      },
      "execution_count": 81,
      "outputs": []
    },
    {
      "cell_type": "code",
      "source": [
        "Preal"
      ],
      "metadata": {
        "colab": {
          "base_uri": "https://localhost:8080/"
        },
        "id": "fuvdUCpZwnvN",
        "outputId": "e6ccc961-3297-495b-b053-b464347b4ad4"
      },
      "execution_count": 82,
      "outputs": [
        {
          "output_type": "execute_result",
          "data": {
            "text/plain": [
              "array([[1000., 1000., 1000., ..., 1000., 1000.,    1.],\n",
              "       [1000., 1000., 1000., ..., 1000., 1000.,    1.],\n",
              "       [1000., 1000., 1000., ..., 1000., 1000.,    1.],\n",
              "       ...,\n",
              "       [   1.,    1.,    1., ...,    1.,    1.,    1.],\n",
              "       [   1.,    1.,    1., ...,    1.,    1.,    1.],\n",
              "       [   1.,    1.,    1., ...,    1.,    1.,    1.]])"
            ]
          },
          "metadata": {},
          "execution_count": 82
        }
      ]
    },
    {
      "cell_type": "code",
      "source": [
        "PXX[0]=P01\n",
        "while t<Tiempo:\n",
        "    for i in range(0,len(P0in)-1):\n",
        "      if i==0:\n",
        "        Pdt[i]=P0in[0]\n",
        "      elif i==len(P0in)-1:\n",
        "        Pdt[i]=P0in[len(P0in)-1]\n",
        "      else:\n",
        "        Pdt[i]=Presdt(P0in[i-1],P0in[i],P0in[i+1],DT,dx)\n",
        "    PXX[math.floor(t/DT)]=Pdt\n",
        "    t=t+DT\n",
        "    P0in=Pdt\n",
        "    P01=np.append(P01,Pdt)\n"
      ],
      "metadata": {
        "id": "gjh5A9G-K_zi"
      },
      "execution_count": 83,
      "outputs": []
    },
    {
      "cell_type": "code",
      "source": [
        "PXX\n"
      ],
      "metadata": {
        "colab": {
          "base_uri": "https://localhost:8080/"
        },
        "id": "VvpjLU0wLxRi",
        "outputId": "e938d5fa-efa9-468a-aef7-71dbe2f262a4"
      },
      "execution_count": 84,
      "outputs": [
        {
          "output_type": "execute_result",
          "data": {
            "text/plain": [
              "array([[1000.,    0.,    0., ...,    0.,    0.,    0.],\n",
              "       [1000.,   10.,    0., ...,    0.,    0.,    0.],\n",
              "       [1000.,   19.,    0., ...,    0.,    0.,    0.],\n",
              "       ...,\n",
              "       [1000.,  559.,  235., ...,    0.,    0.,    0.],\n",
              "       [1000.,  560.,  236., ...,    0.,    0.,    0.],\n",
              "       [1000.,  561.,  237., ...,    0.,    0.,    0.]])"
            ]
          },
          "metadata": {},
          "execution_count": 84
        }
      ]
    },
    {
      "cell_type": "code",
      "source": [
        "PXX.shape\n"
      ],
      "metadata": {
        "id": "8h2isKLCNGaU",
        "colab": {
          "base_uri": "https://localhost:8080/"
        },
        "outputId": "57eeec5a-0905-4252-f05e-d66c507ecce2"
      },
      "execution_count": 85,
      "outputs": [
        {
          "output_type": "execute_result",
          "data": {
            "text/plain": [
              "(200, 11)"
            ]
          },
          "metadata": {},
          "execution_count": 85
        }
      ]
    },
    {
      "cell_type": "code",
      "source": [
        "Distance.shape"
      ],
      "metadata": {
        "colab": {
          "base_uri": "https://localhost:8080/"
        },
        "id": "jZTIS5p4bvFp",
        "outputId": "7dc241ce-7113-4487-9e7d-17029fd24ca8"
      },
      "execution_count": 86,
      "outputs": [
        {
          "output_type": "execute_result",
          "data": {
            "text/plain": [
              "(11,)"
            ]
          },
          "metadata": {},
          "execution_count": 86
        }
      ]
    },
    {
      "cell_type": "code",
      "source": [
        "import matplotlib.pyplot as plt\n",
        "\n",
        "imgplot = plt.imshow(Preal,aspect='auto')\n",
        "plt.colorbar()"
      ],
      "metadata": {
        "colab": {
          "base_uri": "https://localhost:8080/",
          "height": 452
        },
        "id": "ITZn9PDOTjd3",
        "outputId": "bc4163f8-435e-4047-f96c-cadb126cb76a"
      },
      "execution_count": 87,
      "outputs": [
        {
          "output_type": "execute_result",
          "data": {
            "text/plain": [
              "<matplotlib.colorbar.Colorbar at 0x7f1f191d39a0>"
            ]
          },
          "metadata": {},
          "execution_count": 87
        },
        {
          "output_type": "display_data",
          "data": {
            "text/plain": [
              "<Figure size 640x480 with 2 Axes>"
            ],
            "image/png": "[encoded data removed]"
          },
          "metadata": {}
        }
      ]
    },
    {
      "cell_type": "code",
      "source": [
        "\n",
        "c = plt.pcolormesh(Distance,VectorTiempo,PXX)\n",
        "plt.colorbar(c)\n",
        " \n",
        "plt.title('Distribucion de Presiones', fontweight =\"bold\")\n",
        "plt.show()"
      ],
      "metadata": {
        "colab": {
          "base_uri": "https://localhost:8080/",
          "height": 452
        },
        "id": "oJrtLNCGav9H",
        "outputId": "6f337486-bb22-410f-d25f-f21eaf2db50b"
      },
      "execution_count": 88,
      "outputs": [
        {
          "output_type": "display_data",
          "data": {
            "text/plain": [
              "<Figure size 640x480 with 2 Axes>"
            ],
            "image/png": "[encoded data removed]"
          },
          "metadata": {}
        }
      ]
    },
    {
      "cell_type": "code",
      "source": [
        "PXX.shape\n"
      ],
      "metadata": {
        "colab": {
          "base_uri": "https://localhost:8080/"
        },
        "id": "OIgztDUiBYK2",
        "outputId": "faeae620-7773-464f-a367-5dfb85ec68d0"
      },
      "execution_count": 94,
      "outputs": [
        {
          "output_type": "execute_result",
          "data": {
            "text/plain": [
              "(200, 11)"
            ]
          },
          "metadata": {},
          "execution_count": 94
        }
      ]
    },
    {
      "cell_type": "code",
      "source": [
        "math.pi"
      ],
      "metadata": {
        "colab": {
          "base_uri": "https://localhost:8080/"
        },
        "id": "1gcolFMsHZ7J",
        "outputId": "7a9f9699-b16b-45c5-b685-d3f9d395cbd4"
      },
      "execution_count": 89,
      "outputs": [
        {
          "output_type": "execute_result",
          "data": {
            "text/plain": [
              "3.141592653589793"
            ]
          },
          "metadata": {},
          "execution_count": 89
        }
      ]
    },
    {
      "cell_type": "code",
      "source": [
        "%matplotlib inline\n",
        "import matplotlib.pyplot as plt\n",
        "\n",
        "from matplotlib import animation, rc\n",
        "from IPython.display import HTML\n",
        "import matplotlib.animation as animation\n",
        "\n",
        "\n",
        "# First set up the figure, the axis, and the plot element we want to animate\n",
        "fig, ax = plt.subplots()\n",
        "\n",
        "ax.set_xlim(( 0, 1000))\n",
        "ax.set_ylim((-1000, 4000))\n",
        "\n",
        "line, = ax.plot([], [], lw=2)\n",
        "line2, = ax.plot([], [], lw=2)\n",
        "# initialization function: plot the background of each frame\n",
        "def init():\n",
        "    line.set_data([], [])\n",
        "    return (line,)\n",
        "\n",
        "def init():\n",
        "    line2.set_data([], [])\n",
        "    return (line2,)\n",
        "\n",
        "# animation function. This is called sequentially\n",
        "def animate(i):\n",
        "    x = Distance\n",
        "    y = PXX[i]\n",
        "    y2=Preal[i]\n",
        "    line.set_data(x, y)\n",
        "    line2.set_data(x, y2)\n",
        "    ax.set(title='Presion  days ' + str(i*DT))\n",
        "    return (line,)\n",
        "\n",
        "# call the animator. blit=True means only re-draw the parts that have changed.\n",
        "anim = animation.FuncAnimation(fig, animate, init_func=init,\n",
        "                               frames=range(0,200,20), interval=200, blit=True)\n",
        "\n",
        "HTML(anim.to_html5_video())"
      ],
      "metadata": {
        "colab": {
          "base_uri": "https://localhost:8080/",
          "height": 937
        },
        "id": "haX6cvvfcnD-",
        "outputId": "7baa2cc7-475d-4182-c5d4-2cca203b3d46"
      },
      "execution_count": 96,
      "outputs": [
        {
          "output_type": "execute_result",
          "data": {
            "text/plain": [
              "<IPython.core.display.HTML object>"
            ],
            "text/html": [
              "<video width=\"640\" height=\"480\" controls autoplay loop>\n",
              "  <source type=\"video/mp4\" src=\"data:video/mp4;base64,AAAAHGZ0eXBNNFYgAAACAGlzb21pc28yYXZjMQAAAAhmcmVlAAApxW1kYXQAAAKtBgX//6ncRem9\n",
              "5tlIt5Ys2CDZI+7veDI2NCAtIGNvcmUgMTU1IHIyOTE3IDBhODRkOTggLSBILjI2NC9NUEVHLTQg\n",
              "QVZDIGNvZGVjIC0gQ29weWxlZnQgMjAwMy0yMDE4IC0gaHR0cDovL3d3dy52aWRlb2xhbi5vcmcv\n",
              "eDI2NC5odG1sIC0gb3B0aW9uczogY2FiYWM9MSByZWY9MyBkZWJsb2NrPTE6MDowIGFuYWx5c2U9\n",
              "MHgzOjB4MTEzIG1lPWhleCBzdWJtZT03IHBzeT0xIHBzeV9yZD0xLjAwOjAuMDAgbWl4ZWRfcmVm\n",
              "PTEgbWVfcmFuZ2U9MTYgY2hyb21hX21lPTEgdHJlbGxpcz0xIDh4OGRjdD0xIGNxbT0wIGRlYWR6\n",
              "b25lPTIxLDExIGZhc3RfcHNraXA9MSBjaHJvbWFfcXBfb2Zmc2V0PS0yIHRocmVhZHM9MyBsb29r\n",
              "YWhlYWRfdGhyZWFkcz0xIHNsaWNlZF90aHJlYWRzPTAgbnI9MCBkZWNpbWF0ZT0xIGludGVybGFj\n",
              "ZWQ9MCBibHVyYXlfY29tcGF0PTAgY29uc3RyYWluZWRfaW50cmE9MCBiZnJhbWVzPTMgYl9weXJh\n",
              "bWlkPTIgYl9hZGFwdD0xIGJfYmlhcz0wIGRpcmVjdD0xIHdlaWdodGI9MSBvcGVuX2dvcD0wIHdl\n",
              "aWdodHA9MiBrZXlpbnQ9MjUwIGtleWludF9taW49NSBzY2VuZWN1dD00MCBpbnRyYV9yZWZyZXNo\n",
              "PTAgcmNfbG9va2FoZWFkPTQwIHJjPWNyZiBtYnRyZWU9MSBjcmY9MjMuMCBxY29tcD0wLjYwIHFw\n",
              "bWluPTAgcXBtYXg9NjkgcXBzdGVwPTQgaXBfcmF0aW89MS40MCBhcT0xOjEuMDAAgAAAFgNliIQA\n",
              "Ev/+963fgU3AQO1rulc4tMurlDQ9UfaUpni2SAAAAwAAAwAAD/DNvp9RFdeXpgAAAwB+C3qfyNQ4\n",
              "OIAiMPQsVt1o0CUoaHqLij5HAffVkMFti3p0QXNQsUUhX+YAXRRr1Sa+hGoOpCwesRtaY6lThtv9\n",
              "BcBMn+UG2qRankmaQChFVAtFxoj8quFcj60iPvpoLPIAzDDnmHTwXoyZQE542n2fvWZmbTZjSwK/\n",
              "IBcXCDZW4GD8zT5QX8/4NZW+UQ9tAQvEGYF50uVK99gZJ51u+LclbBn8BZVzEFs5+KvEs9EoB5DF\n",
              "+wUJv/oxg2vQAzrIGJE4jgW2NvG0jT3zpH2GP8ERITOqQKHxyoBJU/ytsfaSTs4zJACPpFEmEY9f\n",
              "3OHLKY1jCyXQJxmXzGDhWp1fGo3CWOnXxMLp/Art9Kzii55cJmxQhKYrDc435iPVdJ8H0jaIXMtk\n",
              "gw575qLQPTUca0TlqTW9IBIMdjWHlP5lEqZMs/Ddb7vJy7v6eIO2WDsZlwZc97RgP266lt7XhHz/\n",
              "aOPqVW3KLm0PMroXmAHnClcLek4UcZtOGtKk8QKTQ0agoE+YVIYCXqA+5r+zZwLETZumbfST10id\n",
              "oKpzutEBpUbB7OIhopv7tQUUtw4v5zwwxhV7XQe92Cl41Jy0qkAycwHee0PbCXy2nXUoNs75l3K3\n",
              "eQfuos3aefL7F4Qa9nMv9IopmQjIPXsEUpbjW4MinqDm1Wa/eBGSTemQGBJ+nfP4pbCoB7XNnRAT\n",
              "6ihs+qJcM+Tp22SS9yy1XQ6aZFAA3A88OlaMV7sxfa1Rknbwk9Zm5hzefZiv2rBKuDgZRj2W++W0\n",
              "n3PRndiPKfBhCPraq9FyAd3miIVRGhg19oydJP9NtCC8YMi1EDKaWd1DRmnOf6EZzndbd9CfMr0S\n",
              "Ak9jSL8ZvJ4NaouTOJgWxEoe2Nh7GhU5zcBFIwpI8DOYeFmTOQRSvKtfm3DbR279+pF9rCClVwx/\n",
              "ekmFK2u8zjHRNONDsOwmmi/ROzYiBmEZVG7fhq2BfWpfp5yIy7oAGKMASFvjQqzqKzT5UiGGGeNC\n",
              "NBn204yxh+oO5XwS9VV8ElDfZG6sTsVaGAkGEbyqvuZBVHSaS1VDdPAIgrE7m93q5mfGxXAL6ILl\n",
              "GEEnlK5xfAnq5tIwHpWqKiBayRFSEtJXRSMrHoHGOmbkgUcaTQlxRG8cTlh8JGL81fdYsXy8p80A\n",
              "sb0a/phow9rt/McoyMxXA6dhd93IXpdEPvMUvDXwpyobYXfMqHIrvJ5vuw/3oKsKQpy2VLNeS3EI\n",
              "ku7wRLHtiKHJt6EQDJqxOis0+Ai87SAWYyUA/88sTh4j4mNq1blNh/MSNtV/KnyI9ROCgw2eFCVt\n",
              "v8bEoojkVYcFzOUrXT1Oz/DHzGuYNYc8C5O+E5yQg1zwhEHehLSHDaAhxKhPVa5MK592AHrgupVs\n",
              "kNP++tVr8YW+oQeJuSHAX2lZ2pAqyIOW0jSGtJ84OD8PQZbI0IVWqRK6ZDuQkRJd/nzBkd//tgmZ\n",
              "MHShSRIfebgEaVKpDb9kymn7Y/42Rp7sSMZoOTXGqh/jy/9Y6h2TPdBzxdwNzhvPsnF6nOpjI+r/\n",
              "huL4RuNNFLVHOwZZ6xB2s9J/WleHcgHoQ202ndl9IU9DxKvZl2BucuXkp633JD49xdKFQsWv8o1Y\n",
              "ECspB7AApumOo20fX8rgCP+d7u53alhEdcknfLMfdTXCHzi8RY26+ANQGy6gkzM6poO2SqvsFY9w\n",
              "UFmR41LegYpoUnceV3tPNVrNIxzNt+sMjX0PzyaoG1yXhIB/Pu4rVwj8R9A/dvXPytcDFEAmZLZE\n",
              "+GXuMGzCCmsDyqZsttkHKVGgQb8kCdC90TQIgtxV/Xzbwvkd1CHD8OvHYl5b0EPApI6gETa9kGM/\n",
              "wYekm/6euNrtqs4TfvCGvw5WWTcWT9RH0j8T/Vf97GBWP8vZBOstGhwvh4azB3T5gAP4TCqxg5lz\n",
              "jRGWWZygT8W4U69WkKfU0Xnd4xup8md1fyo3oiNgGgRd+F22T54+FjcH9sSE+aL76lQS685Y/GAU\n",
              "ctk5nlRdUIdZWxUBeT82NIUQqlJX4IyxgJxNJEiqVWQ+AlF0kVKK9THroPUZmCzwe6pAOflONU30\n",
              "i+9vGKOvfuBsO8Iity6dP3gTP8pAn9IdaDfhllnrDvnEFfQ+/XM+g5FIYAmZF3TAmJCXQP7HhUEw\n",
              "chUY0dv35DUyYYiPMEhO+I5rDCnwlE3tGfIcWGhvAS9OR/xe5TliXmlVNasVKyyZkCq3agAwZYKE\n",
              "uGdB5hOTrRugvfP7JH9ORrrkE/b/jcvBQ93OwElA2pHnfhTf0G0+cGUc9GHcIBmTzfFW0Re9lHkU\n",
              "y/O5JyzkTOqj+jrnuj1ia8bVsBNmxFwLK9wC/aN5ZYiaIp2rVNCg8r7uLBn1Hp8TW5I0kiGUpzU2\n",
              "MO+yezIqCQzUPh3bns6mF+FKOCJSqWW0DXUYQ8dAA4r7K0Q/khRPzY0+AGxiYCwHdMZe8ImW1uXR\n",
              "89ldGDj9y4ydxzxAvZP32mzg+Wm+RWvBHfjuGq1unZIySKR0vmKUmi4Tej302SwgIW8SXqsrX9ca\n",
              "ttHURobD4gAtRBwhOz/APDARi3cN2pKwfw6FY1TAMrJ5aKB+n6MNa/2UzJomjlZKFAyKSMRMMaGB\n",
              "Mz/PXaFwMx07Sjnh/WDDkWK1Z9SWFxgKIEO2D58zzubd0kCfH4xZ3rlq6nVFp5JTiHnBJmhqNBtN\n",
              "i6TdF6cWu4sMhIuOUCiGuhXnMCYT9u/wI9m8I/7HhUAjy2CpSG0zy9FVyX7os626lEk4kg/la0VU\n",
              "W8dItPK/8Y/YAXsjafNBBLbDJSbmCm3UXpjywVzHV8QmhJkwGsrUyWYSyswGhIL22FSoJQsWDG5B\n",
              "gPJJ4COFgOys2orpit9Rg3j0z3PeEAkZUKMKcvDyd8gDzBAAAEllQ/7tH2quYume0oMZSFrQAWGR\n",
              "m+T2SBCyhSETgLbDEQKN4bCM46yvMnXxISYEsnSOPzRiQHX2U55tC9V1SnjFR99kUv9Aaqhy+syj\n",
              "G/F3stmo6yibwBDKF/XgPm8spg+eLFnXIlZU7+8C2IJEbk/MrCwoMzyO8EiqmuefCU2FLG0dN8cO\n",
              "1KKWeSEcImZqMy8WGE40J9wyDqKFsf3iIN/C+lf3TDS2/6ijPe7RGmUb0C6ZBTkpEurowo6YTzT+\n",
              "WHmA9HngDAR8BQBYaGzXx/ruu22MeEa6h5PmvybincXtSCLSvk8il4BrEyipK7sJdL531oij11DF\n",
              "0khXZ0kH8VB0hbgsN0FmWyKomvrONWEpWCro8C7Df8a9ek/D1JKEoQSJ9N6FT5GU9+vTSQN7DiYc\n",
              "Q+77uPZbuk0qR3iSbo72fYztmvP9zjQ8wIwmv+PwSqXwbDTDMyD7Np64C7O/usvmazPJCn1v2+fJ\n",
              "ilVMaB0lOmM63Kn+Ptzgi4jA84MYXvT7AQYmmmNAWKC3hjnOwjYudo3+qec23zALYoop7Cr9Z9IX\n",
              "rJ9z7bUcr3kinA7Tabr6xjRv4WFx/s291Q4sazDgBZJYC9JbuF8XeAXw7JlZ7kBGUBJ7Ic9FfrhU\n",
              "iLlpHT3XJ2Amm0Lj93HTIPKtaNPbQ5dsCMVdHSGvBSfgjckUrnH0TgGcoecAfeb0RjdXRtgG6MAf\n",
              "XrX6r5IV/r+vXIMI5tatIzHwfksoUdcmAM/b9ob9YGTfz/vnYTonWqwlufzlRtjjLUptYJWUa+Dt\n",
              "sMpz5o+ti7o+VxLHSZ9zgnADjR2CWL3tdHJGQ7+golZvdLa2ahMTAOshGce0OXctoC9Im7fYU+zg\n",
              "0lttYg+0ySz4CnAABBybXx4Juy13EMaHwNg726ezGVANrrz7XxLuf/Rs/PGNEXmRuBFTCw/LGo4a\n",
              "cLX9FOyBaD4tzDfEuNP85gHIWdOI67H1xofDrOoR3Qbg/WSCzFfX8GSnd+TTaB4IR52DB1wcSLKN\n",
              "kD4BNn0rPLADZt7BYRDl4V1Bzwm3Taiinj/qLAV8p7w3k9WQ39nOC+1SSS1tvZnuOIrzvlZexPqq\n",
              "eG5ax5YvgXxpuiQenzNmzqaMxDz4ANon6t177SVRg/pTLwGAJCV/oB82zuAhXe0f1Th/CK/u49Jl\n",
              "XPb+uT/MVkpHKEBptYKSf6Fwd6ZczNrhbrCYoATVH18a7xvzSHFnUaiohllkQWBA916Enzee5CvZ\n",
              "5wMgv6OZ3TgargDqdPoo1K6409gP/zqNVULzD2HeYreGGZzf//sQt0xpAtrCR/rOfoNij6cmTK4o\n",
              "Pfk9NSpmoOo7C6QFdOJSiexzA0SYCGas3q9ZISWq/QIWAHG5SZms0BJWJiF9CI5KPn1vAUPxyCuw\n",
              "9fe/oLTf1LtOy3PSI4K0X92587AGbKugEE3sSnaLGD0dc1TItLRTHqLxl6uZJPB45lXnRnPy/3Zi\n",
              "eY3Tg3BrX9gxEzdh3o2lfX07ceACa0sNxNnLW/8v1n2TX/4mMFX/t48HgbQAGukifPeyhC1fXcIz\n",
              "rfAxXTafukmTR5dmVYDy5tEuPKUJ5kuLdRS/buvfwFnyFHJAHKOTULfEL5CxbkjyfYyvuYDZw+av\n",
              "1rCf7NWMM2D+k/ftydVSp9m0Ty2C98VuiCTQPiYIYK339vzL0FrLf87oC4t4O5/+oG6sg9iX9n06\n",
              "9XEArx9VqSglt77///xec1f/2ZKTj/p61LxNY/x4hMF4AAB5muhKN2gexlu8usKJfTDk01dqBi+k\n",
              "UrgrdPyW14UpTS4drymfysgd2yOut5RegBecfBia+Ap+OBDLx/L31jPYCN3gjRPpNEBkSYNz51DL\n",
              "AAAGWpAq8N2/O23qIth+GJ93IAquPwCZkBjCRiWLxMEHFylteAKVVIpdu/A3xswDLvw9XTh6lh3O\n",
              "cp/AL02f9k7nWQ9WaMjjPcytZjT6ikYeOu36y4oRAqUgPVxMyxiQbY4ZnVdMh0H5gy0BZmO+jYO/\n",
              "J1noNNLZk+jPPfmEN324DU+NTukeBq2WzQAAAwAI5AJDfYfa0Y8UmHzn5CmYoJML6AEarkTaF78u\n",
              "lUkublTjCzvA0HNbQAAuZqQBfyHK+vAAAAMABlFmpswYY9ljKra7ruobkanxd5bM+DxJWDEzf4AR\n",
              "uzzSClgj2PdCb4oF7LULw0o+MFSgAU7pPpwHauxMz5gi3WMOPMUO2LBrxStxJSVOn8j/a6pMuTv7\n",
              "FV5Jo6RDU4H7oCM1y4axirns898E/V+zJECPEwT+ofF9j/Ot8Z6b9oERN9PUye3ONfqI/WTUFVlJ\n",
              "K1pf+Y0ZWvlA3/a+CqIH59Uox96xpVVvv0W+fWZiZZ0CGHG9FtFFSQFTxnaIBgGTdQJEJ8hTtaR5\n",
              "PBSYg53js4Lnf5sF6p6TOpHyGtLF1Mo7FBZEuYkfu3jA3vJ9wE0m++Ly0n7qQzYlaMTqJ7GRtPX0\n",
              "HDYJFrlUEszEQBGMQSJVvXA+QsbG53XRPAh10/Lf4Irkl4pmhaJqp045BZ+5w20hOhfFypr1fQ8U\n",
              "cAZYg2P8dgVSi5/6vOh4+d7qaUh9K+2dvhYz6tj04+H3swAE72ENqJkZlRR1pNta1K7ok+GwfxgR\n",
              "UsPkR810qVfjjNwzQxmGlWGU2q79NvwzJIO/9ADF8kQkXs1bTthVqnn9BU0+aHQo9nrHiS6x3oag\n",
              "XY8CiH03b8sLJ6E+SIRpW/ru6qyg8L+otpt/xQU2P37mcVCNjT8eaLw36GfHUvnLwjMFEyT1ch34\n",
              "DO6hMlhV2aKa43NoQ5TyfQMMV5zcvcFldclCTyaJz/vRTR7ewcWbrw4z0mCrZbiH2mQ8kmYK0Q7k\n",
              "h6eRC655DVKL+q9y8KlK0N+43DfzNPhWRK39BzCuhPetOzyhuSJrv7ViPd4TXv4nn5pGf3TZF/3w\n",
              "5WCb3U9eSbOXd/FFPIJVmBL+5B6niZd6O6P2hCG1agPzXY8VdVVDkusBpI8nF9WxZqYkjz1kghr4\n",
              "bM+fXCP1+bWsP/mgxpzmKm3iTVHHM1my+mXCr7mvyaimb6VY4vU8n33i9DHdN+h2cR1zGpFHRxNp\n",
              "XxcfaY/VtzdYeLrQR7ohPidxpvJ0lf5RIZ8pz45elyqkPeDVM/A8h2djPNw9H7/mZaBUqDOlZs93\n",
              "2MX0pXBIk0ECcoqyTzoGRyjyZCNQfsZ+6vJM2M8aKFJLJAdaQTRKrCjK6o0CcVf6b1iORvb70nIa\n",
              "p65GN+eXCM4z/fp5lrUvcvkUEOtB5Uis2sXlMZ6BX65R0lx63jXUUshGKPciix6c+NZ3xwGwwnio\n",
              "+eiye1cG55+DXT/1X1Q+jLeG32eigLxfNEwvE6qtuLG2hMTM/U6CVX2dYKqtrpzvkAtF1ek1z2yx\n",
              "wxc5YafAu16c4PQQyzX4Pv0AAhDd/pQG+qpp3XemnvkHpQ7YycEuKVSY8Z5V1ft2kdMzzG2evCQ0\n",
              "7J7nDvYGyz8VpU4oL1TJ9lb7xdmcFRZHS0AUCq304XdPYf8t4GV30QB65Ledk6shc5w+vlZPSvJl\n",
              "oA0AD6PbSKg6lzldAuLN6NUS4Mb67eWODOSLEwexWaW/jWH9PNOm56kNIYBwqNCFx49yh8mqJ7Bk\n",
              "HoKC0X/jJwvSYUeTNuvgXoieaunwYz6t12+WFBK+RyRvaCaZ6X+WPwk7YVnGGTziMvBvPaiS7IRX\n",
              "KmhEcobTI/frywGu7Ujjm0JGByBDbH1+mkzVttP28ZeAJh3rOyzKbGbQ4TmVGwELVxs9wRczKjVs\n",
              "LDCTs3OrmYZbtueP0hpjqaeSM7ifRm4HfeD0xD/VGINzWYxlJYtQQ8E1Ej3djWpG/BNO4j10GFMM\n",
              "O7k32wMTuMziJAMHHD7SLZ539/+7ZLxWEHW6OLBdEFaC/KdqoUFZWP3vrxOnFDb5e/0Ovml9iSx6\n",
              "0hqbtva57i1ppZFj1bD9SvvnkuQAtwAefa6oBP8O8xRlseukspkjCwBBZrmXY+iqViGhpoLFA4JF\n",
              "Q3K6PegXPl/HLkf0jGJwvMPhs80DRqb4nLzgfJvU0xz1cpMubbAbAtD9m29kjuiwM+pOVX+Le6qb\n",
              "hjy2MVI2wSJaghI3oqhzSY+O+3/pjQAZWV3fo27nUtuNQpjejto+GtGEOicRKAD7fn5VzpjhIpj/\n",
              "t02bz9J8jdkelD0Y8EuW4eUJBpMJzuIamaSffQrW+cDTlvrv4g+yNm4BkPK0omGS5DmzJg/qCCEy\n",
              "+fLpiOuwwF7jAhwj/N38GkQ5oUgiR5u5N/tgKbsLULMtFCGj74pim2jBcFnBWwTbmAQzwQvzlRWI\n",
              "6+8VH5tan/5u1WzJub4M33pFh5jSD5jWPfn+7zTgjmm6yM9aAqtvN+UgR4c6ou6qdn2H5bYiVUu6\n",
              "OVjnvv2IyJLP5/DESAHe5y866JmM23JJrmrXNlMTZiKmlNFpye13kNz/NIFm2Eq/wAm5A8br1Lc0\n",
              "jddA1C0KhTWtP7BWnry8vUYjVnQtVoySX9sXe00Jtzo2rjAy5j1cNvzoPXs8CO1t7MHG864A/Yqw\n",
              "PDIe7yeU4QA54JWob4xgoUOPgBtoV2gu7JyUxaDmOrDbC6KbqhIAAAMAAB6xAAAEj0GaImxBL/61\n",
              "KoAK4EYZGwPRDGi01F5rdSz0XlZ9rbRcwAH518lr0xH/8R+HaQZFciB5wXmrWaUykDQY6tzMUBlF\n",
              "ZdxHrjr/SGGrI25/0G26U7OY7Xgy2Cty6wsI5jskfVR8lMorMegY1cqCC4bVFHWHJdW1VDWee1V3\n",
              "hmpvBYNBWDpxAMToZqFalUpCoB7wXNNrG5uLQgc1ZitlRt5B+Xp6PxeAlUvlQA+p07d35u64Od99\n",
              "7FSdJcPc2jlUtxUxQcC37SbP1skOY1VKtwYH4tRMI/l/r7fo9FYlf0DG0edVVC3B7sXfQ8rFGzHa\n",
              "UsDNs4pUsST3og32rZUN6+r12WJ2OFB6CP2hYXcMO/u1rG3Gx9uPLbfrK0eauyMVxFSMUYH3nH8R\n",
              "wldWB4AuIENUrt7FIvwKd+oTcq2hg3FLamjG1ODPKtV6GveooBc3B5nQzxnh38RAfFVxCA1PbQ9e\n",
              "GOE8K7YcH9O6OicpV6NkZ+A1cKSetOzsgEAdLjyEblJw/fMJ5veQVjuvxt753QrrRFf2jl1tEv37\n",
              "oKBmrbVKFcZhAAADAAIKvjYtdkZfM1cnfNwP7WPlgXZ0YS1KfynUk4ckECqhGB7q4I+qqbw1Fpb5\n",
              "+ke/T/VazdSOClGLP5kggQHqr9FYh4aF7qIqyRSMEHe2qUO/tk7UqiTKYB7QqXwgy3l+NR1JUrmA\n",
              "CRkXOEqP4rxFTVhMngwgvWMEphLhrBD7GY584BBLSOQs84CUqH7SRz1U90NPlhXEWhkvA1grP+Vn\n",
              "CrURgKQJNiP8QXGE7h8SM3kLt3W+EzilVamc8JOI0VsPW/3yRjF2tJk3Lodk0tscqpj4Ik9yVk9b\n",
              "U/j77cc/oOb/ci67d2YUbmU7Z4lto/Dj629t81FulT/4sz6K0C5jF1E4Ae4KKUAkrbux74yILbfh\n",
              "3UVLaq653U5srM+6dnHolUfEHEcPTzvNmdflJPJLo9aYfqv/PHCgIh7Z2/wCSaQPgVWxVQiIkxK1\n",
              "3jNycpnP/UGoSoL+sdPE+1kYLFZ0LRpL3LR4vFuPViG4uy4nueomo+geawi4UomnsbtVyFuBkHSR\n",
              "tEbWK8z037EKvP4Qj4kEc1ufBtdNfVV7tj2t8xCxeKAkXcNVOJm6Tz21EBvCjOmwDIjEYlLi9ryH\n",
              "5VNTNLuWN/h6ZDHe12KwqmJab+/9L9YdPZLaVxgta91OWWq32ACEG6YtY00Mb1+Frtfpv4wTFt2+\n",
              "wX/y7P4R9Pxz3UIAft9VpxZWbi4OrBEr7jsKPYXHUT/WovUsc6IYpu6xpXH34PuL/2HQXrmXzgS5\n",
              "+q89VnyG9Yy9B0cFVgKOKa41IEEQ0Ji+I8vYxbaVjCnZHCOnEFUp5Aa9v6aTRmBaRQH74rQpAcoO\n",
              "PCp4KdxafTIMNSMFkO11gRVFPEcnDxHBmWQbzS5eEH4UVsZXZcO1WdzH1Vkz24JLB/jG2mF2dnb2\n",
              "0lkDxdgYbZuwthgJBW+nMDcaEDo1NmGZK+N4Bdmbm6E94Nn/HJxqF2IR5w8xyfpC1mXPSlY5pwCe\n",
              "ngZuVRZiMRHhADBa26RazJCS8AAAAZABnkF5D/8AHawhP0Gy3mfXEBb3OoANqurAd/vH/sOWKr9K\n",
              "LUFhbK2KiKoXkQjSxEVwyNFmDdMIJhEa14nZaPz9NNggVZwvW4/l/UgPshxKyfUDpqF4GTRnNW7x\n",
              "y6QJmtx1T+VMPGu3Fs88deYe55Tg/Qh8bZnYQTkOyCLHSP6YtGsgIzTQxP3GDF9md7PnCeT4hsKj\n",
              "6WBdV7deH6Vpzd9fvCi4RfsGBRHetxxTqRhVGWZTqxEnU4YQB+XnkeEzMG7RZQAL3Wa/xb2CjMcA\n",
              "AAMAAAMBWwMovyr8WX/FBPBjKkqmWOAhvfQa1CLNcNacd4p0CliwiB2Zkoiw3DxamNnCoHw6bMld\n",
              "W/0DnSbnWHmau/fcIJt3xbHirn6VhkcepsEsEkfs0lKx7XY6h9M4PzaU24XvULa0o5wB2TQzDFtB\n",
              "aoGQ0jLHFuiusd01xhhak2TQGWmkmu1vL4Fe0s7BpR4DWrRR28ynXY2k6WBf5Th00gY0YRiZhWYA\n",
              "atYS5cT3yAAAAwAJYSCWAJoBdu6HPyWVAAAC4kGaRDwhkymEEv/+tSqACQHFqtae4xwAbVqWO073\n",
              "Yejmq0nD0L1WA/ajNglDk30UHbZ8mL9irJ6fcvGxJdTfF/4ALdI/qXHL3mAJ0520N3JkpmwwXqgj\n",
              "adjZG9gZNZhJ7PdmMlxEvXkZTnf+O4plS6tpx8a+ZQ9EUxpKP8KHdqOiqLlKJXSMlEbU/n57oq9R\n",
              "VWWjUjw0vkpT2rvdHdm1pa4ADVCeqJmQkr7qpr7+Cxo4wy3dD91rAliSqSHPN1FiyZRq5AK/4/wA\n",
              "fi7QSaVTLmWToLXJMleBo6tBa9VMHRLog7WuJNJNpFUopG7mLVUt69RjGWC10DDuro2/pbYJpQO6\n",
              "sYYIJvs2o5YQvb1Ajwgg64voOi+wbKEVLqZara85mC+cuXIi6Mcc/wLxfKZQXWTLMLOHLnpdTiX3\n",
              "MLtdAj6rpjs+W1zvqapFDsaTwo/DDrvmw673ybH/LXBhYM4YQM8t22BrMTWtqiOyygt+y7u8Quei\n",
              "LURtVQdwrFuEoz4xrqOJ6waQQSp+IAouA9vCj/McqCxB8vpnYdvVOw6Yg4F7gHoriBK4LN/eov6c\n",
              "u0Ac4qQHqxSMENvrx+OmgePomiTGKKFfEcmMezYS9SGf8/kr8vRMSo+K5mOGvTcYVPY1UP+wWIJb\n",
              "eQ6e991onsTy3MSsUikPmfgB8oiiXZSVMdje8joWP2TqN6gv41J1LsJhLeoVxSnRL/ofkxUbQ33V\n",
              "cSuh2AWkspLwOMB3AyA9FF7zQWcw6RoBfiJLGmixKROvGF41bPv48JSAf37MDhUseI4M/8eccUa0\n",
              "OXa94rGbIedA9z7oXCgTZS296lBmYlN9+BB/Y8gZ9v8Y2dMbfSH+H5m1olap+rJ7nk2n/dzjkXmP\n",
              "q9Xn7S/ca4AqzRswHPanwZpsqvUUNej3Q17CtOW/pb/igd3DNq3dl3yE6Ww6Ts6obieJo6ebQLGX\n",
              "51knDwFZA3cZJRRv+aiequ3LGW9B8jvuUAAAAPQBnmNqQ/8AGTKzABtVtMEEhKZviSSB756gq5Gs\n",
              "OASkBDUpmBe9EAr5EgeBK5dkdBq8XbR1fI23HyDdF3H0j/Lj/ksEn6wbXWHfiE5oY9zm0ammtXcr\n",
              "O9z3yNKAAWEcc9B313YiXftiv8TqFV69vgzwSzY3EsN99C586V6lDq4y6j9/GXhQBt9Ff8tqH3Xy\n",
              "zm4tBZl0sDhD7OQYxLLFEGgGdJ7eA9Pkl6ksYHr7m8jc4XaPFFkQtsoxNahuavssf7DAsHZKKKQg\n",
              "tiLzc1WzhfOQgBVxqWxAs2HXofMPs0cfMvCNwFrRnR+mtqwpaRGb5qdBWhWxAAADI0GaaEnhDyZT\n",
              "Agh//qpVABW+Rq7CHh0EcMwVoygEkc5FRgiy1VAAnW2PKbPsLQSlsymuzZxrfzJQMLJ3Qg7/+F6A\n",
              "OkFgMo0e41EO7fIqhQ2rdSlajF0Vdgt/ni1cCBGNRLVQwyFriyTcjGiKG/XskQGW5uT3ZllFwd2t\n",
              "UsXR9DTRSXlordYImb1lvELRMZsbE7OjlQDxm44tJp5kw6fAdaot2myisjVMHy/IRUACn2l2osWW\n",
              "i8LwJfpNl+ARu0Wxm0xySU8hQBgMt+WuoVeftjEhtqL+mroV6BwWDzrcw6I4LG4/kP1yC7iX+ZYr\n",
              "P+vQImSMCMh2DQZog10SaQDSQz/JNShw4D9p8POap1qNzhIsgVx2LnNR6CE4Lcdzga4BsfZlTMEB\n",
              "i9e5LlJNmwtZ14MDhon9flD15GA09O0z+yzCt9Kr6jxe7qaTRFzS9no1khFnG7HNLju8umJfSD9H\n",
              "JIdfCc61MbWG2vlH87xu9vXS0jubEMRf0vfF6eF5F93Q49O7ayfmk445qqGRfUh/TFs8sNoL0CId\n",
              "4pL/DNnQz+bV8P/ITPnX4T0dP5kXNu6m6RiEeRbdVIt0okTWP7/eboxWEzAY85q+i9Vu3XANuNr8\n",
              "5Dp6Wu4LNBrygeiKMWq+R65q94/geg5IBPTV8xbXw/IbE4Uw1IVP3FR2Yx4QYmHsGxU9CD7qxui+\n",
              "fkLsM+L+OpaC2T/I9cNa9TMA5ZgyC0VBqTMfibbt/PGHuVW25y+iS9w+VpVGdy04k4UUDDRhoYn7\n",
              "v4JmEcbORdKHpED57m0WsQtQ233f3gqXV+++7IPAFTa2u1Z5LZxugEeIsKslc99Yj228Tay0HkZI\n",
              "5LnuplvnErFxw35M3YgU99dG7pmDZQfGe0myoKwWL0cJcGSfbDanskljjhINhOLmVgnoB+5069Wg\n",
              "37BXImgp1QiiQH7LFWA1fPOmRwZgU7EgGQE60LCc6YMbteGc1Ah4uR1lRfwgV7bMFSEdztCFLKKS\n",
              "TiPJdGorW9H3AqqBv+saZ+To56hdg/ozTJo+/X2oke1o/awDCWdzQPa7bfD4KL4YCEFT1cvhAAAB\n",
              "bkGehkURPBD/AA19Dpk8t5pzG75Djr6L8yip63V4ADszybQdHcoJpl8ev2zbmx1c9PDZqhn8PhXo\n",
              "z+e35PnJB/TZqZTbVT77xYrL3aYdTZv1wxGf4Lfz0eIc6uKtjcpjvLfZMZ0F6+4Z8ob/hofcyos3\n",
              "n7ha82Dsb2Db8m10OtZkIJhxEBkEOPXD+eH3h3VKZp9VJGD/k986YtXqGd35v8Wf4bG3PJFML4hS\n",
              "9kstE6b/eVDfDmK1W4TpUVAA5r/R+Zp3rcj5UMDDO2Z0YqILWu58fW9gea/UQ6BYEBYXxjC4zw4O\n",
              "mNRd+Wt4exNxv8sIiFeY25oDs23LgNkr+IhWpfRdOsVUvUvSqwIxyaWgy3DEou4uvNeuh9LlJbvr\n",
              "I1nYpyPk1B49qt/Dl3tPMa/MOikwTiPCGYrB1m4Suh3sjh/U3Wt/zt8Junxi20zEyZV6rH7HbU8a\n",
              "YVvO3J/gg5+3unMiYtI5rsLdWsb3fvsb8QAAALkBnqV0Q/8AHar2Yz0KVENjwqR71/i5fhrIAQiJ\n",
              "ub7+JR3OieiimYT7tJAmU9ob3XqSlUzdNP1mFx/dpMrbudtjpisMAgWsA6u6zF61XHNdfWx6YK11\n",
              "cCAFYSTf0sL23OAxsdot0A2zVZ1T1tW/2BFpHzz2ExNJZlQvMbGxXy4q8+QhWxGDeC4Ljo+taBG1\n",
              "eY1mQAkvV1zeNrtXUWPdC2iqLm/MJBDS52YI+V5AbXUawxXf9wMInsaBdwAAAM4BnqdqQ/8AGCws\n",
              "0iNMToTglhzwAQogNjYLMq/NPjJQ9QVM9bYQEGHXf91gfl6AcDJdNF51RxSgqjMgBuTjsppqcVPv\n",
              "iFkQAzb1nd3jBEJYXUQ+2XNsXMqEFZ9udmMr4kniFTHKD715efUhnOS1rpf+lqACZc/wgIHF5O32\n",
              "cAdw4QGeN6ydetZJjCRrR/LhR3FvXgr/S7z0FW4z866OXhctbnZhXPoH6hMYm0f0+ZNjkpSgRrsa\n",
              "xTPwQpupAjZRCOQOe7wDA0qJ/rc9a1I/5gAAANRBmqlJqEFomUwIf//+qZYAREEm0S3wAQm/46nD\n",
              "j28JrfPVfax9S6Xn9ndJsAPeGDuYMrS9Nd9MWPv9ea8ExAV+w2NrgisXqYmEezzDoABWdf0M7MnL\n",
              "f9lNTcNwC7/ZhxMSbdV1Afhnmexw38no1cNsNCNYCCQd9XA7BPm/a7PrBdTrFJoXn/nenFc0370p\n",
              "kzA7uR4fVW0n89JY3rWg5GQiDn920iKKkFmhNyUSy3kNsVnp3v3JKgPgFzkyul5+8bUFhXqCBcBb\n",
              "i6A2xrpu8zsxAJXG8AAAA6Ztb292AAAAbG12aGQAAAAAAAAAAAAAAAAAAAPoAAAH0AABAAABAAAA\n",
              "AAAAAAAAAAAAAQAAAAAAAAAAAAAAAAAAAAEAAAAAAAAAAAAAAAAAAEAAAAAAAAAAAAAAAAAAAAAA\n",
              "AAAAAAAAAAAAAAAAAAACAAAC0HRyYWsAAABcdGtoZAAAAAMAAAAAAAAAAAAAAAEAAAAAAAAH0AAA\n",
              "AAAAAAAAAAAAAAAAAAAAAQAAAAAAAAAAAAAAAAAAAAEAAAAAAAAAAAAAAAAAAEAAAAACgAAAAeAA\n",
              "AAAAACRlZHRzAAAAHGVsc3QAAAAAAAAAAQAAB9AAABAAAAEAAAAAAkhtZGlhAAAAIG1kaGQAAAAA\n",
              "AAAAAAAAAAAAACgAAABQAFXEAAAAAAAtaGRscgAAAAAAAAAAdmlkZQAAAAAAAAAAAAAAAFZpZGVv\n",
              "SGFuZGxlcgAAAAHzbWluZgAAABR2bWhkAAAAAQAAAAAAAAAAAAAAJGRpbmYAAAAcZHJlZgAAAAAA\n",
              "AAABAAAADHVybCAAAAABAAABs3N0YmwAAACzc3RzZAAAAAAAAAABAAAAo2F2YzEAAAAAAAAAAQAA\n",
              "AAAAAAAAAAAAAAAAAAACgAHgAEgAAABIAAAAAAAAAAEAAAAAAAAAAAAAAAAAAAAAAAAAAAAAAAAA\n",
              "AAAAAAAAAAAY//8AAAAxYXZjQwFkABb/4QAYZ2QAFqzZQKA9oQAAAwABAAADAAoPFi2WAQAGaOvj\n",
              "yyLAAAAAHHV1aWRraEDyXyRPxbo5pRvPAyPzAAAAAAAAABhzdHRzAAAAAAAAAAEAAAAKAAAIAAAA\n",
              "ABRzdHNzAAAAAAAAAAEAAAABAAAAYGN0dHMAAAAAAAAACgAAAAEAABAAAAAAAQAAGAAAAAABAAAI\n",
              "AAAAAAEAABgAAAAAAQAACAAAAAABAAAoAAAAAAEAABAAAAAAAQAAAAAAAAABAAAIAAAAAAEAABAA\n",
              "AAAAHHN0c2MAAAAAAAAAAQAAAAEAAAAKAAAAAQAAADxzdHN6AAAAAAAAAAAAAAAKAAAYuAAABJMA\n",
              "AAGUAAAC5gAAAPgAAAMnAAABcgAAAL0AAADSAAAA2AAAABRzdGNvAAAAAAAAAAEAAAAsAAAAYnVk\n",
              "dGEAAABabWV0YQAAAAAAAAAhaGRscgAAAAAAAAAAbWRpcmFwcGwAAAAAAAAAAAAAAAAtaWxzdAAA\n",
              "ACWpdG9vAAAAHWRhdGEAAAABAAAAAExhdmY1OC4yOS4xMDA=\n",
              "\">\n",
              "  Your browser does not support the video tag.\n",
              "</video>"
            ]
          },
          "metadata": {},
          "execution_count": 96
        },
        {
          "output_type": "display_data",
          "data": {
            "text/plain": [
              "<Figure size 640x480 with 1 Axes>"
            ],
            "image/png": "[encoded data removed]"
          },
          "metadata": {}
        }
      ]
    }
  ]
}