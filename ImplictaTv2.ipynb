{
  "nbformat": 4,
  "nbformat_minor": 0,
  "metadata": {
    "colab": {
      "provenance": [],
      "authorship_tag": "ABX9TyPx+LmwLde1qXdlha+BG89p",
      "include_colab_link": true
    },
    "kernelspec": {
      "name": "python3",
      "display_name": "Python 3"
    },
    "language_info": {
      "name": "python"
    }
  },
  "cells": [
    {
      "cell_type": "markdown",
      "metadata": {
        "id": "view-in-github",
        "colab_type": "text"
      },
      "source": [
        "<a href=\"https://colab.research.google.com/github/luiscarlosm33/SIM_YAC_UPSE2023/blob/main/ImplictaTv2.ipynb\" target=\"_parent\"><img src=\"https://colab.research.google.com/assets/colab-badge.svg\" alt=\"Open In Colab\"/></a>"
      ]
    },
    {
      "cell_type": "code",
      "execution_count": 150,
      "metadata": {
        "id": "rAAn-qguPHyt"
      },
      "outputs": [],
      "source": [
        "import numpy  as np\n",
        "import math"
      ]
    },
    {
      "cell_type": "code",
      "source": [
        "\n",
        "L=100000\n",
        "dx=5000\n",
        "Tiempo=100\n",
        "DT=1\n",
        "K=50 #Permeabilidad MD\n",
        "por=0.2\n",
        "vis=1 # centipoise\n",
        "Beta=1\n",
        "CompTotal=1*10**(-5) #ps1-1\n",
        "A=200000#ft^2"
      ],
      "metadata": {
        "id": "lzMEBdsiRYqC"
      },
      "execution_count": 167,
      "outputs": []
    },
    {
      "cell_type": "code",
      "source": [
        "Alpha=K/(vis*por*CompTotal)\n",
        "Alpha\n",
        "Eta=(Alpha*DT)/(dx**2)\n",
        "Eta"
      ],
      "metadata": {
        "colab": {
          "base_uri": "https://localhost:8080/"
        },
        "id": "QFRjhMD2RaOB",
        "outputId": "c4710b29-dedf-4789-960b-5c21986cefd8"
      },
      "execution_count": 170,
      "outputs": [
        {
          "output_type": "execute_result",
          "data": {
            "text/plain": [
              "0.9999999999999999"
            ]
          },
          "metadata": {},
          "execution_count": 170
        }
      ]
    },
    {
      "cell_type": "code",
      "source": [
        "#Condiciones inicialea\n",
        "Pyac=5\n",
        "Piz=0\n",
        "Pder=0\n",
        "Pin=np.ones((L//dx)+2)\n",
        "Qres=np.zeros((L//dx))\n",
        "Pres=np.zeros((L//dx)+2)\n",
        "Pin=Pin*Pyac\n",
        "Pin[0]=2*Piz-Pin[1]\n",
        "Pin[len(Pin)-1]=2*Pder-Pin[len(Pin)-2]\n",
        "\n",
        "Pin.shape"
      ],
      "metadata": {
        "colab": {
          "base_uri": "https://localhost:8080/"
        },
        "id": "ogdMazLTRdGb",
        "outputId": "37af83c4-a92b-4348-abae-d7046cd478fd"
      },
      "execution_count": 171,
      "outputs": [
        {
          "output_type": "execute_result",
          "data": {
            "text/plain": [
              "(22,)"
            ]
          },
          "metadata": {},
          "execution_count": 171
        }
      ]
    },
    {
      "cell_type": "code",
      "source": [
        "#Esquema Implicito\n",
        "Pimplicita=np.zeros((Tiempo//DT,(L//dx)+2))\n",
        "Qimplicita=np.zeros((Tiempo//DT,(L//dx)))\n",
        "Pres=np.zeros((L//dx)+2)\n",
        "Pin=np.ones((L//dx)+2)\n",
        "Pin=Pin*Pyac\n",
        "Pin[0]=Piz\n",
        "Pin[len(Pin)-1]=Pder\n",
        "N=(L//dx)+2\n",
        "Baccumul=A*dx*por*CompTotal/Beta\n",
        "Transmisibilidad=(K*A/(vis*Beta*dx))*6.33*10**-3\n",
        "B=np.zeros([N-2,N-2])\n",
        "T=np.zeros([N-2,N-2])\n",
        "Transmisibilidad\n"
      ],
      "metadata": {
        "id": "HIRcSVddRgj6",
        "outputId": "fe6364ca-f90f-4dcb-c839-36c1422fb37d",
        "colab": {
          "base_uri": "https://localhost:8080/"
        }
      },
      "execution_count": 172,
      "outputs": [
        {
          "output_type": "execute_result",
          "data": {
            "text/plain": [
              "12.66"
            ]
          },
          "metadata": {},
          "execution_count": 172
        }
      ]
    },
    {
      "cell_type": "code",
      "source": [
        "for i in range(0,N-2):\n",
        "  B[i,i]=Baccumul\n",
        "\n",
        "\n",
        "for i in range(0,N-2):\n",
        "  T[i,i]=2*Transmisibilidad\n",
        "  if i>0:\n",
        "    T[i,i-1]=-Transmisibilidad\n",
        "  if i<(N-3):\n",
        "    T[i,i+1]=-Transmisibilidad\n",
        "#T[0,0]=3*Transmisibilidad\n",
        "T[0,0]=2*Transmisibilidad\n",
        "T[N-3,N-3]=2*Transmisibilidad\n",
        "\n",
        "T"
      ],
      "metadata": {
        "id": "SuXutK7zRjgK",
        "outputId": "f1134450-9523-42ab-8f7f-a81b65c7e874",
        "colab": {
          "base_uri": "https://localhost:8080/"
        }
      },
      "execution_count": 183,
      "outputs": [
        {
          "output_type": "execute_result",
          "data": {
            "text/plain": [
              "array([[ 25.32, -12.66,   0.  ,   0.  ,   0.  ,   0.  ,   0.  ,   0.  ,\n",
              "          0.  ,   0.  ,   0.  ,   0.  ,   0.  ,   0.  ,   0.  ,   0.  ,\n",
              "          0.  ,   0.  ,   0.  ,   0.  ],\n",
              "       [-12.66,  25.32, -12.66,   0.  ,   0.  ,   0.  ,   0.  ,   0.  ,\n",
              "          0.  ,   0.  ,   0.  ,   0.  ,   0.  ,   0.  ,   0.  ,   0.  ,\n",
              "          0.  ,   0.  ,   0.  ,   0.  ],\n",
              "       [  0.  , -12.66,  25.32, -12.66,   0.  ,   0.  ,   0.  ,   0.  ,\n",
              "          0.  ,   0.  ,   0.  ,   0.  ,   0.  ,   0.  ,   0.  ,   0.  ,\n",
              "          0.  ,   0.  ,   0.  ,   0.  ],\n",
              "       [  0.  ,   0.  , -12.66,  25.32, -12.66,   0.  ,   0.  ,   0.  ,\n",
              "          0.  ,   0.  ,   0.  ,   0.  ,   0.  ,   0.  ,   0.  ,   0.  ,\n",
              "          0.  ,   0.  ,   0.  ,   0.  ],\n",
              "       [  0.  ,   0.  ,   0.  , -12.66,  25.32, -12.66,   0.  ,   0.  ,\n",
              "          0.  ,   0.  ,   0.  ,   0.  ,   0.  ,   0.  ,   0.  ,   0.  ,\n",
              "          0.  ,   0.  ,   0.  ,   0.  ],\n",
              "       [  0.  ,   0.  ,   0.  ,   0.  , -12.66,  25.32, -12.66,   0.  ,\n",
              "          0.  ,   0.  ,   0.  ,   0.  ,   0.  ,   0.  ,   0.  ,   0.  ,\n",
              "          0.  ,   0.  ,   0.  ,   0.  ],\n",
              "       [  0.  ,   0.  ,   0.  ,   0.  ,   0.  , -12.66,  25.32, -12.66,\n",
              "          0.  ,   0.  ,   0.  ,   0.  ,   0.  ,   0.  ,   0.  ,   0.  ,\n",
              "          0.  ,   0.  ,   0.  ,   0.  ],\n",
              "       [  0.  ,   0.  ,   0.  ,   0.  ,   0.  ,   0.  , -12.66,  25.32,\n",
              "        -12.66,   0.  ,   0.  ,   0.  ,   0.  ,   0.  ,   0.  ,   0.  ,\n",
              "          0.  ,   0.  ,   0.  ,   0.  ],\n",
              "       [  0.  ,   0.  ,   0.  ,   0.  ,   0.  ,   0.  ,   0.  , -12.66,\n",
              "         25.32, -12.66,   0.  ,   0.  ,   0.  ,   0.  ,   0.  ,   0.  ,\n",
              "          0.  ,   0.  ,   0.  ,   0.  ],\n",
              "       [  0.  ,   0.  ,   0.  ,   0.  ,   0.  ,   0.  ,   0.  ,   0.  ,\n",
              "        -12.66,  25.32, -12.66,   0.  ,   0.  ,   0.  ,   0.  ,   0.  ,\n",
              "          0.  ,   0.  ,   0.  ,   0.  ],\n",
              "       [  0.  ,   0.  ,   0.  ,   0.  ,   0.  ,   0.  ,   0.  ,   0.  ,\n",
              "          0.  , -12.66,  25.32, -12.66,   0.  ,   0.  ,   0.  ,   0.  ,\n",
              "          0.  ,   0.  ,   0.  ,   0.  ],\n",
              "       [  0.  ,   0.  ,   0.  ,   0.  ,   0.  ,   0.  ,   0.  ,   0.  ,\n",
              "          0.  ,   0.  , -12.66,  25.32, -12.66,   0.  ,   0.  ,   0.  ,\n",
              "          0.  ,   0.  ,   0.  ,   0.  ],\n",
              "       [  0.  ,   0.  ,   0.  ,   0.  ,   0.  ,   0.  ,   0.  ,   0.  ,\n",
              "          0.  ,   0.  ,   0.  , -12.66,  25.32, -12.66,   0.  ,   0.  ,\n",
              "          0.  ,   0.  ,   0.  ,   0.  ],\n",
              "       [  0.  ,   0.  ,   0.  ,   0.  ,   0.  ,   0.  ,   0.  ,   0.  ,\n",
              "          0.  ,   0.  ,   0.  ,   0.  , -12.66,  25.32, -12.66,   0.  ,\n",
              "          0.  ,   0.  ,   0.  ,   0.  ],\n",
              "       [  0.  ,   0.  ,   0.  ,   0.  ,   0.  ,   0.  ,   0.  ,   0.  ,\n",
              "          0.  ,   0.  ,   0.  ,   0.  ,   0.  , -12.66,  25.32, -12.66,\n",
              "          0.  ,   0.  ,   0.  ,   0.  ],\n",
              "       [  0.  ,   0.  ,   0.  ,   0.  ,   0.  ,   0.  ,   0.  ,   0.  ,\n",
              "          0.  ,   0.  ,   0.  ,   0.  ,   0.  ,   0.  , -12.66,  25.32,\n",
              "        -12.66,   0.  ,   0.  ,   0.  ],\n",
              "       [  0.  ,   0.  ,   0.  ,   0.  ,   0.  ,   0.  ,   0.  ,   0.  ,\n",
              "          0.  ,   0.  ,   0.  ,   0.  ,   0.  ,   0.  ,   0.  , -12.66,\n",
              "         25.32, -12.66,   0.  ,   0.  ],\n",
              "       [  0.  ,   0.  ,   0.  ,   0.  ,   0.  ,   0.  ,   0.  ,   0.  ,\n",
              "          0.  ,   0.  ,   0.  ,   0.  ,   0.  ,   0.  ,   0.  ,   0.  ,\n",
              "        -12.66,  25.32, -12.66,   0.  ],\n",
              "       [  0.  ,   0.  ,   0.  ,   0.  ,   0.  ,   0.  ,   0.  ,   0.  ,\n",
              "          0.  ,   0.  ,   0.  ,   0.  ,   0.  ,   0.  ,   0.  ,   0.  ,\n",
              "          0.  , -12.66,  25.32, -12.66],\n",
              "       [  0.  ,   0.  ,   0.  ,   0.  ,   0.  ,   0.  ,   0.  ,   0.  ,\n",
              "          0.  ,   0.  ,   0.  ,   0.  ,   0.  ,   0.  ,   0.  ,   0.  ,\n",
              "          0.  ,   0.  , -12.66,  25.32]])"
            ]
          },
          "metadata": {},
          "execution_count": 183
        }
      ]
    },
    {
      "cell_type": "code",
      "source": [
        "Matriz_resolucion=np.zeros_like(T)\n",
        "Vector_sol=np.zeros_like(Pin[1:-1])\n",
        "Matriz_resolucion=T+(B/DT)\n",
        "Vector_sol=np.matmul(B/DT,Pin[1:-1])\n",
        "#Pres=[]\n",
        "\n",
        "Q=np.zeros_like(Vector_sol)\n",
        "Q[0]=2*Transmisibilidad*Piz\n",
        "Vector_sol=Vector_sol+Q\n",
        "Vector_sol\n",
        "Transmisibilidad"
      ],
      "metadata": {
        "id": "4vXaoHN1VUaX",
        "outputId": "9a40da1c-47d0-4134-e19a-4141bfff6f00",
        "colab": {
          "base_uri": "https://localhost:8080/"
        }
      },
      "execution_count": 184,
      "outputs": [
        {
          "output_type": "execute_result",
          "data": {
            "text/plain": [
              "12.66"
            ]
          },
          "metadata": {},
          "execution_count": 184
        }
      ]
    },
    {
      "cell_type": "code",
      "source": [
        "Pcal=np.linalg.solve(Matriz_resolucion,Vector_sol)"
      ],
      "metadata": {
        "id": "yDbMhP_cVj2-"
      },
      "execution_count": 185,
      "outputs": []
    },
    {
      "cell_type": "code",
      "source": [
        "Pcal"
      ],
      "metadata": {
        "id": "8hEneq85mpsH",
        "outputId": "aa26a0ad-191f-47e6-af53-6c1afb2f7a71",
        "colab": {
          "base_uri": "https://localhost:8080/"
        }
      },
      "execution_count": 186,
      "outputs": [
        {
          "output_type": "execute_result",
          "data": {
            "text/plain": [
              "array([4.96874446, 4.99980462, 4.99999878, 4.99999999, 5.        ,\n",
              "       5.        , 5.        , 5.        , 5.        , 5.        ,\n",
              "       5.        , 5.        , 5.        , 5.        , 5.        ,\n",
              "       5.        , 4.99999999, 4.99999878, 4.99980462, 4.96874446])"
            ]
          },
          "metadata": {},
          "execution_count": 186
        }
      ]
    },
    {
      "cell_type": "code",
      "source": [
        "Vector_sol"
      ],
      "metadata": {
        "colab": {
          "base_uri": "https://localhost:8080/"
        },
        "id": "GCpISbyUYlP9",
        "outputId": "b966ce5c-2143-4cac-abd2-94021370d2c1"
      },
      "execution_count": 187,
      "outputs": [
        {
          "output_type": "execute_result",
          "data": {
            "text/plain": [
              "array([10000., 10000., 10000., 10000., 10000., 10000., 10000., 10000.,\n",
              "       10000., 10000., 10000., 10000., 10000., 10000., 10000., 10000.,\n",
              "       10000., 10000., 10000., 10000.])"
            ]
          },
          "metadata": {},
          "execution_count": 187
        }
      ]
    },
    {
      "cell_type": "code",
      "source": [
        "Qimplicita[0]=Q\n",
        "t=DT\n",
        "while t<Tiempo:\n",
        "  Pcal=np.linalg.solve(Matriz_resolucion,Vector_sol)\n",
        "  Pres=np.concatenate(([Piz],Pcal,[Pder]))\n",
        "  Pimplicita[t//DT]=Pres\n",
        "  Vector_sol=np.matmul(B/DT,Pcal)+Q\n",
        "  Qimplicita[t//DT]=Vector_sol\n",
        "  t=t+DT"
      ],
      "metadata": {
        "id": "aYKR1trZYmnY"
      },
      "execution_count": 188,
      "outputs": []
    },
    {
      "cell_type": "code",
      "source": [],
      "metadata": {
        "id": "kODCV8mJcCGR"
      },
      "execution_count": 188,
      "outputs": []
    },
    {
      "cell_type": "code",
      "source": [
        "import matplotlib.pyplot as plt\n",
        "\n",
        "imgplot = plt.imshow(Qimplicita,aspect='auto')\n",
        "plt.colorbar()\n"
      ],
      "metadata": {
        "colab": {
          "base_uri": "https://localhost:8080/",
          "height": 452
        },
        "id": "FMJHvMeVb3SD",
        "outputId": "c7855c01-35fb-46f5-93c3-be9f76959f01"
      },
      "execution_count": 189,
      "outputs": [
        {
          "output_type": "execute_result",
          "data": {
            "text/plain": [
              "<matplotlib.colorbar.Colorbar at 0x7f40ef835f60>"
            ]
          },
          "metadata": {},
          "execution_count": 189
        },
        {
          "output_type": "display_data",
          "data": {
            "text/plain": [
              "<Figure size 640x480 with 2 Axes>"
            ],
            "image/png": "[encoded data removed]"
          },
          "metadata": {}
        }
      ]
    },
    {
      "cell_type": "code",
      "source": [
        "Qimplicita.shape"
      ],
      "metadata": {
        "id": "seTAsxd5sVbs",
        "outputId": "799f239e-a1cf-449f-ca3e-9e36d08c1a89",
        "colab": {
          "base_uri": "https://localhost:8080/"
        }
      },
      "execution_count": 190,
      "outputs": [
        {
          "output_type": "execute_result",
          "data": {
            "text/plain": [
              "(100, 20)"
            ]
          },
          "metadata": {},
          "execution_count": 190
        }
      ]
    },
    {
      "cell_type": "code",
      "source": [
        "import matplotlib.pyplot as plt\n",
        "\n",
        "imgplot = plt.imshow(Pimplicita,aspect='auto')\n",
        "plt.colorbar()"
      ],
      "metadata": {
        "id": "7w25zkWHb9OF",
        "outputId": "b61002ea-cff6-4037-c32c-e5fc26e3bcd2",
        "colab": {
          "base_uri": "https://localhost:8080/",
          "height": 452
        }
      },
      "execution_count": 191,
      "outputs": [
        {
          "output_type": "execute_result",
          "data": {
            "text/plain": [
              "<matplotlib.colorbar.Colorbar at 0x7f40ef70bbb0>"
            ]
          },
          "metadata": {},
          "execution_count": 191
        },
        {
          "output_type": "display_data",
          "data": {
            "text/plain": [
              "<Figure size 640x480 with 2 Axes>"
            ],
            "image/png": "[encoded data removed]"
          },
          "metadata": {}
        }
      ]
    },
    {
      "cell_type": "code",
      "source": [],
      "metadata": {
        "id": "nfkyMK3irTiX"
      },
      "execution_count": 35,
      "outputs": []
    }
  ]
}